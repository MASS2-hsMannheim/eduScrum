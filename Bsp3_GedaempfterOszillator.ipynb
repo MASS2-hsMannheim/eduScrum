{
 "cells": [
  {
   "cell_type": "markdown",
   "metadata": {},
   "source": [
    "![alt text](Bilder/Logo_HS_Mannheim2.png \"Logo\")"
   ]
  },
  {
   "cell_type": "markdown",
   "metadata": {},
   "source": [
    "## Inhalte dieses Kurses\n",
    "\n",
    "- [Erste Schritte](Erste_Schritte.ipynb)\n",
    "- [Python installieren und ausführen](Installation.ipynb)\n",
    "- [Sprint 1: Grundlagen und Numpy](Sprint1.ipynb)\n",
    "- [Sprint 2: Grafiken mit Matplotlib](Sprint2.ipynb)\n",
    "- [Sprint 3: Datenanalyse](Sprint3.ipynb)\n",
    "- [Übungsnotebook zu Booklets 4-6](Übungsnotebook.ipynb)\n",
    "\n",
    "*Optional:*\n",
    "- [*Sprint 4: Sympy*](Sprint4.ipynb)\n",
    "- [*Sprint 5: Funktionen*](Sprint5.ipynb)\n",
    "- [*Sprint 6: Komplexe Zahlen*](Sprint6.ipynb)\n",
    "- [*Beispiel 1: Schwingungen und komplexe Zahlen*](Bsp1_SchwingungenUndKomplexeZahlen.ipynb)\n",
    "- [*Beispiel 2: Harmonischer Oszillator*](Bsp2_HarmonischerOszillator.ipynb)\n",
    "- [**Beispiel 3: Gedämpfter Oszillator**](Bsp3_GedaempfterOszillator.ipynb)\n",
    "- [*Beispiel 4: Erzwungene Schwingung*](Bsp4_ErzwungeneSchwingungen.ipynb)"
   ]
  },
  {
   "cell_type": "markdown",
   "metadata": {},
   "source": [
    "## Gedämpfter Oszillator (GO)\n",
    "\n",
    "### Die Bewegungsgeichung\n",
    "\n",
    "Allgemein haben wir eine Bewegungsgleichung zu lösen:    \n",
    "\n",
    "\\begin{aligned}\n",
    "m\\frac{d^2x}{dt^2}=−kx−\\beta\\frac{dx}{dt} \n",
    "\\end{aligned}\n",
    "\n",
    "Wir berücksichtigen, dass im Fall $\\beta$=0 (ungedämpfe Schwingungen) $\\omega_0=\\sqrt{\\frac{k}{m}}$ gilt. Weiterhin setzen wir $\\frac{\\beta}{2m}=\\delta$: \n",
    "\n",
    "\\begin{aligned}\n",
    "\\frac{d^2x}{dt^2}+\\omega_0^2 x + 2 \\delta \\frac{dx}{dt} = 0 \n",
    "\\end{aligned}\n"
   ]
  },
  {
   "cell_type": "code",
   "execution_count": null,
   "metadata": {
    "scrolled": true
   },
   "outputs": [],
   "source": [
    "# wie immer:\n",
    "%matplotlib notebook \n",
    "import matplotlib.pyplot as plt \n",
    "\n",
    "# numpy importieren\n",
    "import numpy as np\n",
    "\n",
    "# sympy importieren\n",
    "import sympy as sy"
   ]
  },
  {
   "cell_type": "markdown",
   "metadata": {},
   "source": [
    "### Lösung der Bewegungsgleichung\n",
    "\n",
    "Wir nehmen den gleichen Lösungsweg wie beim [harmonischen Oszillator](Bsp2_HarmonischerOszillator.ipynb)"
   ]
  },
  {
   "cell_type": "code",
   "execution_count": null,
   "metadata": {},
   "outputs": [],
   "source": [
    "# Symbole definieren\n",
    "t = sy.symbols('t', real=True)\n",
    "w0, d = sy.symbols('\\omega_0 \\delta', real=True, positive=True)\n",
    "\n",
    "# Funktion X_GO definieren\n",
    "X_GO = sy.Function('X_GO')\n",
    "\n",
    "# Bewegungsgleichung definieren\n",
    "Gleichung_GO = sy.diff(X_GO(t), t, 2) + w0**2*X_GO(t) + 2*d*sy.diff(X_GO(t), t)\n",
    "\n",
    "# Bewegungsgleichung mit 'dsolve' lösen\n",
    "x_los_GO=sy.dsolve(Gleichung_GO) #x_los_GO: Lösung\n",
    "\n",
    "##### in der Lösung, ähnlich wie beim harmonischen Oszillator, kommen zwei Konstanten C_1 und C_2 vor.\n",
    "##### Diese bestimmen wir anhand der Anfangsbedingungen: des Ortes x0 und der Geschwidigkeit v0 zur Zeit t=0 \n",
    "\n",
    "# Symbole x0, v0 für Anfangsort und Anfangsgeschwindigkeit definieren \n",
    "x0, v0 = sy.symbols('x0 v0',real=True)\n",
    "\n",
    "# Gleichungssystem definieren\n",
    "equations = [\n",
    "    sy.Eq(x_los_GO.rhs.subs(t,0).evalf(), x0),# t->0 ersetzen in der rhs (right-hand-side), rechten Seite der Lösung \n",
    "    sy.Eq(sy.diff(x_los_GO.rhs,t).subs(t,0).evalf(), v0 )\n",
    "]\n",
    "\n",
    "#Gleichungssystem lösen lassen\n",
    "Konstanten_GO=sy.solve(equations)\n",
    "\n",
    "# Konstanten in der x_los_GO Lösung einsetzen\n",
    "x_los_GO_full=x_los_GO.subs(Konstanten_GO[0]).evalf() #x_los_GO_full: vollständige Lösung"
   ]
  },
  {
   "cell_type": "markdown",
   "metadata": {},
   "source": [
    "### Startbedingungen\n",
    "\n",
    "\n"
   ]
  },
  {
   "cell_type": "code",
   "execution_count": null,
   "metadata": {},
   "outputs": [],
   "source": [
    "v0_GO=0     # v0: Geschwindigkeit am Anfang\n",
    "x0_GO=10    # x0: Ort an Anfang"
   ]
  },
  {
   "cell_type": "markdown",
   "metadata": {},
   "source": [
    "### Systemparameter\n"
   ]
  },
  {
   "cell_type": "code",
   "execution_count": null,
   "metadata": {},
   "outputs": [],
   "source": [
    "omega_GO=20     # Kreisfrequenz ungedämpfte Schwingung\n",
    "d0=50           # Dämpfungsterm: delta in der Bewegungsgleichung oben   "
   ]
  },
  {
   "cell_type": "markdown",
   "metadata": {},
   "source": [
    "Realteil der Lösung nehmen,    \n",
    "Symbole $\\omega_0$, $\\delta$, $v_0$, $x_0$ durch Zahlen ersetzen: "
   ]
  },
  {
   "cell_type": "code",
   "execution_count": null,
   "metadata": {},
   "outputs": [],
   "source": [
    "x_GO_t=sy.re(x_los_GO_full.rhs).subs({w0: omega_GO, d: d0, v0: v0_GO, x0: x0_GO}).evalf()"
   ]
  },
  {
   "cell_type": "markdown",
   "metadata": {},
   "source": [
    "### Zeitskala"
   ]
  },
  {
   "cell_type": "code",
   "execution_count": null,
   "metadata": {},
   "outputs": [],
   "source": [
    "tt_GO=np.linspace(0,2,400)"
   ]
  },
  {
   "cell_type": "markdown",
   "metadata": {},
   "source": [
    "Zeit Symbol durch die Zeitskala ersetzen"
   ]
  },
  {
   "cell_type": "code",
   "execution_count": null,
   "metadata": {},
   "outputs": [],
   "source": [
    "# Ort\n",
    "x_GO_tt=[x_GO_t.subs({t: tn}).evalf() for tn in tt_GO]# Symbol t durch Werte aus dem Zeitbereich tt_GO ersetzen\n",
    "# Geschwindigkeit \n",
    "v_GO_tt=[sy.diff(x_GO_t,t).subs({t: tn}).evalf() for tn in tt_GO]\n",
    "# Beschlenigung \n",
    "a_GO_tt=[sy.diff(x_GO_t,t,2).subs({t: tn}).evalf() for tn in tt_GO]"
   ]
  },
  {
   "cell_type": "markdown",
   "metadata": {},
   "source": [
    "### Graphische Darstellung der Lösung"
   ]
  },
  {
   "cell_type": "code",
   "execution_count": null,
   "metadata": {
    "scrolled": false
   },
   "outputs": [],
   "source": [
    "#plt.figure() # neues Fenster, IMMER ein mal für eine neue interaktive Grafik \n",
    "\n",
    "f,ax=plt.subplots(3,1,figsize=(10,10), sharex='col')\n",
    "\n",
    "# Ort\n",
    "ax[0].plot(tt_GO, x_GO_tt, 'r',label='x(t)') \n",
    "ax[0].set_title('Gedämpfter Oszillator, ' +'$\\omega_O$=' + str(omega_GO) + ', ' + '$\\delta$=' + str(d0) )#Titel   \n",
    "ax[0].legend();               # fügt die Legende ein\n",
    "ax[0].set_ylabel('Ort')       # fügt y-Achsenbeschriftung ein  \n",
    "ax[0].grid()             \n",
    "\n",
    "# Geschwindigkeit\n",
    "ax[1].plot(tt_GO, v_GO_tt, 'b',label='v(t)') \n",
    "ax[1].legend();                     # fügt die Legende ein\n",
    "ax[1].set_ylabel('Geschwindigkeit') # fügt y-Achsenbeschriftung ein  \n",
    "ax[1].grid() \n",
    "\n",
    "# Beschleunigung\n",
    "ax[2].plot(tt_GO, a_GO_tt, 'g',label='a(t)') \n",
    "ax[2].legend()                     # fügt die Legende ein\n",
    "ax[2].set_ylabel('Beschleunigung') # fügt y-Achsenbeschriftung ein\n",
    "ax[2].grid() \n",
    "\n",
    "ax[2].set_xlabel('Zeit');          # fügt x-Achsenbeschriftung ein"
   ]
  }
 ],
 "metadata": {
  "kernelspec": {
   "display_name": "Python 3",
   "language": "python",
   "name": "python3"
  },
  "language_info": {
   "codemirror_mode": {
    "name": "ipython",
    "version": 3
   },
   "file_extension": ".py",
   "mimetype": "text/x-python",
   "name": "python",
   "nbconvert_exporter": "python",
   "pygments_lexer": "ipython3",
   "version": "3.8.3"
  }
 },
 "nbformat": 4,
 "nbformat_minor": 2
}
