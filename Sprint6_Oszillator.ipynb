{
 "cells": [
  {
   "cell_type": "markdown",
   "metadata": {},
   "source": [
    "![alt text](Bilder/Logo_HS_Mannheim2.png \"Logo\")"
   ]
  },
  {
   "cell_type": "markdown",
   "metadata": {},
   "source": [
    "## Inhalte dieses Kurses\n",
    "\n",
    "- [Erste Schritte](Erste_Schritte.ipynb)\n",
    "- [Python installieren und ausführen](Installation.ipynb)\n",
    "\n",
    "\n",
    "- [Sprint 1: Grundlagen und Numpy](Sprint1.ipynb)\n",
    "- [Sprint 2: Grafiken mit Matplotlib](Sprint2.ipynb)\n",
    "- [Sprint 3: Datenanalyse](Sprint3.ipynb)\n",
    "- [Sprint 4: Sympy](Sprint4.ipynb)\n",
    "- [Sprint 5: Funktionen](Sprint5.ipynb)\n",
    "- [Sprint 6: Komplexe Zahlen](Sprint6.ipynb)\n",
    "- [**Sprint 6extras: Schwingungen und komplexe Zahlen**](Sprint6_Oszillator.ipynb)"
   ]
  },
  {
   "cell_type": "markdown",
   "metadata": {},
   "source": [
    "# Sprint 6\n",
    "# Schwingungen und komplexe Zahlen\n",
    "\n",
    "In diesem Sprint lösen wir die Bewegungsgleichungen des harmonischen und gedämpften Oszillators mithilfe von `sympy`. \n",
    "Danach zeigen wir Ihnen, wie man Schwingungen mit komplexen Zahlen darstellen kann.  \n",
    "Hier haben wir keine besonderen Aufgaben für Sie vorgesehen. Wir ermutigen Sie, mit den Daten zu spielen und Änderungen zu beobachten, wenn diverse Parameter variiert werden. "
   ]
  },
  {
   "cell_type": "code",
   "execution_count": null,
   "metadata": {
    "scrolled": true
   },
   "outputs": [],
   "source": [
    "# wie immer:\n",
    "\n",
    "%matplotlib notebook \n",
    "import matplotlib.pyplot as plt \n",
    "from matplotlib import animation  # für Animationen  \n",
    "\n",
    "# numpy importieren\n",
    "import numpy as np\n",
    "\n",
    "# sympy importieren\n",
    "import sympy as sy"
   ]
  },
  {
   "cell_type": "markdown",
   "metadata": {},
   "source": [
    "## 1. Harmonischer Oszillator (HO)\n",
    "### Lösung der Bewegungsgeichung\n",
    "\n",
    "   \n",
    "Allgemein haben wir eine Bewegungsgleichung zu lösen:    \n",
    "\n",
    "\\begin{aligned}\n",
    "m\\frac{d^2x}{dt^2}+kx=0 \n",
    "\\end{aligned}    \n",
    "\n",
    "Wir berücksichtigen, dass $\\omega_0=\\sqrt{\\frac{k}{m}}$ gilt: \n",
    "\n",
    "\\begin{aligned}\n",
    "\\frac{d^2x}{dt^2}+\\omega^2 x=0 \n",
    "\\end{aligned}    \n",
    "\n",
    "Wir lösen diese Gleichung mit Hilfe von `sympy`, das wir Ihnen näher in [Sprint4](Sprint4.ipynb) vorgestellt haben. In [diesem Video](https://www.youtube.com/watch?v=3-9Ys1_EwwU) können Sie erfahren, wie man in `sympy` allgemein eine Bewegungsgleichung lösen kann.   "
   ]
  },
  {
   "cell_type": "code",
   "execution_count": null,
   "metadata": {
    "scrolled": true
   },
   "outputs": [],
   "source": [
    "# Symbole definieren\n",
    "t = sy.symbols('t', real=True)\n",
    "w0 = sy.symbols('\\omega_0 ', real=True, positive=True)\n",
    "\n",
    "# Funktion Z_HO definieren\n",
    "Z_HO = sy.Function('Z_HO')\n",
    "\n",
    "# Terme der Gleichung geben\n",
    "Term1=sy.diff(Z_HO(t),t,2)\n",
    "Term2=w0**2*Z_HO(t)"
   ]
  },
  {
   "cell_type": "markdown",
   "metadata": {},
   "source": [
    "Eine Bewegungsgleichung löst man in `sympy` mit der Methode `dsolve`:"
   ]
  },
  {
   "cell_type": "code",
   "execution_count": null,
   "metadata": {},
   "outputs": [],
   "source": [
    "z_los_HO=sy.dsolve(Term1+Term2) #z_los_HO: Lösung der Bewegungsgleichung des harmonischen Oszillators\n",
    "z_los_HO"
   ]
  },
  {
   "cell_type": "markdown",
   "metadata": {},
   "source": [
    "Jetzt müssen noch Konstanten $C_1$ und $C_2$ anhand der Anfangsbedingungen für $t=0:$ $Z_{HO}(0)=z_0$ und $Z_{HO}'(0)=v_0$ bestimmt werden.  \n",
    "Dazu müssen wir   \n",
    "- die rechte Seite (`rhs`-Funktion) der obigen Gleichung für t=0 gleich $z_0$ setzen\n",
    "- die Ableitung der rechten Seite für t=0 gleich $v_0$ setzen\n",
    "\n",
    "und beide Geichungen lösen"
   ]
  },
  {
   "cell_type": "code",
   "execution_count": null,
   "metadata": {},
   "outputs": [],
   "source": [
    "# Symbole z0, v0 definieren\n",
    "z0, v0 = sy.symbols('z0 v0', real=True)\n",
    "# Gleichungssystem definieren\n",
    "equations = [\n",
    "    sy.Eq(z_los_HO.rhs.subs(t,0).evalf(), z0),# t->0 ersetzen in der rhs (right-hand-side), rechten Seite der Lösung \n",
    "    sy.Eq(sy.diff(z_los_HO.rhs,t).subs(t,0).evalf(), v0 )\n",
    "]\n",
    "# Gleichungssystem lösen lassen\n",
    "Konstanten_HO=sy.solve(equations)\n",
    "# Konstanten in der Lösung einsetzen\n",
    "z_los_HO_full=z_los_HO.subs(Konstanten_HO[0]).evalf() #z_los_HO_full: vollständige Lösung\n",
    "z_los_HO_full"
   ]
  },
  {
   "cell_type": "markdown",
   "metadata": {},
   "source": [
    "### Berechnung der Geschwindigkeit und Beschleunigung\n",
    "\n",
    "Als Lösung der Bewegungsgleichung haben wir den Ort (die Position) des harmonischen Oszillators als Funktion der Zeit erhalten.    \n",
    "Jetzt möchten wir noch die Geschwindigkeit und Beschleunigung bestimmen. Diese Funktionen erhalten wir durch Ableiten der Lösungen nach Zeit:  \n",
    "\n",
    "$v_{HO}(t)=Z_{HO}'(t)$ und $a_{HO}(t)=v_{HO}'(t)$, \n",
    "\n",
    "wozu wir wieder die Methode `sy.diff` benutzen werden:"
   ]
  },
  {
   "cell_type": "code",
   "execution_count": null,
   "metadata": {},
   "outputs": [],
   "source": [
    "# Geschwindigkeit, als Ableitung der rechten Seite der letzten Gleichung nach Zeit\n",
    "v_HO=sy.diff(z_los_HO_full.rhs,t)\n",
    "v_HO"
   ]
  },
  {
   "cell_type": "code",
   "execution_count": null,
   "metadata": {},
   "outputs": [],
   "source": [
    "# Beschleunigung, als Ableitung der Geschwindigkeit\n",
    "a_HO=sy.diff(v_HO,t)\n",
    "a_HO"
   ]
  },
  {
   "cell_type": "markdown",
   "metadata": {},
   "source": [
    "### Graphische Darstellung der Lösung"
   ]
  },
  {
   "cell_type": "markdown",
   "metadata": {},
   "source": [
    "**Ihre Aufgabe:**\n",
    "Versuchen Sie die angegebenen Parameter zu ändern und beobachten Sie dabei Änderungen in den Grafiken unten.    \n",
    "\n",
    "*Hinweis: $v_{0_{HO}}$ und $z_{0_{HO}}$ können auch negative Werte annehmen*\n",
    "      \n",
    "- welche Werte haben Geschwindigkeit und Beschleunigung bei maximaler Auslenkung und bei Auslenkung=0?\n",
    "- wie ist die Phase der Beschleunigung im Vergleich zur Ortsphase? (siehe auch die letzten Gleichungen)"
   ]
  },
  {
   "cell_type": "code",
   "execution_count": null,
   "metadata": {
    "scrolled": false
   },
   "outputs": [],
   "source": [
    "# konkrete Zahlen, um Schwingungen zu plotten:\n",
    "omega_HO=2*2*sy.pi                # Kreisfrequenz \n",
    "v0_HO=100                         # v0 Wert\n",
    "z0_HO=10                          # z0 Wert\n",
    "tt=np.linspace(0,2,100)           # Zeitbereich tt zum Zeichnen \n",
    "\n",
    "# Symbole w0,v0, z0 durch Zahlen ersetzen\n",
    "z_HO_t=z_los_HO_full.rhs.subs({w0: omega_HO, v0: v0_HO, z0: z0_HO}).evalf()\n",
    "\n",
    "# Ort\n",
    "z_HO_tt=[z_HO_t.subs({t: tn}).evalf() for tn in tt] # Symbol t durch Werte aus dem Zeitbereich tt ersetzen\n",
    "# Geschwindigkeit \n",
    "v_HO_tt=[sy.diff(z_HO_t,t).subs({t: tn}).evalf() for tn in tt]\n",
    "# Beschlenigung \n",
    "a_HO_tt=[sy.diff(z_HO_t,t,2).subs({t: tn}).evalf() for tn in tt]\n",
    "\n",
    "#plt.figure() # neues Fenster, IMMER ein mal für eine neue interaktive Grafik \n",
    "\n",
    "f,ax=plt.subplots(3,1,figsize=(8,5))\n",
    "\n",
    "# Ort\n",
    "ax[0].plot(tt, z_HO_tt, 'r',label='x(t)') \n",
    "ax[0].set_title('Harmonischer Oszillator')     # fügt Titel ein   \n",
    "ax[0].legend();               # fügt die Legende ein\n",
    "ax[0].set_ylabel('Ort') # fügt y-Achsenbeschriftung ein  \n",
    "ax[0].grid()             \n",
    "\n",
    "# Geschwindigkeit\n",
    "ax[1].plot(tt, v_HO_tt, 'b',label='v(t)') \n",
    "ax[1].legend();               # fügt die Legende ein\n",
    "ax[1].set_ylabel('Geschwindigkeit') # fügt y-Achsenbeschriftung ein  \n",
    "ax[1].grid() \n",
    "\n",
    "# Beschleunigung\n",
    "ax[2].plot(tt, a_HO_tt, 'g',label='a(t)') \n",
    "ax[2].legend()               # fügt die Legende ein\n",
    "ax[2].set_ylabel('Beschleunigung') #fügt y-Achsenbeschriftung ein\n",
    "ax[2].grid() \n",
    "\n",
    "ax[2].set_xlabel('Zeit'); #fügt x-Achsenbeschriftung ein"
   ]
  },
  {
   "cell_type": "markdown",
   "metadata": {},
   "source": [
    "## 2. Gedämpfter Oszillator (GO)\n",
    "\n",
    "### Lösung der Bewegungsgeichung\n",
    "\n",
    "Allgemein haben wir eine Bewegungsgleichung zu lösen:    \n",
    "\n",
    "\\begin{aligned}\n",
    "m\\frac{d^2x}{dt^2}=−kx−\\delta\\frac{dx}{dt} \n",
    "\\end{aligned}\n",
    "\n",
    "Wir berücksichtigen, dass im Fall $\\delta$=0 (ungedämpfe Schwingungen) $\\omega_0=\\sqrt{\\frac{k}{m}}$ gilt. Weiterhin setzen wir $\\frac{\\delta}{2m}=b$: \n",
    "\n",
    "\\begin{aligned}\n",
    "\\frac{d^2x}{dt^2}+\\omega_0^2 x + 2 b \\frac{dx}{dt} = 0 \n",
    "\\end{aligned}\n",
    "\n",
    "Wir lösen die Bewegungsgleichung und plotten Lösungen für    \n",
    "a) schwach gedämpfte Schwingungen $\\omega_0>b$    \n",
    "b) stark gedämpfte Schwingungen $\\omega_0<b$ "
   ]
  },
  {
   "cell_type": "code",
   "execution_count": null,
   "metadata": {},
   "outputs": [],
   "source": [
    "# Symbole definieren\n",
    "t = sy.symbols('t', real=True)\n",
    "w0, b = sy.symbols('\\omega_0 b', real=True, positive=True)\n",
    "# Funktion Z_GO definieren\n",
    "Z_GO = sy.Function('Z_GO')\n",
    "# Terme der Gleichung definieren\n",
    "Term1=sy.diff(Z_GO(t),t,2)\n",
    "Term2=w0**2*Z_GO(t)\n",
    "Term3=2*b*sy.diff(Z_GO(t),t)\n",
    "# Bewegungsgleichung mit 'dsolve' lösen\n",
    "z_los_GO=sy.dsolve(Term1+Term2+Term3) #z_los_GO: Lösung\n",
    "z_los_GO"
   ]
  },
  {
   "cell_type": "markdown",
   "metadata": {},
   "source": [
    "Konstanten $C_1$ und $C_2$ anhand der Anfangsbedingungen für $t=0:$ $Z_{GO}(0)=z_0$ und $Z_{GO}'(0)=v_0$ bestimmen.  "
   ]
  },
  {
   "cell_type": "code",
   "execution_count": null,
   "metadata": {
    "scrolled": true
   },
   "outputs": [],
   "source": [
    "# Symbole z0, v0 definieren\n",
    "z0, v0 = sy.symbols('z0 v0',real=True)\n",
    "# Gleichungssystem definieren\n",
    "equations = [\n",
    "    sy.Eq(z_los_GO.rhs.subs(t,0).evalf(), z0),# t->0 ersetzen in der rhs (right-hand-side), rechten Seite der Lösung \n",
    "    sy.Eq(sy.diff(z_los_GO.rhs,t).subs(t,0).evalf(), v0 )\n",
    "]\n",
    "#Gleichungssystem lösen lassen\n",
    "Konstanten_GO=sy.solve(equations)\n",
    "# Konstanten in der z_los_GO Lösung einsetzen\n",
    "z_los_GO_full=z_los_GO.subs(Konstanten_GO[0]).evalf() #z_los_GO_full: vollständige Lösung\n",
    "z_los_GO_full"
   ]
  },
  {
   "cell_type": "markdown",
   "metadata": {},
   "source": [
    "<font color='blue'> \n",
    "### Keine Dämpfung, b=0: \n",
    "### ist diese Lösung der Lösung des 1.harmonischen Oszillators gleich? </font>"
   ]
  },
  {
   "cell_type": "code",
   "execution_count": null,
   "metadata": {},
   "outputs": [],
   "source": [
    "z_los_GO_full.subs(b,0).evalf()"
   ]
  },
  {
   "cell_type": "markdown",
   "metadata": {},
   "source": [
    "<div class=\"pull-left\"> \n",
    "<img src=\"Bilder/Achtung_schild.png\" width=\"50\">   \n",
    "</div>  \n",
    "\n",
    "`sympy` liefert uns für Dämpfung b=0 eine komplexe Lösung. \n",
    "\n",
    "Es liegt daran, dass in der allgemeinen Lösung $Z_{GO} (t)$ \n",
    " ein $\\sqrt{-\\smash{w_0}^2 + b^2}$ - Faktor vorkommt. Der ist für schwache oder keine Dämpfung rein imäginar. Wie man diese komplexe Lösung umwandelt und daraus doch eine reelle Lösung bekommt, lernen Sie im ca.3.ten Semester oder, wenn Sie Lust haben, öffnen Sie mit Doppelklick diese notebook-Zelle, entfernen Sie unten `<!--` und `-->`, und drücken Strg-Enter um diese Zelle auszuführen.\n",
    "\n",
    "Da die Lösung für alle Fälle im Endeffekt reell ist, können wir jetzt schon den Realteil der Lösung nehmen.   \n",
    "Für $b=0$ erhalten wir zu unserer Erleichtung die gleiche Lösung, wie oben beim harmonischen Oszillator $Z_{HO} (t)$: \n",
    " \n",
    "<!--\n",
    "Wir ersetzen für schwäche Dämpfung den rein imäginaren Faktor $\\sqrt{b^2 - \\smash{w_0}^2}$ in der $Z_{GO}(t)$ Lösung mit \n",
    "\n",
    "\\begin{array}{cclcl}\n",
    "\\sqrt{b^2 - \\smash{w_0}^2} = i \\cdot \\sqrt{\\smash{w_0}^2 - b^2} =: i \\cdot \\smash{w}_G, \n",
    "\\end{array}\n",
    "\n",
    "wo $w_G$ die Kreisfrequenz des schwachgedämpften Oszillators ist.\n",
    "\n",
    "Weiterhin sortieren wir die $Z_{GO}(t)$ Lösung nach gemeinsammen Amplituden, statt nach exponentiellen Faktoren:\n",
    "\n",
    "\\begin{array}{cclcl}\n",
    "z_{GO} = \\frac{b  z_0 + v_0}{\\smash{w_G} }\\cdot  e^{-bt} \\cdot \\frac{e^{i \\smash{w_G}\\cdot t} - e^{-i \\smash{w_G}\\cdot t}}{2 i} + z_0 \\cdot e^{-bt} \\cdot \\frac{e^{i \\smash{w_G} \\cdot t} + e^{-i \\smash{w_G} \\cdot t}}{2}       \n",
    "\\end{array}\n",
    "\n",
    "und machen Gebrauch von der Umwandlung der komplexen Zahlen, aus der Exponential- in die Polarform (6.Booklet in Mathe, Aufgabe 15):\n",
    "\n",
    "\\begin{array}{cclcl}\n",
    "z_{GO} =  (b  z_0 + v_0) \\cdot e^{-bt} \\cdot \\frac{\\sin(\\smash{w_G} t)}{\\smash{w_G}} +\n",
    "     z_0 \\cdot e^{-bt} \\cdot \\cos(\\smash{w_G} t) \n",
    "\\end{array}\n",
    "\n",
    "Mit der kleinen Hilfe von komplexen Zahlen haben wir unsere reale Lösung gefunden. Wie bei dem harmonischen Oszillator, besteht sie aus zwei Schwingungen ($\\sin(\\smash{w_G} t)$ und $\\cos(\\smash{w_G} t) $). Amplitude beider Schwingungen klingt exponentiell mit der Zeit ab ($e^{-bt}$). \n",
    "-->"
   ]
  },
  {
   "cell_type": "code",
   "execution_count": null,
   "metadata": {},
   "outputs": [],
   "source": [
    "sy.re(z_los_GO_full.rhs).subs(b,0).evalf()#) "
   ]
  },
  {
   "cell_type": "markdown",
   "metadata": {},
   "source": [
    "### Graphische Darstellung der Lösung"
   ]
  },
  {
   "cell_type": "markdown",
   "metadata": {},
   "source": [
    "**Ihre Aufgabe:**\n",
    "Versuchen Sie die oben angegebenen Parameter zu ändern und beobachten Sie dabei Änderungen in den Grafiken unten.    \n",
    "\n",
    "a) gar nicht gedämpfter Oszillator $b=0$    \n",
    "b) schwach gedämpfter Oszillator $\\omega_0>b$    \n",
    "c) stark gedämpfter Oszillator $\\omega_0<b$ "
   ]
  },
  {
   "cell_type": "code",
   "execution_count": null,
   "metadata": {
    "scrolled": false
   },
   "outputs": [],
   "source": [
    "# konkrete Zahlen, um Schwingungen zu plotten:\n",
    "omega_GO=2*2*sy.pi                # Kreisfrequenz \n",
    "v0_GO=100                         # v0 -Wert\n",
    "z0_GO=10                          # z0 -Wert\n",
    "tt_GO=np.linspace(0,2,100)        # Zeitbereich tt zum Zeichnen definieren \n",
    "\n",
    "# Dämpfungsterm\n",
    "#b0=0             # keine Dämpfung\n",
    "b0=.2*omega_GO   # schwache Dämpfung\n",
    "#b0=1.1*omega_GO  # starke Dämpfung\n",
    "\n",
    "# Realteil der Lösung nehmen, Symbole w0, b, v0, z0 durch Zahlen ersetzen \n",
    "z_GO_t=sy.re(z_los_GO_full.rhs).subs({w0: omega_GO, b: b0, v0: v0_HO, z0: z0_GO}).evalf()\n",
    "\n",
    "# Ort\n",
    "z_GO_tt=[z_GO_t.subs({t: tn}).evalf() for tn in tt_GO]# Symbol t durch Werte aus dem Zeitbereich tt_GO ersetzen\n",
    "# Geschwindigkeit \n",
    "v_GO_tt=[sy.diff(z_GO_t,t).subs({t: tn}).evalf() for tn in tt_GO]\n",
    "# Beschlenigung \n",
    "a_GO_tt=[sy.diff(z_GO_t,t,2).subs({t: tn}).evalf() for tn in tt_GO]\n",
    "\n",
    "#plt.figure() # neues Fenster, IMMER ein mal für eine neue interaktive Grafik \n",
    "\n",
    "f,ax=plt.subplots(3,1,figsize=(8,5))\n",
    "\n",
    "# Ort\n",
    "ax[0].plot(tt_GO, z_GO_tt, 'r',label='x(t)') \n",
    "ax[0].set_title('Gedämpfter Oszillator, ' +'$\\omega_O$=' + str(omega_GO) + ', ' + 'b=' + str(b0) )#Titel   \n",
    "ax[0].legend();               # fügt die Legende ein\n",
    "ax[0].set_ylabel('Ort')       # fügt y-Achsenbeschriftung ein  \n",
    "ax[0].grid()             \n",
    "\n",
    "# Geschwindigkeit\n",
    "ax[1].plot(tt_GO, v_GO_tt, 'b',label='v(t)') \n",
    "ax[1].legend();                     # fügt die Legende ein\n",
    "ax[1].set_ylabel('Geschwindigkeit') # fügt y-Achsenbeschriftung ein  \n",
    "ax[1].grid() \n",
    "\n",
    "# Beschleunigung\n",
    "ax[2].plot(tt_GO, a_GO_tt, 'g',label='a(t)') \n",
    "ax[2].legend()                     # fügt die Legende ein\n",
    "ax[2].set_ylabel('Beschleunigung') # fügt y-Achsenbeschriftung ein\n",
    "ax[2].grid() \n",
    "\n",
    "ax[2].set_xlabel('Zeit');          # fügt x-Achsenbeschriftung ein"
   ]
  },
  {
   "cell_type": "markdown",
   "metadata": {},
   "source": [
    "## 3. Schwingungen gleicher Frequenz mit Hilfe von komplexen Zahlen überlagern \n",
    "\n",
    "Reale Schwingungen haben mit komplexen Zahlen auf dem erstem Blick nichts gemeinsames. Nichtsdestotrotz vereinfachen komplexe Zahlen manche Berechnungen und ermöglichen einfache Interpretation und graphische Darstellung der Schwingungen, wie wir Ihnen hier zeigen werden. "
   ]
  },
  {
   "cell_type": "markdown",
   "metadata": {},
   "source": [
    "<div class=\"pull-right\"> \n",
    "<img src=\"Bilder/Summe_z_Vektoren.jpg\" width=\"700\">\n",
    "</div>  \n",
    "\n",
    "<br>\n",
    "<br>\n",
    "<br>\n",
    "\n",
    "\n",
    "<div class=\"alert alert-block alert-info\"> \n",
    "Komplexe Zahlen, die Schwingungen repräsentieren ($z_1, z_2, ...$ und ihre Summe $z_{sum}$), kann man in der Gaußschen Ebene als rotierende Vektoren darstellen.\n",
    "</div>   \n",
    "\n",
    "<div class=\"alert alert-block alert-info\"><b></b>     \n",
    "Die eigentliche Schwingung (der Realteil) wird als zeitabhägige Projektion auf die reelle Achse dargestellt. <i>Damit das Bild komplett wird, projizieren wir auch den Imaginärteil auf die imaginäre Achse.</i>\n",
    "</div>\n",
    "\n",
    "<div class=\"alert alert-block alert-info\"> \n",
    "Aus einer Kombination von $\\cos (\\omega t)$ und $\\sin(\\omega t)$ kann man eine beliebige Schwingung mit der Kreisfrequenz $\\omega$  erzeugen. \n",
    "    \n",
    "$\\cos (\\omega t)$ und $\\sin(\\omega t)$ sind sozusagen wie $x$ und $y$ Vektoren im Kartesischen Koordinatensystem, aus denen Kombination man einen beliebigen Vektor in der $xy$-Ebene erstellen kann. \n",
    "    \n",
    "Am einfachsten sieht man die Parallele in der Gaußschen Ebene. \n",
    "</div>    "
   ]
  },
  {
   "cell_type": "markdown",
   "metadata": {},
   "source": [
    "### Überlagerung zweier Schwingungen gleicher Frequenz und Richtung   (wie in [wikibooks](https://de.wikibooks.org/wiki/Komplexe_Zahlen/_Anwendung_in_der_klassischen_Physik))\n",
    "\n",
    "Die beiden Schwingungen lauten: \n",
    "\n",
    "\\begin{aligned}\n",
    "x_1\\;&=\\;a_1\\,\\cos(\\omega t+\\varphi_1)\\\\\n",
    "x_2\\;&=\\;a_2\\,\\cos(\\omega t+\\varphi_2)\n",
    "\\end{aligned}\n",
    "\n",
    "Die Summe $x = x_1 + x_2$ wird wir nicht mithilfe von Additionstheoremen berechnet, sondern mit komplexen Zahlen. \n",
    "\n",
    "Die Schwingungen $x_1$ und $x_2$ sind Realteile der komplexen Formen \n",
    "\n",
    "\\begin{array}{cclcl}\n",
    "    x_1&\\to & z_1\\;=\\;a_1\\mathrm {e} ^{\\mathrm {i} \\,(\\omega t +\\varphi_1)}\\\\\n",
    "    x_2&\\to & z_2\\;=\\;a_2\\mathrm {e} ^{\\mathrm {i} \\,(\\omega t +\\varphi_2)}  \n",
    "\\end{array}\n",
    "\n",
    "Die resultierende Schwingung lautet:\n",
    "\n",
    "\\begin{aligned}\n",
    "z\\;=\\;z_1+z_2\\;=\\;(a_1\\,\\mathrm {e} ^{\\mathrm {i} \\,\\varphi_1}+a_2\\,\\mathrm {e} ^{\\mathrm {i} \\,\\varphi_2})\\cdot \\mathrm {e} ^{\\mathrm {i} \\,\\omega t}\\;:=\\;z_0\\,\\cdot \\mathrm {e} ^{\\mathrm {i} \\,\\omega t}\\;=\\;|z_0|\\,\\cdot \\mathrm {e} ^{\\mathrm {i} \\,(\\omega t + \\varphi_0)}\\;\n",
    "\\end{aligned}\n",
    "\n",
    "wo $z_0$ eine komplexe Amplitude ist, ${\\displaystyle z_0\\;=\\;|z_{0}| \\cdot \\mathrm {e} ^{\\mathrm {i} \\,\\varphi_0} }$. \n",
    "\n",
    "\n",
    "$z_0$ ausgeschrieben aus der Polarform <font size=\"1\"> ($e^{i\\,\\varphi}=\\cos\\varphi + i \\sin\\varphi $) </font> : \n",
    "\n",
    "\\begin{aligned}\n",
    "z_0\\;=\\;(a_1\\cos\\varphi_1 + a_2\\cos\\varphi_2) + \\mathrm {i} \\,(a_1\\sin\\varphi_1 + a_2\\sin\\varphi_2)\\;:=\\;C+\\mathrm {i} \\,S \n",
    "\\end{aligned}\n",
    "\n",
    "Hierin bedeuten (C für cos-Terme, S für sin-Terme):\n",
    "\n",
    "\\begin{aligned}\n",
    "C\\;=\\; a_1\\cos\\varphi_1 + a_2\\cos\\varphi_2 \\\\\n",
    "S\\;=\\; a_1\\sin\\varphi_1 + a_2\\sin\\varphi_2\n",
    "\\end{aligned}\n",
    "\n",
    "Die Amplitude der resultierenden Schwingung lautet:\n",
    "\n",
    "${\\displaystyle |z_{0}|\\;=\\;\\sqrt{C^2+S^2} }$\n",
    "\n",
    "Die Phase ergibt sich aus ${\\displaystyle \\;\\tan {\\varphi_0}={\\tfrac{S}{C}}\\!}$.\n",
    "\n",
    "Uns interessiert der Realteil der resultierenden Schwingung, da $x=x_1+x_2=Re(z_1)+Re(z_2)=Re(z)$, i.e. ${\\displaystyle \\;x=|z_{0}|\\cos(\\omega t+\\varphi_0)}$. \n",
    "\n",
    "$x$  hat dieselbe Richtung und dieselbe Frequenz, wie die Ausgangsschwingungen. "
   ]
  },
  {
   "cell_type": "markdown",
   "metadata": {},
   "source": [
    "Hier ein Beispiel, wie man mit `sympy` solche Überlagerung der Schwingungen darstellen kann."
   ]
  },
  {
   "cell_type": "code",
   "execution_count": null,
   "metadata": {},
   "outputs": [],
   "source": [
    "# Amplituden und Phasen der beiden Schwingungen\n",
    "a1=10                       # Amplitude der ersten Schwingung\n",
    "phi1=0                      # Phase der ersten Schwingung\n",
    "a2=10                       # Amplitude der zweiten Schwingung\n",
    "phi2= sy.pi/2               # Phase der zweiten Schwingung\n",
    "\n",
    "# Symbole für komplexe Schwingungen definieren: Amplitude a, Phase phi, Kreisfrequenz w, Zeit t\n",
    "a, phi, w, t=sy.symbols('a phi \\omega t', real=True) # es sollen reelle Zahlen sein, daher die Option real=True \n",
    "\n",
    "# Allgemein: Schwingung in komplexer Exponentialform \n",
    "z_sy=a*sy.exp(sy.I*(w*t+phi))     \n",
    "\n",
    "z1=z_sy.subs(({a: a1, phi: phi1})).evalf()# erste Schwingung: a wird durch a1 ersetzt, und phi durch phi1\n",
    "z2=z_sy.subs(({a: a2, phi: phi2})).evalf()# zweite Schwingung: a->a2, phi->phi2  \n",
    "\n",
    "sy.simplify(z1+z2)    # Komplexe Summe der Schwingungen \n"
   ]
  },
  {
   "cell_type": "code",
   "execution_count": null,
   "metadata": {},
   "outputs": [],
   "source": [
    "sy.simplify(sy.re(z1+z2))    # Realteil der Summe der Schwingungen "
   ]
  },
  {
   "cell_type": "markdown",
   "metadata": {},
   "source": [
    "### Graphische Darstellung der Schwingungen\n",
    "\n",
    "Graphisch kann man komplexe Zahlen, die Schwingungen repräsentieren (z1, z2, ... und ihre Summe), in der Gaußschen Ebene als rotierende Vektoren darstellen, da ihr Argument eine lineare Funktion der Zeit ist. Die Überlagerung zweier Schwingungen wird als vektorielle Summe der Summanden dargestellt.\n",
    "   \n",
    "Der Realteil der Schwingungen (die eigentliche Schwingung) wird als zeitabhägige Projektion auf der reellen Achse dargestellt. Damit das Bild komplett wird, projizieren wir auch den imaginären Teil auf die imaginäre Achse.\n",
    "     \n",
    "\n",
    "Um nicht jedes mal die Grafik neu schreiben zu müssen, haben wir einmal unsere Grafik-Funktion `male_Schwingungen_z_und_y_von_t` definiert. Dieser Funktion übergeben wir als Argumente unsere komplexen Zahlen, Zeit-Skala und den Titel des Graphen. Diese erzeugen wir mit der Funktion `erzeuge_z_Vektoren_und_Summe` aus gegebenen Kreisfrequenzen, Amplituden und Phasen, gegebener Zeitskala. \n",
    "Unsere Grafik-Funktion gibt wiederum Werte zurück, die man als input-Argumente in der `matplotlib animation`-Bibliothek eingebauten `FuncAnimation`-Funktion verwenden kann.  \n",
    "\n",
    "All diese Funktionen müssen Sie nicht kennen. Betrachten Sie diese als Geschenk für das Corona-Semester. :)\n",
    "Falls Sie doch sehen wollen, wie die Funktionen aussehen, klicken Sie [hier](Functions4animatedKomplexOscillations.ipynb).  \n",
    "\n",
    "Um Funktionen, die in einem anderen Notebook definiert sind, zu benutzen, müssen wir dieses Notebook mit dem `%run` Befehl ausführen:    "
   ]
  },
  {
   "cell_type": "code",
   "execution_count": null,
   "metadata": {},
   "outputs": [],
   "source": [
    "%run Functions4animatedKomplexOscillations.ipynb"
   ]
  },
  {
   "cell_type": "code",
   "execution_count": null,
   "metadata": {},
   "outputs": [],
   "source": [
    "# konkrete Zahlen, um Schwingungen zu plotten. Damit wir beliebig viele Schwingungen addieren können, \n",
    "# schreiben wir ihre Parameter (Amplitude usw.) als python-Listen in Klammern [] \n",
    "omega=[2*2*sy.pi,2*2*sy.pi]      # Kreisfrequenz, gleich für beide Schwingungen\n",
    "amp  = [10, 5]                   # Amplitude der ersten, zweiten, etc. Schwingung\n",
    "phase= [0, sy.pi/2]              # Phase der ersten, zweiten, etc. Schwingung\n",
    "T=np.linspace(0,2,100)           # Zeitbereich T zum Zeichnen definieren\n",
    "Titel='2 z-Vektoren und ihre Summe in Gauß-Ebene'   "
   ]
  },
  {
   "cell_type": "code",
   "execution_count": null,
   "metadata": {
    "scrolled": false
   },
   "outputs": [],
   "source": [
    "# unsere Funktionen aus dem Functions4animatedKomplexOscillations.ipynb-Notebook anwenden:\n",
    "z_all=erzeuge_z_Vektoren_und_Summe(omega, amp, phase, T)\n",
    "Q, X, Y, fig01, line1, line2, x, y, zeit = male_Schwingungen_z_und_y_von_t(z_all,T,Titel)\n",
    "Intervall=80 # in [ms]: wie schnell soll die Grafik aktualisiert werden\n",
    "anim = animation.FuncAnimation(fig01, update_quiver_and_line, fargs=(Q, X, Y, z_all, zeit, \n",
    "                                                                     x, y, line1, line2, T),\n",
    "                               interval=Intervall, blit=True)\n"
   ]
  }
 ],
 "metadata": {
  "kernelspec": {
   "display_name": "Python 3",
   "language": "python",
   "name": "python3"
  },
  "language_info": {
   "codemirror_mode": {
    "name": "ipython",
    "version": 3
   },
   "file_extension": ".py",
   "mimetype": "text/x-python",
   "name": "python",
   "nbconvert_exporter": "python",
   "pygments_lexer": "ipython3",
   "version": "3.7.6"
  }
 },
 "nbformat": 4,
 "nbformat_minor": 2
}
