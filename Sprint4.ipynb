{
 "cells": [
  {
   "cell_type": "markdown",
   "metadata": {},
   "source": [
    "<div class=\"pull-right\"> \n",
    "<img src= https://upload.wikimedia.org/wikipedia/commons/f/f7/Hochschule_Mannheim_logo.svg \"width=350\" >\n",
    "&emsp;\n",
    "&emsp;\n",
    "&emsp;\n",
    "</div>"
   ]
  },
  {
   "cell_type": "markdown",
   "metadata": {},
   "source": [
    "## Inhalte dieses Kurses\n",
    "\n",
    "- [Erste Schritte](Erste_Schritte.ipynb)\n",
    "- [Python installieren und ausführen](Installation.ipynb)\n",
    "- [Sprint 1: Grundlagen und Numpy](Sprint1.ipynb)\n",
    "- [Sprint 2: Grafiken mit Matplotlib](Sprint2.ipynb)\n",
    "- [Sprint 3: Datenanalyse](Sprint3.ipynb)\n",
    "\n",
    "*Optional:*\n",
    "- [**Sprint 4: Sympy**](Sprint4.ipynb)\n",
    "- [*Sprint 5: Funktionen*](Sprint5.ipynb)\n",
    "- [*Sprint 6: Komplexe Zahlen*](Sprint6.ipynb)\n",
    "- [*Beispiel 1: Schwingungen und komplexe Zahlen*](Bsp1_SchwingungenUndKomplexeZahlen.ipynb)\n",
    "- [*Beispiel 2: Harmonischer Oszillator*](Bsp2_HarmonischerOszillator.ipynb)\n",
    "- [*Beispiel 3: Gedämpfter Oszillator*](Bsp3_GedaempfterOszillator.ipynb)\n",
    "- [*Beispiel 4: Erzwungene Schwingung*](Bsp4_ErzwungeneSchwingungen.ipynb)\n",
    "\n",
    "Alle Sprints und Beispiele finden Sie in der [\"Python_Jupyter_Notebooks_verNN.zip\"](https://moodle.hs-mannheim.de/mod/resource/view.php?id=100638)-Datei auf [unserer Moodle-Seite](https://moodle.hs-mannheim.de/course/view.php?id=3062)"
   ]
  },
  {
   "cell_type": "markdown",
   "metadata": {},
   "source": [
    "# Sprint 4\n",
    "# Sympy"
   ]
  },
  {
   "cell_type": "markdown",
   "metadata": {},
   "source": [
    "In diesem Sprint lernen Sie erneut eine Bibliothek kennen - `SymPy`. SymPy steht für \"symbolisches Python\". Mit SymPy können Sie beispielswiese Gleichungen umformen oder Ableitungen und Integrale berechnen. Da Sie sich in Sprint 4 in Mathematik mit der Differentialrechnung beschäftigen, können Sie hier lernen Python zu nutzen, um ihre berechneten Ableitungen zu überprüfen. Außerdem werden Sie Gleichungen und Gleichungssysteme mit `SymPy` lösen. \n",
    "\n",
    "Sie lernen hier nur ausgewählte  Funktionen von SymPy kennen. Eine komplette Dokumentation mit Beispielen finden sie  _[hier](https://docs.sympy.org/latest/index.html)_. \n",
    "\n",
    "Das besondere an Sympy-Funktionen ist, dass diese nicht nur eine einzelne Zahl oder Arrays als Argument akzeptieren, sondern auch auf \"Symbole\" angewendet werden können. Mit diesem Datentyp werden in Sympy die in der Mathematik für Variablennamen genutzten Buchstaben dargestellt. So können mit Sympy zum Beispiel die Ableitung $\\frac{d}{dx} f(x)$ mit $f(x) = \\frac{x^2}{x+2}$ berechnen lassen. Wie das genau funktioniert, wird im Abschnitt *Ableiten mit Sympy* erklärt.  \n",
    "![](https://www.sympy.org/static/images/logo.png)\n",
    "Wie in den vorherigen Notebooks finden Sie am Ende eine kleine Aufgabensammlung, um ihre Kenntnisse auf Mathematik- und Physikaufgaben anzuwenden. "
   ]
  },
  {
   "cell_type": "markdown",
   "metadata": {},
   "source": [
    "## Basics"
   ]
  },
  {
   "cell_type": "markdown",
   "metadata": {},
   "source": [
    "Sie kennen diesen Schritt bereits: `Numpy` und `Matplotlib` müssen importiert werden. Neu dazu kommt jetzt auch `SymPy`. Um Schreibarbeit zu sparen, benennen wir `SymPy` mit `sy`."
   ]
  },
  {
   "cell_type": "code",
   "execution_count": null,
   "metadata": {},
   "outputs": [],
   "source": [
    "# Zeige Plots direkt im Jupyter Notebook an\n",
    "%matplotlib inline\n",
    "# pyplot importieren\n",
    "import matplotlib.pyplot as plt \n",
    "\n",
    "# numpy importieren\n",
    "import numpy as np\n",
    "\n",
    "# sympy importieren\n",
    "import sympy as sy"
   ]
  },
  {
   "cell_type": "markdown",
   "metadata": {},
   "source": [
    "Folgendes Beispiel zeigt Ihnen, wozu SymPy sinnvoll ist. Sowohl in Numpy, als auch in SymPy gibt es eine Wurzelfunktion. Sie werden mit `np.sqrt` bzw. `sy.sqrt` aufgerufen. Wir verwenden nun beide Funktionen und lassen uns das Ergebnis von $\\sqrt{3}$ ausgeben:"
   ]
  },
  {
   "cell_type": "code",
   "execution_count": null,
   "metadata": {},
   "outputs": [],
   "source": [
    "#Wurzel mit Numpy\n",
    "print('Numpy: ',np.sqrt(3))\n",
    "\n",
    "#Wurzel mit Sympy\n",
    "print('Sympy: ',sy.sqrt(3))"
   ]
  },
  {
   "cell_type": "markdown",
   "metadata": {},
   "source": [
    "`Numpy` approximiert das Ergebnis der Berechnung, `Sympy` hingegen gibt die genaue Lösung aus. Deutlich wird dies, wenn wir nun $\\sqrt{3}^2$ berechnen. Das Ergebnis sollte hier $3$ sein."
   ]
  },
  {
   "cell_type": "code",
   "execution_count": null,
   "metadata": {},
   "outputs": [],
   "source": [
    "#Wurzel quadrieren mit Numpy\n",
    "print('Numpy: ',np.sqrt(3)**2)\n",
    "\n",
    "#Wurzel quadrieren mit Sympy\n",
    "print('Sympy: ',sy.sqrt(3)**2)"
   ]
  },
  {
   "cell_type": "markdown",
   "metadata": {},
   "source": [
    "Sie können sehen, dass durch die Approximation das Ergebnis mit Numpy nicht exakt $3$ ergibt. \n",
    "\n",
    "Besonders praktisch ist Sympy auch um Ausdrücke zu vereinfachen. In der nächsten Zeile wird $\\sqrt{3528}$ berechnet:"
   ]
  },
  {
   "cell_type": "code",
   "execution_count": null,
   "metadata": {},
   "outputs": [],
   "source": [
    "#Wurzel mit Numpy\n",
    "print('Numpy: ',np.sqrt(3528))\n",
    "\n",
    "#Wurzel mit Sympy\n",
    "print('Sympy: ',sy.sqrt(3528))"
   ]
  },
  {
   "cell_type": "markdown",
   "metadata": {},
   "source": [
    "## Symbolische Ausdrücke\n",
    "Eine in der Mathematik mit `x` bezeichnete Variable folgendermaßen als `Sympy`-Symbol definiert werden:"
   ]
  },
  {
   "cell_type": "code",
   "execution_count": null,
   "metadata": {},
   "outputs": [],
   "source": [
    "# Symbol definieren\n",
    "x = sy.symbols('x')"
   ]
  },
  {
   "cell_type": "markdown",
   "metadata": {},
   "source": [
    "Möchte man mehrere „Symbole“ auf einmal definieren, so kann ebenso die `sy.symbols()`-Funktion genutzt werden. Die einzelnen Namen werden durch Leerzeichen getrennt der Funktion `sy.symbols()` übergeben. Indem man ein Symbol defniert erkennt `Sympy` welche Buchstaben als mathematische Variablen anzusehen sind."
   ]
  },
  {
   "cell_type": "code",
   "execution_count": null,
   "metadata": {},
   "outputs": [],
   "source": [
    "x,y,z = sy.symbols('x y z') # x,y und z sind jetzt Symbole\n",
    "term = 42*(x+y+z)\n",
    "print(term)"
   ]
  },
  {
   "cell_type": "markdown",
   "metadata": {},
   "source": [
    "## Terme vereinfachen & auswerten\n",
    "In den Mathe- und Physiksprints vereinfachen Sie an vielen Stellen, teilweise sehr lange, mathematische Audrücke. `Sympy`kann Ihnen das auch abnehmen. Die Funktion `sy.simplify()` vereinfacht Terme und mit `sy.expand()` könnnen Sie Ausdrücke ausmultiplizieren."
   ]
  },
  {
   "cell_type": "markdown",
   "metadata": {},
   "source": [
    "### Simplify\n",
    "Folgende Terme sollen vereinfacht werden:\n",
    "\n",
    "$\\frac{x^3+x^2-x-1}{x^2+2x+1}$ und\n",
    "\n",
    "$\\sin^2(x) + \\cos^2(x)$\n",
    "\n",
    "Beim ersten ist die Berechnung von Hand etwas knifflig, beim zweiten sollten Sie das Ergebnis ohne zu Rechnen und ohne Python sofort wissen (spätestens nach der Bearbeitung diese Notebooks ;) )."
   ]
  },
  {
   "cell_type": "code",
   "execution_count": null,
   "metadata": {},
   "outputs": [],
   "source": [
    "# Beispiele simplify\n",
    "x = sy.symbols('x') #x ist Variable\n",
    "\n",
    "term1 = (x**3 + x**2 - x - 1)/(x**2 + 2*x + 1) #1. Term\n",
    "ergebnis1 = sy.simplify(term1) # 1. Term vereinfachen\n",
    "print('(x**3 + x**2 - x - 1)/(x**2 + 2*x + 1) = ', ergebnis1)\n",
    "\n",
    "term2 = sy.sin(x)**2 + sy.cos(x)**2 #2. Termn\n",
    "ergebnis2 = sy.simplify(term2) #2. Termn vereinfachen\n",
    "print('(sin^2(x) + cos^2(x) = ',ergebnis2)"
   ]
  },
  {
   "cell_type": "markdown",
   "metadata": {},
   "source": [
    "<div class=\"pull-left\"> \n",
    "<img src=\"Bilder/Achtung_schild.png\" width=\"100\">   \n",
    "</div>  \n",
    "\n",
    "ALLE Funktionen, die Sie verwenden um Ausdrücke zu vereinfachen, sollten `sympy`-Funktionen sein. Oben haben Sie die Unterschiede in der Wurzelfunktion von `Numpy`und `Sympy` gesehen. Ebenso würde das obige Beispiel mit Sinus und Cosinus mit den entsprechenden `Numpy` Funktionen nicht funktionieren."
   ]
  },
  {
   "cell_type": "markdown",
   "metadata": {},
   "source": [
    "### Expand\n",
    "\n",
    "Es sollen die folgenden Terme erweitert werden. Beachten Sie dabei, dass bei trigonometrischen Funktionen zusätzlichen `trig=True` übergeben werden muss:\n",
    "\n",
    "$(x+1)^2$\n",
    "\n",
    "$(42+y)^4$\n",
    "\n",
    "$\\sin(x+y)$\n",
    "\n"
   ]
  },
  {
   "cell_type": "code",
   "execution_count": null,
   "metadata": {},
   "outputs": [],
   "source": [
    "#Beispiele expand\n",
    "x,y = sy.symbols('x y')\n",
    "\n",
    "#Terme definieren\n",
    "term1 = (x+1)**2\n",
    "term2 = (42+y)**4\n",
    "term3 = sy.sin(x+y)\n",
    "\n",
    "#Ergebnisse berechnen lassen\n",
    "ergebnis1 = sy.expand(term1)\n",
    "ergebnis2 = sy.expand(term2)\n",
    "ergebnis3 = sy.expand(term3, trig=True)\n",
    "\n",
    "#Ergebnisse ausgeben\n",
    "print('(x+1)^2 = ', ergebnis1)\n",
    "print('(42+y)^4 = ', ergebnis2)\n",
    "print('sin(x+y) = ', ergebnis3)"
   ]
  },
  {
   "cell_type": "markdown",
   "metadata": {},
   "source": [
    "### Terme auswerten\n",
    "\n",
    "Wenn Sie einen gegebenen Term an einer Stelle `x` auswerten wollen, vewenden sie die Funktion `evalf()`. Da Sie natürlich übergeben müssen, an welcher Stelle ausgewertet werden soll, benötigen Sie zusätzlich `subs(x,P)`, wobei `x` die Variable ist und `P`der Punkt an dem ausgewertet werden. "
   ]
  },
  {
   "cell_type": "code",
   "execution_count": null,
   "metadata": {},
   "outputs": [],
   "source": [
    "#Beispiel Terme auswerten\n",
    "x = sy.symbols('x')\n",
    "\n",
    "#Term defnieren\n",
    "term = (x**5+6*x)/(x**2+7)\n",
    "#Punkt zur Auswertung\n",
    "P = 3\n",
    "#auswerten\n",
    "ergebnis = term.subs(x,P).evalf()\n",
    "print(ergebnis)"
   ]
  },
  {
   "cell_type": "markdown",
   "metadata": {},
   "source": [
    "## Gleichungen lösen\n",
    "`sympy` kann auch Gleichungen und Gleichungssysteme lösen. Eine Gleichung wird mit `Eq()` (Kurzform für *equation*) definiert. Dabei wird als erstes die linke Seite der Gleichung übergeben und dann, mit einem Komma getrennt, die rechte Seite. Mit `solve()` kann die Gleichung dann gelöst werden. Sollte es mehrere Lösungen geben, werden beide ausgegeben. \n",
    "\n",
    "$ x^2 + 1 = 10$\n",
    "\n",
    "$ 2x^2-8x+6=0$"
   ]
  },
  {
   "cell_type": "code",
   "execution_count": null,
   "metadata": {},
   "outputs": [],
   "source": [
    "x = sy.symbols('x')\n",
    "\n",
    "#Gleichungen definieren\n",
    "Gleichung1 = sy.Eq(x**2 +1, 10) #x^2+1 = 10\n",
    "Gleichung2 = sy.Eq(2*x**2 -8*x + 6, 0) #2x^2-8x+6 = 0\n",
    "\n",
    "#Gleichungen lösen\n",
    "ergebnis1 = sy.solve(Gleichung1)\n",
    "ergebnis2 = sy.solve(Gleichung2)\n",
    "\n",
    "print('x^2+1 = ', ergebnis1)\n",
    "print('2x^2-8x+8 = ', ergebnis2)"
   ]
  },
  {
   "cell_type": "markdown",
   "metadata": {},
   "source": [
    "### Gleichungssysteme"
   ]
  },
  {
   "cell_type": "markdown",
   "metadata": {},
   "source": [
    "Im Sprint 2 haben Sie in Mathematik gelernt Gleichungssysteme zu lösen. Dies kann sehr mühsam und zeitraubend sein. Deshalb werden Sie nun lernen Gleichungssysteme mit Python zu lösen. Am besten fasst man dabei die einzelnen Gleichungen zu einer Liste von Gleichungen zusammen. Dies geschieht mit `equations = [sy.Eq(), sy.Eq(),...]`. `solve` löst dann auch Gleichungssysteme."
   ]
  },
  {
   "cell_type": "markdown",
   "metadata": {},
   "source": [
    "Betrachen wir nun folgendes Gleichungssystem:\n",
    "\n",
    "$y=6x−4$\n",
    "\n",
    "$y=3x+2$"
   ]
  },
  {
   "cell_type": "code",
   "execution_count": null,
   "metadata": {},
   "outputs": [],
   "source": [
    "x,y = sy.symbols('x y')\n",
    "# Gleichungssystem definieren\n",
    "equations = [\n",
    "    sy.Eq(y,6*x-4),\n",
    "    sy.Eq(y,3*x+2)\n",
    "]\n",
    "#Gleichungssystem lösen lassen\n",
    "ergebnis = sy.solve(equations)\n",
    "\n",
    "print(ergebnis)"
   ]
  },
  {
   "cell_type": "markdown",
   "metadata": {},
   "source": [
    "Als nächstes lösen wir ein komplizierteres Gleichungssystem mit 4 Gleichungen und 4 Unbekannten.\n",
    "\n",
    "$3u + 4x -5y + 6z = 39$\n",
    "\n",
    "$6 u + 5x -6y + 5z = 43$\n",
    "\n",
    "$9 u -4x + 2y + 3z = 6$\n",
    "\n",
    "$2 x -3y + z = 13$\n",
    "\n",
    "Dieses von Hand zu lösen würde vermutlich schon einige Zeit benötigen und birgt viele Möglichkeiten sich zu verrechnen. Mit `Sympy` geht dies ziemlich einfach."
   ]
  },
  {
   "cell_type": "code",
   "execution_count": null,
   "metadata": {},
   "outputs": [],
   "source": [
    "x,y,u,z = sy.symbols('x y u z')\n",
    "# Gleichungssystem definieren\n",
    "equations = [\n",
    "    sy.Eq(3*u + 4*x -5*y + 6*z, 39),\n",
    "    sy.Eq(6*u + 5*x + -6*y +5*z, 43 ),\n",
    "    sy.Eq(9*u -4*x + 2*y +3*z, 6),\n",
    "    sy.Eq(2*x -3*y +z, 13)\n",
    "]\n",
    "#Gleichungssystem lösen lassen\n",
    "ergebnis = sy.solve(equations)\n",
    "\n",
    "print(ergebnis)"
   ]
  },
  {
   "cell_type": "markdown",
   "metadata": {},
   "source": [
    "## Ableiten mit Sympy\n",
    "Mit Sympy können Funktionen abgeleitet werden. Gerade bei komplizierteren Ausdrücken mit ineinander verschachtelten Produkten kann das sehr hilfreich sein. `Sympy` ist dabei eine Hilfe, es ist aber dennoch unerlässlich, dass Sie Funktionen von Hand ableiten können. \n",
    "\n",
    "Wir verwenden `sy.diff()` für die Berechnungen der Ableitungen. Standardmäßig berechnet `sy.diff()` die erste Ableitung. Zusätzlich zur Funktionen die abgeleitet werden soll, muss übergeben werden, nach welcher Variable abgleitet werden soll. Wenn Sie eine höhere Ableitung berechnen möchten, übergeben Sie zusätzlich eine `2` für die zweite Ableitung, `3` für die dritte usw. . Im folgenden Beispiel sehen Sie wie die folgenden drei Ableitungen berechnet werden.\n",
    "\n",
    "\\begin{align} &\\frac{d}{dx} \\cos(x^2+3) \\\\\n",
    "&\\frac{d}{dx} \\frac{x^3 +2x^2 +5}{x^4} \\\\\n",
    "&\\frac{d}{dy} x(x + y^2)\\\\\n",
    "&\\frac{d}{dx} \\frac{x^2}{x +5} \\\\\n",
    "&\\frac{d^3}{dx^3} \\frac{x^3 + x^2}{x-1}  \\end{align}\n"
   ]
  },
  {
   "cell_type": "code",
   "execution_count": null,
   "metadata": {},
   "outputs": [],
   "source": [
    "#Symbole definieren\n",
    "x,y = sy.symbols('x y')\n",
    "\n",
    "#Funktionen die abgleitet werden sollen definieren\n",
    "funk1 = sy.cos(x**2+3)\n",
    "funk2 = (x**3+2*x**2+5)/(x**4)\n",
    "funk3 = x*(x+y**2)\n",
    "funk4 = x**2/(x+1)\n",
    "funk5 = (x**3 + x**2)/(x-1)\n",
    "\n",
    "#Ableitungen berechnen\n",
    "abl1 = sy.diff(funk1,x)\n",
    "abl2 = sy.diff(funk2,x)\n",
    "abl3 = sy.diff(funk3,y)\n",
    "abl4 = sy.diff(funk4,x)\n",
    "abl5 = sy.diff(funk5,x,3)\n",
    "\n",
    "#Ergebnisse ausgeben\n",
    "print('d/dx cos(x^2+3)= ', abl1)\n",
    "print('d/dx (x^3 +2x^2 +5)/(x^4 +9)= ', sy.simplify(abl2))\n",
    "print('d/dy x(x + y^2)= ', abl3)\n",
    "print('d/dx x^2/(x+1)= ', sy.simplify(abl4))\n",
    "print('d^3/dx^3 (x^3 + x^2)/(x-1)= ', sy.simplify(abl5))"
   ]
  },
  {
   "cell_type": "markdown",
   "metadata": {},
   "source": [
    "Achten Sie einmal auf die letzte Zeile. Dort wird nicht nur das Ergebnis ausgegeben, sondern es wird gleichzeitig noch mit `simplify` vereinfacht. Sie können sich das Ergebnis gerne einmal anschauen, wenn `simplify` nicht benutzt wird. "
   ]
  },
  {
   "cell_type": "markdown",
   "metadata": {},
   "source": [
    "## Integrieren mit Sympy\n",
    "Mit Sympy kann man, ganz ähnlich wie mit `diff`, auch Funktionen integrieren. Da Sie sich erst im nächsten Mathematiksprint mit dem Integrieren befassen, überspringen wir dieses Thema hier. Sollten Sie daran Interesse haben, wird dies in [diesem Video](https://www.youtube.com/watch?v=Bw6yiz_9HXw) anschaulich erklärt."
   ]
  },
  {
   "cell_type": "markdown",
   "metadata": {},
   "source": [
    "## Aufgaben Mathematik"
   ]
  },
  {
   "cell_type": "markdown",
   "metadata": {},
   "source": [
    "### Aufgabe 1 (**)\n",
    "\n",
    "Leiten Sie folgende Funktionen ab:\n",
    "\n",
    "(1) $4x^3$\n",
    "\n",
    "(2) $f(x) = 2x^{b+1}$\n",
    "\n",
    "(3) $f(x) = \\sqrt[4]{x^3}$\n",
    "\n",
    "(4) $f(t) = t^2\\cdot \\sqrt{t}$\n",
    "\n",
    "(5) $f(x) = (a-x)(a+x)$\n",
    "\n",
    "(6) $f(x) = x^2 \\cdot sin(x)$\n",
    "\n",
    "(7) $ f(x) = \\frac{x^3 -2x^2+x}{x^2-1}$\n",
    "\n",
    "(8) $f(x) = \\frac{x+2}{x \\cdot \\sqrt{x}}$\n",
    "\n",
    "(9) $f(x) = \\frac{10x}{x^2 +1}$\n",
    "\n",
    "(10) $f(x) = (\\frac{1+x}{x})^n$\n",
    "\n",
    "(11) $f(x) = 2x\\sqrt{x^2-1}$\n",
    "\n",
    "(12) $f(x) = a \\cdot \\tan(bx+c)$\n",
    "\n",
    "(13) $f(x) = \\sin(x^3)$\n",
    "\n",
    "(14) $f(x) = x^{\\sqrt{x}}$\n",
    "\n",
    "(15) $f(x) = 5(x^3-x^2+1)^5$\n",
    "\n",
    "Diese Funktionen sollten Ihnen bekannt vorkommen. Im Mathesprint haben Sie diese in Aufgabe 10 bereits von Hand abgeleitet.\n",
    "\n",
    "*Tipp: beachten Sie, dass* $\\sqrt[n]{x}= x^{\\frac{1}{n}}$"
   ]
  },
  {
   "cell_type": "code",
   "execution_count": null,
   "metadata": {},
   "outputs": [],
   "source": [
    "# Ihre Lösung hier"
   ]
  },
  {
   "cell_type": "markdown",
   "metadata": {},
   "source": [
    "<font color='blue'> Doppelklicken Sie <b>hier</b> für die Lösung.</font>\n",
    "\n",
    "<!-- Lösung: \n",
    "#Symbole definieren\n",
    "x,t,b,a,n,c = sy.symbols('x t b a n c')\n",
    "#Terme definieren\n",
    "term1 = 4*x**3\n",
    "term2 = 2*x**(b+1)\n",
    "term3 = (x**3)**(1/4)\n",
    "term4 = t**2*sy.sqrt(t)\n",
    "term5 = (a-x)*(a+x)\n",
    "term6 = x**2*sy.sin(x)\n",
    "term7 = (x**3-2*x**2+x)/(x**2-1)\n",
    "term8 = (x+2)/(x*sy.sqrt(x))\n",
    "term9 = 10*x/(x**2+1)\n",
    "term10 = ((1+x)/(x))**n\n",
    "term11 = 2*x*sy.sqrt(x**2-1)\n",
    "term12 = a*sy.tan(b*x+c)\n",
    "term13 = sy.sin(x**3)\n",
    "term14 =x**(sy.sqrt(x))\n",
    "term15 = 5*(x**3 - x**2 +1)**5\n",
    "#Terme ableiten\n",
    "abl1 = sy.diff(term1,x)\n",
    "abl2 = sy.diff(term2,x)\n",
    "abl3 = sy.diff(term3,x)\n",
    "abl4 = sy.diff(term4,t)\n",
    "abl5 = sy.diff(term5,x) \n",
    "abl6 = sy.diff(term6,x)\n",
    "abl7 = sy.diff(term7,x)\n",
    "abl8 = sy.diff(term8,x)\n",
    "abl9 = sy.diff(term9,x)\n",
    "abl10 = sy.diff(term10,x)\n",
    "abl11 = sy.diff(term11,x)\n",
    "abl12 = sy.diff(term12,x)\n",
    "abl13 = sy.diff(term13,x)\n",
    "abl14 = sy.diff(term14,x)\n",
    "abl15 = sy.diff(term15,x)\n",
    "#Ergebnisse ausgeben\n",
    "print('1. Ableitung Funktion (1): ', sy.simplify(abl1))\n",
    "print('1. Ableitung Funktion (2): ', sy.simplify(abl2))\n",
    "print('1. Ableitung Funktion (3): ', sy.simplify(abl3))\n",
    "print('1. Ableitung Funktion (4): ', sy.simplify(abl4))\n",
    "print('1. Ableitung Funktion (5): ', sy.simplify(abl5))\n",
    "print('1. Ableitung Funktion (6): ', sy.simplify(abl6))\n",
    "print('1. Ableitung Funktion (7): ', sy.simplify(abl7))\n",
    "print('1. Ableitung Funktion (8): ', sy.simplify(abl8))\n",
    "print('1. Ableitung Funktion (9): ', sy.simplify(abl9))\n",
    "print('1. Ableitung Funktion (10): ', sy.simplify(abl10))\n",
    "print('1. Ableitung Funktion (11): ', sy.simplify(abl11))\n",
    "print('1. Ableitung Funktion (12): ', sy.simplify(abl12))\n",
    "print('1. Ableitung Funktion (13): ', sy.simplify(abl13))\n",
    "print('1. Ableitung Funktion (14): ', sy.simplify(abl14))\n",
    "print('1. Ableitung Funktion (15): ', sy.simplify(abl15))\n",
    "-->"
   ]
  },
  {
   "cell_type": "markdown",
   "metadata": {},
   "source": [
    "### Aufgabe 2 (*)\n",
    "\n",
    "Finden Sie alle Extrema der folgenden Funktion:\n",
    "\n",
    "$f(x) = x^3 +3x^2-1$"
   ]
  },
  {
   "cell_type": "code",
   "execution_count": null,
   "metadata": {},
   "outputs": [],
   "source": [
    "# Ihre Lösung hier"
   ]
  },
  {
   "cell_type": "markdown",
   "metadata": {},
   "source": [
    "<font color='blue'> Doppelklicken Sie <b>hier</b> für die Lösung.</font>\n",
    "\n",
    "<!-- Lösung: \n",
    "x = sy.symbols('x')\n",
    "f = x**3+3*x**2-1\n",
    "abl_1 = sy.diff(f,x) #erste Ableitung\n",
    "abl_2 = sy.diff(f,x,2) #zweite Ableitung\n",
    "pot_ex = sy.solve(sy.Eq(abl_1,0)) #Nullstellen der Ableitung\n",
    "print('Potentielle Extremstellen (1. Ableitung = 0): ', pot_ex) \n",
    "print('2. Ableitung an der 1. Nullstelle, der 1. Ableitung: ', abl_2.subs(x,pot_ex[0]).evalf())\n",
    "print('2. Ableitung an der 2. Nullstelle, der 1. Ableitung: ',abl_2.subs(x,pot_ex[1]).evalf())\n",
    "print('An der Stelle x = -2 befindet sich ein Maximum und an der Stelle x = 0 ein Minimum')\n",
    "-->"
   ]
  },
  {
   "cell_type": "markdown",
   "metadata": {},
   "source": [
    "## Aufgaben Physik"
   ]
  },
  {
   "cell_type": "markdown",
   "metadata": {},
   "source": [
    "### Aufgabe 1 (**)\n",
    "\n",
    "Im 4. Physikbooklet finden Sie Aufgabe *Masse im Trichter*. In der letzten Teilaufgabe soll folgende Gleichung nach `x` aufgelöst werden:\n",
    "\n",
    "$8x^3-9x^2+1=0$\n",
    "\n",
    "Lösen Sie die Gleichung mit Python und überlegen Sie sich welche Ergebnisse physikalisch sinnvoll sind!"
   ]
  },
  {
   "cell_type": "code",
   "execution_count": null,
   "metadata": {},
   "outputs": [],
   "source": [
    "# Ihre Lösung hier"
   ]
  },
  {
   "cell_type": "markdown",
   "metadata": {},
   "source": [
    "<font color='blue'> Doppelklicken Sie <b>hier</b> für die Lösung.</font>\n",
    "\n",
    "<!-- Lösung: \n",
    "# Symbole definieren\n",
    "x = sy.symbols('x') \n",
    "# Gleichung definieren\n",
    "Gleichung = sy.Eq(8*x**3-9*x**2+1,0)\n",
    "#Gleichung lösen\n",
    "Loesung = sy.solve(Gleichung)\n",
    "#Lösung ausgeben\n",
    "print('x = ' , Loesung)\n",
    "print('1 entspricht dem Startpunkt und ist daher nicht die gesuchte Lösung. Zusätzlich muss die Lösung positiv sein, da negative Höhen nicht physikalisch sind. Daher ist die korrekte Lösung:', Loesung[2] )\n",
    "-->"
   ]
  },
  {
   "cell_type": "markdown",
   "metadata": {},
   "source": [
    "### Aufgabe 2 (**)\n",
    "Im 2. Physikbooklet finden Sie die Aufgabe *Atwoodsche Fallmaschine*. Stellen Sie die newtonschen Bewegungsgleichungen für beide Massen auf und lösen Sie das entstehende Gleichungssystem für die Beschleunigung $a$ und die Seilkraft $F_S$.\n",
    "![alt text](Bilder/AtwoodscheFallmaschine.png)\n",
    "\n",
    "*Tipp: in Sprint 2 haben Sie dies schon von Hand gemacht. Sie müssen hier mit 5 Symbolen arbeiten. Um `solve` zu sagen, für welche gelöst werden soll, übergeben Sie $a$ und $F_S$ auch an die Funktion.*"
   ]
  },
  {
   "cell_type": "code",
   "execution_count": null,
   "metadata": {},
   "outputs": [],
   "source": [
    "#Ihre Lösung hier"
   ]
  },
  {
   "cell_type": "markdown",
   "metadata": {},
   "source": [
    "<font color='blue'> Doppelklicken Sie <b>hier</b> für die Lösung.</font>\n",
    "\n",
    "<!-- Lösung: \n",
    "#Symbole definieren\n",
    "m1,m2,a,g,F_s = sy.symbols('m1 m2 a g F_s')\n",
    "#Gleichungssystem aufstellen\n",
    "equations = [\n",
    "    sy.Eq(m1*a ,m1*g-F_s),\n",
    "    sy.Eq(m2*a,F_s-m2*g)\n",
    "]\n",
    "Loesung = sy.solve(equations,a,F_s)\n",
    "print(Loesung)\n",
    "-->"
   ]
  },
  {
   "cell_type": "markdown",
   "metadata": {},
   "source": [
    "[**-> Sprint 5: Funktionen**](Sprint5.ipynb)"
   ]
  }
 ],
 "metadata": {
  "kernelspec": {
   "display_name": "Python 3",
   "language": "python",
   "name": "python3"
  },
  "language_info": {
   "codemirror_mode": {
    "name": "ipython",
    "version": 3
   },
   "file_extension": ".py",
   "mimetype": "text/x-python",
   "name": "python",
   "nbconvert_exporter": "python",
   "pygments_lexer": "ipython3",
   "version": "3.8.3"
  }
 },
 "nbformat": 4,
 "nbformat_minor": 2
}
