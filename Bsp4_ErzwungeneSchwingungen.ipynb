{
 "cells": [
  {
   "cell_type": "markdown",
   "metadata": {},
   "source": [
    "<div class=\"pull-right\"> \n",
    "<img src= https://upload.wikimedia.org/wikipedia/commons/f/f7/Hochschule_Mannheim_logo.svg \"width=350\" >\n",
    "&emsp;\n",
    "&emsp;\n",
    "&emsp;\n",
    "</div>"
   ]
  },
  {
   "cell_type": "markdown",
   "metadata": {},
   "source": [
    "## Inhalte dieses Kurses\n",
    "\n",
    "- [Erste Schritte](Erste_Schritte.ipynb)\n",
    "- [Python installieren und ausführen](Installation.ipynb)\n",
    "- [Sprint 1: Grundlagen und Numpy](Sprint1.ipynb)\n",
    "- [Sprint 2: Grafiken mit Matplotlib](Sprint2.ipynb)\n",
    "- [Sprint 3: Datenanalyse](Sprint3.ipynb)\n",
    "- [Übungsnotebook zu Booklets 4-6](Übungsnotebook.ipynb)\n",
    "\n",
    "*Optional:*\n",
    "- [*Sprint 4: Sympy*](Sprint4.ipynb)\n",
    "- [*Sprint 5: Funktionen*](Sprint5.ipynb)\n",
    "- [*Sprint 6: Komplexe Zahlen*](Sprint6.ipynb)\n",
    "- [*Beispiel 1: Schwingungen und komplexe Zahlen*](Bsp1_SchwingungenUndKomplexeZahlen.ipynb)\n",
    "- [*Beispiel 2: Harmonischer Oszillator*](Bsp2_HarmonischerOszillator.ipynb)\n",
    "- [*Beispiel 3: Gedämpfter Oszillator*](Bsp3_GedaempfterOszillator.ipynb)\n",
    "- [**Beispiel 4: Erzwungene Schwingung**](Bsp4_ErzwungeneSchwingungen.ipynb)\n",
    "\n",
    "\n",
    "Alle Sprints und Beispiele finden Sie in der [\"Python_Jupyter_Notebooks_verNN.zip\"](https://moodle.hs-mannheim.de/mod/resource/view.php?id=100638)-Datei auf [unserer Moodle-Seite](https://moodle.hs-mannheim.de/course/view.php?id=3062)"
   ]
  },
  {
   "cell_type": "code",
   "execution_count": null,
   "metadata": {
    "scrolled": true
   },
   "outputs": [],
   "source": [
    "# wie immer:\n",
    "%matplotlib notebook \n",
    "import matplotlib.pyplot as plt \n",
    "\n",
    "# numpy importieren\n",
    "import numpy as np\n",
    "\n",
    "# sympy importieren\n",
    "import sympy as sy"
   ]
  },
  {
   "cell_type": "markdown",
   "metadata": {},
   "source": [
    "## Erzwungene Schwingung\n",
    "\n",
    "### Die Bewegungsgeichung\n",
    "\n",
    "   \n",
    "Allgemein haben wir eine Bewegungsgleichung zu lösen:    \n",
    "\n",
    "\\begin{aligned}\n",
    "m\\frac{d^2x}{dt^2}=−kx−\\beta\\frac{dx}{dt} + F_0\\sin(\\omega_f t)\n",
    "\\end{aligned}\n",
    "\n",
    "Wir berücksichtigen, dass im Fall $\\beta$=0 (ungedämpfe Schwingungen) $\\omega_0=\\sqrt{\\frac{k}{m}}$ gilt. Weiterhin setzen wir $\\frac{\\beta}{2m}=\\delta$: \n",
    "\n",
    "\\begin{aligned}\n",
    "\\frac{d^2x}{dt^2}+\\omega_0^2 x + 2 \\delta \\frac{dx}{dt} - F_0\\sin(\\omega_f t) = 0\n",
    "\\end{aligned}\n",
    " \n",
    "\n",
    "Wir lösen diese Gleichung mit Hilfe von `sympy`, das wir Ihnen näher in [Sprint4](Sprint4.ipynb) vorgestellt haben. In [diesem Video](https://www.youtube.com/watch?v=3-9Ys1_EwwU) können Sie erfahren, wie man in `sympy` allgemein eine Bewegungsgleichung lösen kann.   "
   ]
  },
  {
   "cell_type": "markdown",
   "metadata": {},
   "source": [
    "### Lösung der Bewegungsgeichung\n",
    "\n",
    "Ähnlich wie beim [harmonischen](Bsp2_HarmonischerOszillator.ipynb) oder [gedämpften Oszillator](Bsp3_GedaempfterOszillator.ipynb)"
   ]
  },
  {
   "cell_type": "code",
   "execution_count": null,
   "metadata": {
    "scrolled": true
   },
   "outputs": [],
   "source": [
    "# Symbole definieren\n",
    "t = sy.symbols('t', real=True)\n",
    "w0, d, F0, wf = sy.symbols('\\omega_0 \\delta F_0  \\omega_F', real=True, positive=True)\n",
    "\n",
    "# Funktion X_ES definieren\n",
    "X_ES = sy.Function('X_ES')\n",
    "\n",
    "# externe Kraft definieren\n",
    "F_ext = F0*sy.sin(wf*t)\n",
    "\n",
    "# Bewegungsgleichung definieren\n",
    "Gleichung_ES = sy.diff(X_ES(t), t, 2) + w0**2*X_ES(t) + 2*d*sy.diff(X_ES(t), t) - F0*sy.sin(wf*t)\n",
    "\n",
    "# Bewegungsgleichung mit 'dsolve' lösen\n",
    "x_los_ES=sy.dsolve(Gleichung_ES) #x_los_ES: Lösung\n",
    "\n",
    "# Konstanten $C_1$ und $C_2$ mit Nulls ersetzen \n",
    "x_los_ES_stat=x_los_ES.subs({\"C1\":0, \"C2\":0}).evalf()"
   ]
  },
  {
   "cell_type": "code",
   "execution_count": null,
   "metadata": {},
   "outputs": [],
   "source": [
    "x_los_ES_stat"
   ]
  },
  {
   "cell_type": "markdown",
   "metadata": {},
   "source": [
    "### Systemparameter\n"
   ]
  },
  {
   "cell_type": "code",
   "execution_count": null,
   "metadata": {},
   "outputs": [],
   "source": [
    "omega_0=10  # Kreisfrequenz der freien Schwingung\n",
    "d0=0.01     # Dämpfungsterm = delta in der Bewegungsgleichung\n",
    "f0=1        # Kraftamplitude\n",
    "Wf=10       # Kreisfrequenz Kraft  "
   ]
  },
  {
   "cell_type": "markdown",
   "metadata": {},
   "source": [
    "Realteil der Lösung nehmen, Symbole $\\omega_0$, $\\delta$, $F_0$, $\\omega_f$ durch Zahlen ersetzen "
   ]
  },
  {
   "cell_type": "code",
   "execution_count": null,
   "metadata": {},
   "outputs": [],
   "source": [
    "x_ES_t=sy.re(x_los_ES_stat.rhs).subs({w0: omega_0, d: d0, F0: f0, wf: Wf}).evalf()"
   ]
  },
  {
   "cell_type": "markdown",
   "metadata": {},
   "source": [
    "Symbole in der externen Kraft ersetzen"
   ]
  },
  {
   "cell_type": "code",
   "execution_count": null,
   "metadata": {
    "scrolled": false
   },
   "outputs": [],
   "source": [
    "F_ES_t=F_ext.subs({wf:Wf, F0:f0})"
   ]
  },
  {
   "cell_type": "markdown",
   "metadata": {},
   "source": [
    "### Zeitskala"
   ]
  },
  {
   "cell_type": "code",
   "execution_count": null,
   "metadata": {},
   "outputs": [],
   "source": [
    "tt_ES=np.linspace(0,2,500)        # Zeitbereich tt zum Zeichnen definieren "
   ]
  },
  {
   "cell_type": "markdown",
   "metadata": {},
   "source": [
    "Zeit Symbol durch die Zeitskala ersetzen"
   ]
  },
  {
   "cell_type": "code",
   "execution_count": null,
   "metadata": {},
   "outputs": [],
   "source": [
    "# Ort\n",
    "x_ES_tt=[x_ES_t.subs({t: tn}).evalf() for tn in tt_ES]# Symbol t durch Werte aus dem Zeitbereich tt_ES ersetzen\n",
    "# Kraft \n",
    "F_ES_tt=[F_ES_t.subs({t: tn}).evalf() for tn in tt_ES]"
   ]
  },
  {
   "cell_type": "markdown",
   "metadata": {},
   "source": [
    "### Graphische Darstellung der Lösung und der externen Kraft"
   ]
  },
  {
   "cell_type": "code",
   "execution_count": null,
   "metadata": {
    "scrolled": false
   },
   "outputs": [],
   "source": [
    "f,ax=plt.subplots(2,1,figsize=(10,10), sharex='col')\n",
    "\n",
    "# Ort\n",
    "ax[0].plot(tt_ES, x_ES_tt, 'r',label='x(t)') \n",
    "ax[0].set_title('Erzwungener Oszillator, ' +'$\\omega_O$=' + str(omega_0) + ', ' + '$\\delta$=' + str(d0)+ ', ' + '$\\omega_F$=' + str(Wf) )#Titel   \n",
    "ax[0].legend();               # fügt die Legende ein\n",
    "ax[0].set_ylabel('Ort')       # fügt y-Achsenbeschriftung ein  \n",
    "ax[0].grid()             \n",
    "\n",
    "# externe Kraft\n",
    "ax[1].plot(tt_ES, F_ES_tt, 'b',label='F(t)') \n",
    "ax[1].legend();                     # fügt die Legende ein\n",
    "ax[1].set_ylabel('externe Kraft') # fügt y-Achsenbeschriftung ein  \n",
    "ax[1].grid() \n",
    "ax[1].set_xlabel('Zeit'); #fügt x-Achsenbeschriftung ein"
   ]
  }
 ],
 "metadata": {
  "kernelspec": {
   "display_name": "Python 3",
   "language": "python",
   "name": "python3"
  },
  "language_info": {
   "codemirror_mode": {
    "name": "ipython",
    "version": 3
   },
   "file_extension": ".py",
   "mimetype": "text/x-python",
   "name": "python",
   "nbconvert_exporter": "python",
   "pygments_lexer": "ipython3",
   "version": "3.8.3"
  }
 },
 "nbformat": 4,
 "nbformat_minor": 2
}
