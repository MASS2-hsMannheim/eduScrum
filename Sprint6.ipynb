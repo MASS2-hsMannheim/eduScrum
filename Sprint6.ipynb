{
 "cells": [
  {
   "cell_type": "markdown",
   "metadata": {},
   "source": [
    "<div class=\"pull-right\"> \n",
    "<img src= https://upload.wikimedia.org/wikipedia/commons/f/f7/Hochschule_Mannheim_logo.svg \"width=350\" >\n",
    "&emsp;\n",
    "&emsp;\n",
    "&emsp;\n",
    "</div>"
   ]
  },
  {
   "cell_type": "markdown",
   "metadata": {},
   "source": [
    "## Inhalte dieses Kurses\n",
    "\n",
    "- [Erste Schritte](Erste_Schritte.ipynb)\n",
    "- [Python installieren und ausführen](Installation.ipynb)\n",
    "- [Sprint 1: Grundlagen und Numpy](Sprint1.ipynb)\n",
    "- [Sprint 2: Grafiken mit Matplotlib](Sprint2.ipynb)\n",
    "- [Sprint 3: Datenanalyse](Sprint3.ipynb)\n",
    "- [Übungsnotebook zu Booklets 4-6](Übungsnotebook.ipynb)\n",
    "\n",
    "*Optional:*\n",
    "- [*Sprint 4: Sympy*](Sprint4.ipynb)\n",
    "- [*Sprint 5: Funktionen*](Sprint5.ipynb)\n",
    "- [**Sprint 6: Komplexe Zahlen**](Sprint6.ipynb)\n",
    "\n",
    "Alle Sprints und Beispiele finden Sie in der [\"Python_Jupyter_Notebooks_verNN.zip\"](https://moodle.hs-mannheim.de/mod/resource/view.php?id=100638)-Datei auf [unserer Moodle-Seite](https://moodle.hs-mannheim.de/course/view.php?id=3062)"
   ]
  },
  {
   "cell_type": "markdown",
   "metadata": {},
   "source": [
    "# Sprint 6\n",
    "# Komplexe Zahlen"
   ]
  },
  {
   "cell_type": "markdown",
   "metadata": {},
   "source": [
    "Komplexe Zahlen können in der Form $ a + i\\cdot b $ dargestellt werden, wobei a und b reelle Zahlen sind und $i$ die imaginäre Einheit ist: $i^2=-1$. \n",
    "\n",
    "Manchmal schreibt man $j$ oder $I$ statt $i$.\n",
    "\n",
    "In Python selbst kann man\n",
    "- komplexe Zahlen definieren, z.B. `z_python=3+4j`, \n",
    "- ihren Real- und Imaginärteil mit `z_python.real` und `z_python.imag` abfragen, \n",
    "- den Betrag mit `abs(z_python)` \n",
    "- und die konjugierte Zahl mit `z_python.conjugate()` erhalten. \n",
    "\n",
    "Auch in `numpy` und `sympy` kann man komplexe Zahlen definieren und bearbeiten, wie wir Ihnen hier zeigen. Beide Bibliotheken sind übrigens viel schneller als Python selbst. "
   ]
  },
  {
   "cell_type": "code",
   "execution_count": null,
   "metadata": {
    "scrolled": true
   },
   "outputs": [],
   "source": [
    "# Wie immer...\n",
    "%matplotlib inline\n",
    "import matplotlib.pyplot as plt \n",
    "\n",
    "# numpy importieren\n",
    "import numpy as np\n",
    "\n",
    "# sympy importieren\n",
    "import sympy as sy"
   ]
  },
  {
   "cell_type": "markdown",
   "metadata": {},
   "source": [
    "## Komplexe Zahlen und Numpy\n",
    "\n",
    "Statt einer komplexen Zahl, schreiben wir gleich \n",
    "einen Vektor (array) mit komplexen Zahlen in `numpy`. Wenn man mehrere Daten gleichzeitig analysieren will, sind Operationen auf Vektoren sehr nützlich."
   ]
  },
  {
   "cell_type": "code",
   "execution_count": null,
   "metadata": {},
   "outputs": [],
   "source": [
    "z_np=np.array([-10, -4j, 1+1j, 3+4j]) # komplexe Zahlen erstellen\n",
    "z_np"
   ]
  },
  {
   "cell_type": "markdown",
   "metadata": {},
   "source": [
    "<div class=\"pull-left\"> \n",
    "<img src=\"Bilder/Achtung_schild.png\" width=\"50\">   \n",
    "</div>  \n",
    "\n",
    "Achtung! `j` allein (für Imaginärteil=1) führt zum Fehler: z.B. `z=1+j` geht nicht (python erwartet eine Variable Names j), `z=1+1j` geht"
   ]
  },
  {
   "cell_type": "code",
   "execution_count": null,
   "metadata": {
    "scrolled": true
   },
   "outputs": [],
   "source": [
    "nurj=1+j"
   ]
  },
  {
   "cell_type": "markdown",
   "metadata": {},
   "source": [
    "Hier die Grundeigenschften der komplexen Zahlen in numpy-Funktionen: "
   ]
  },
  {
   "cell_type": "code",
   "execution_count": null,
   "metadata": {},
   "outputs": [],
   "source": [
    "np.real(z_np)  # Realteil"
   ]
  },
  {
   "cell_type": "code",
   "execution_count": null,
   "metadata": {
    "scrolled": true
   },
   "outputs": [],
   "source": [
    "np.imag(z_np)  # Imaginärteil"
   ]
  },
  {
   "cell_type": "code",
   "execution_count": null,
   "metadata": {
    "scrolled": true
   },
   "outputs": [],
   "source": [
    "np.abs(z_np)   # Betrag          "
   ]
  },
  {
   "cell_type": "code",
   "execution_count": null,
   "metadata": {},
   "outputs": [],
   "source": [
    "np.angle(z_np) # Argument in Bogenmaß, von -pi bis pi   "
   ]
  },
  {
   "cell_type": "code",
   "execution_count": null,
   "metadata": {
    "scrolled": true
   },
   "outputs": [],
   "source": [
    "np.angle(z_np, deg=True) # Argument in Grad, dank der Option deg=True   "
   ]
  },
  {
   "cell_type": "code",
   "execution_count": null,
   "metadata": {
    "scrolled": true
   },
   "outputs": [],
   "source": [
    "np.conjugate(z_np) # konjugierte Zahl "
   ]
  },
  {
   "cell_type": "markdown",
   "metadata": {},
   "source": [
    "### Koordinatensysteme in einanander überführen\n",
    "\n",
    "Die Funktion `polar2z(r,phi)` konvertiert komplexe Zahlen aus polaren Koordinatensystem ins kartesiche und arbeitet mit Winkeln in Bogenmaß:"
   ]
  },
  {
   "cell_type": "code",
   "execution_count": null,
   "metadata": {},
   "outputs": [],
   "source": [
    "def polar2z(r,phi):\n",
    "    return r * np.exp( 1j * phi )"
   ]
  },
  {
   "cell_type": "markdown",
   "metadata": {},
   "source": [
    "Versuchen Sie einmal eine Funktion zu schreiben, die die umgekehrte Transformation duchrfürt: z als Argument annimmt, und  Betrag und Phase als Rückgabewert zurückgibt. "
   ]
  },
  {
   "cell_type": "code",
   "execution_count": null,
   "metadata": {},
   "outputs": [],
   "source": [
    "# #Ihre Lösung hier "
   ]
  },
  {
   "cell_type": "markdown",
   "metadata": {},
   "source": [
    "<font color='blue'> Doppelklicken Sie <b>hier</b> für die Lösung.</font>\n",
    "\n",
    "<!-- Lösung:\n",
    "def z2polar(z):\n",
    "    return ( np.abs(z), np.angle(z) )\n",
    "-->"
   ]
  },
  {
   "cell_type": "markdown",
   "metadata": {},
   "source": [
    "## Komplexe Zahlen und sympy\n",
    "\n",
    "Wie Sie bereits im [Sprint4](Sprint4.ipynb) gesehen haben, kann man mit `sympy` bestehende Ausdrücke vereinfachen, Gleichungen lösen, usw. Das betrifft nicht nur reelle Zahlen sondern auch komplexe. Die imaginäre Einheit wird hier mit `sy.I` und die exponentielle Funktion mit `sy.exp(Parameter)` gegeben.  Hier finden Sie Grundfunktionen, die in `sympy` mit komplexen Zahlen arbeiten:  "
   ]
  },
  {
   "cell_type": "code",
   "execution_count": null,
   "metadata": {},
   "outputs": [],
   "source": [
    "z3, z4 = sy.symbols('z3 z4') # Symbole definieren"
   ]
  },
  {
   "cell_type": "code",
   "execution_count": null,
   "metadata": {},
   "outputs": [],
   "source": [
    "sy.re( sy.re(z4)*sy.I + z3 + 11*sy.exp(2*sy.I) + 17*sy.I ) # Realteil"
   ]
  },
  {
   "cell_type": "code",
   "execution_count": null,
   "metadata": {},
   "outputs": [],
   "source": [
    "sy.im( sy.re(z4)*sy.I + z3 + 11*sy.exp(2*sy.I) + 17*sy.I ) # Imaginärteil"
   ]
  },
  {
   "cell_type": "code",
   "execution_count": null,
   "metadata": {},
   "outputs": [],
   "source": [
    "sy.Abs(3*sy.exp(1) + 4*sy.exp(1)*sy.I)   # Betrag   "
   ]
  },
  {
   "cell_type": "code",
   "execution_count": null,
   "metadata": {
    "scrolled": true
   },
   "outputs": [],
   "source": [
    "sy.arg(sy.sqrt(2) - sy.sqrt(2)*sy.I)   # Argument in Bogenmaß, von -pi bis pi   "
   ]
  },
  {
   "cell_type": "code",
   "execution_count": null,
   "metadata": {
    "scrolled": false
   },
   "outputs": [],
   "source": [
    "sy.conjugate(sy.sqrt(2) - sy.sqrt(2)*sy.I) # konjugierte Zahl "
   ]
  },
  {
   "cell_type": "markdown",
   "metadata": {},
   "source": [
    "## Aufgaben Mathematik \n",
    "\n",
    "aus Ihrem 6.Booklet in Mathe"
   ]
  },
  {
   "cell_type": "markdown",
   "metadata": {},
   "source": [
    "### Aufgabe 1 (**)\n",
    "\n",
    "\n",
    "Berechnen Sie die komplex konjugierte Zahl der komplexen Zahlen   \n",
    "\n",
    "a) $ z=3i+2 $ \n",
    "\n",
    "b) $ z=\\frac{1}{3i+1} $   \n",
    "   "
   ]
  },
  {
   "cell_type": "code",
   "execution_count": null,
   "metadata": {},
   "outputs": [],
   "source": [
    "# Ihre Lösung hier"
   ]
  },
  {
   "cell_type": "markdown",
   "metadata": {},
   "source": [
    "<font color='blue'> Doppelklicken Sie <b>hier</b> für die Lösung.</font>\n",
    "\n",
    "<!-- Lösung: \n",
    "\n",
    "# mit numpy\n",
    "# Beide Zahlen in ein Vektor packen\n",
    "zahlen=np.array([3j+2, 1/(3j+1)])\n",
    "# ein mal konjugieren\n",
    "zahlen_konjugiert=np.conjugate(zahlen)\n",
    "#Lösung ausgeben\n",
    "print('a) ' , zahlen_konjugiert[0],  '\\n'    # '\\n' für eine neue Linie\n",
    "      'b) ' , zahlen_konjugiert[1])\n",
    "\n",
    "# mit sympy\n",
    "# Beide Zahlen in ein Vektor packen\n",
    "zahlen=sy.Array([3*sy.I+2, 1/(3*sy.I+1)])\n",
    "# ein mal konjugieren\n",
    "zahlen_konjugiert=sy.conjugate(zahlen)\n",
    "#Lösung ausgeben\n",
    "print('a) ' , zahlen_konjugiert[0],  '\\n'   \n",
    "      'b) ' , zahlen_konjugiert[1])\n",
    "-->"
   ]
  },
  {
   "cell_type": "markdown",
   "metadata": {},
   "source": [
    "### Aufgabe 2 (**)\n",
    "\n",
    "\n",
    "Gegeben sind die komplexen Zahlen $z_1=1-2i$ und $z_2=-2+3i$. Berechnen Sie in kartesischer Darstellung:   \n",
    "\n",
    "a) das Produkt $z_1\\cdot z_2$    \n",
    "\n",
    "b) den Quotienten $\\frac{z_1}{z_2}$\n",
    " "
   ]
  },
  {
   "cell_type": "code",
   "execution_count": null,
   "metadata": {},
   "outputs": [],
   "source": [
    "# Ihre Lösung hier"
   ]
  },
  {
   "cell_type": "markdown",
   "metadata": {},
   "source": [
    "<font color='blue'> Doppelklicken Sie <b>hier</b> für die Lösung.</font>\n",
    "\n",
    "<!-- Lösung: \n",
    "z1=1-2*sy.I\n",
    "z2=-2+3*sy.I\n",
    "print('a) das Produkt z1*z2: ' , sy.simplify(z1*z2),  '\\n'   \n",
    "      'b) der Quotient z1/z2: ' , sy.simplify(z1/z2))\n",
    "-->"
   ]
  },
  {
   "cell_type": "markdown",
   "metadata": {},
   "source": [
    "### Aufgabe 3 (**)\n",
    "\n",
    "Finden Sie die Lösung der Gleichung $z^4 = 81$"
   ]
  },
  {
   "cell_type": "code",
   "execution_count": null,
   "metadata": {},
   "outputs": [],
   "source": [
    "# Ihre Lösung hier"
   ]
  },
  {
   "cell_type": "markdown",
   "metadata": {},
   "source": [
    "<font color='blue'> Doppelklicken Sie <b>hier</b> für die Lösung.</font>\n",
    "\n",
    "<!-- Lösung: \n",
    "# Symbole definieren\n",
    "z = sy.symbols('z') \n",
    "# Gleichung definieren    \n",
    "Gleichung = sy.Eq(z**4,81)\n",
    "#Gleichung lösen\n",
    "Loesung = sy.solve(Gleichung)\n",
    "#Lösung ausgeben\n",
    "print('z = ' , Loesung)\n",
    "-->"
   ]
  },
  {
   "cell_type": "markdown",
   "metadata": {},
   "source": [
    "## Physik"
   ]
  },
  {
   "cell_type": "markdown",
   "metadata": {},
   "source": [
    "### Aufgabe 1:  Bodediagramm des Hochpassfilters \n",
    "\n",
    "Aufgabe 10 aus dem 6.Booklet in Mathe.  \n",
    "\n",
    "Gegeben ist eine komplexe Übertragungsfunktion eines Hochpassfilters \n",
    "\n",
    "$\\displaystyle z=\\frac{2j\\omega}{1+2j\\omega}$.\n",
    "\n",
    "a) Berechnen Sie mithilfe von `sympy` die Grenzkreisfrequenz, für die |z|=$1/\\sqrt{2}$. \n",
    "\n",
    "*Hinweis: $\\omega$ soll als ein reelles und positives Symbol definiert werden, z.B. w = sy.symbols('w', real=True, positive=True)*\n",
    "\n",
    "b) Zeichnen Sie die Amplitude in der doppel-logarithmischen Skala ([Sprint2](Sprint2.ipynb)) und die Phase in Grad dieser Übertragungsfunktion. Markieren Sie auch die Grenzkreisfrequenz und ihre Amplitude als roten Punkt in der Grafik.\n",
    "\n",
    "Diese Grafik ist ein Prototyp des [Bodediagramms](https://www.youtube.com/watch?v=2L9nbr9hePU)  für einen elektrischen [Hochpassfilter](https://www.youtube.com/watch?v=f_IMpQF2-74) mit RC-Konstante RC=2.\n"
   ]
  },
  {
   "cell_type": "code",
   "execution_count": null,
   "metadata": {},
   "outputs": [],
   "source": [
    "# Ihre Lösung hier "
   ]
  },
  {
   "cell_type": "markdown",
   "metadata": {},
   "source": [
    "<font color='blue'> Doppelklicken Sie <b>hier</b> für die Lösung.</font>\n",
    "\n",
    "<!-- Lösung: \n",
    "# a)\n",
    "# Symbol definieren\n",
    "w = sy.symbols('w', real=True, positive=True)\n",
    "# Gleichung definieren    \n",
    "Gleichung = sy.Eq( sy.Abs(2*w*sy.I/(1+2*sy.I*w)) ,1/sy.sqrt(2) )\n",
    "#Gleichung lösen\n",
    "Loesung = sy.solve(Gleichung)\n",
    "#Lösung ausgeben\n",
    "print('Grenzkreisfrequenz = ' , Loesung)\n",
    "\n",
    "# b)\n",
    "omega = np.linspace(0.01, 3*np.pi, 51)\n",
    "\n",
    "z =  2j*omega/(1+2j*omega) \n",
    " \n",
    "f,ax=plt.subplots(1,2,figsize=(10,5))\n",
    "\n",
    "ax[0].plot(omega, np.abs(z), label='Amplitude')\n",
    "\n",
    "ax[0].plot(Loesung, 1/sy.sqrt(2),'ro',label='Grenzkreisfrequenz')\n",
    "\n",
    "ax[0].legend(); #fügt die Legende \n",
    "ax[0].set_xlabel('$\\omega$ [Bogenmaß/s]') #fügt x-Achsenbeschriftung ein  \n",
    "ax[0].set_ylabel('Amplitude') #fügt y-Achsenbeschriftung ein  \n",
    "ax[0].set_title('Amplitude des Hochpassfilters')# fügt Titel ein  \n",
    "ax[0].set_xscale('log') #x-Achse logarithmisch \n",
    "ax[0].set_yscale('log') #y-Achse logarithmisch \n",
    "ax[0].grid()\n",
    "\n",
    "ax[1].plot(omega, np.angle(z, deg=True), 'r', label='Phase')\n",
    "\n",
    "#ax[1].legend() #fügt die Legende ein\n",
    "ax[1].set_xlabel('$\\omega$ [Bogenmaß/s]') #fügt x-Achsenbeschriftung ein\n",
    "ax[1].set_ylabel('Phase [°]') #fügt y-Achsenbeschriftung ein\n",
    "ax[1].set_title('Phasenverschiebung des Hochpassfilters');# fügt Titel ein\n",
    "ax[1].grid()\n",
    "\n",
    "-->"
   ]
  }
 ],
 "metadata": {
  "kernelspec": {
   "display_name": "Python 3",
   "language": "python",
   "name": "python3"
  },
  "language_info": {
   "codemirror_mode": {
    "name": "ipython",
    "version": 3
   },
   "file_extension": ".py",
   "mimetype": "text/x-python",
   "name": "python",
   "nbconvert_exporter": "python",
   "pygments_lexer": "ipython3",
   "version": "3.8.3"
  }
 },
 "nbformat": 4,
 "nbformat_minor": 2
}
