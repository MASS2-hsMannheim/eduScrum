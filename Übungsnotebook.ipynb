{
 "cells": [
  {
   "cell_type": "markdown",
   "metadata": {},
   "source": [
    "![alt text](Bilder/Logo_HS_Mannheim2.png \"Logo\")"
   ]
  },
  {
   "cell_type": "markdown",
   "metadata": {},
   "source": [
    "## Inhalte dieses Kurses\n",
    "\n",
    "- [Erste Schritte](Erste_Schritte.ipynb)\n",
    "- [Python installieren und ausführen](Installation.ipynb)\n",
    "- [Sprint 1: Grundlagen und Numpy](Sprint1.ipynb)\n",
    "- [Sprint 2: Grafiken mit Matplotlib](Sprint2.ipynb)\n",
    "- [Sprint 3: Datenanalyse](Sprint3.ipynb)\n",
    "- [**Übungsnotebook zu Booklets 4-6**](Übungsnotebook.ipynb)\n",
    "\n",
    "*Optional:*\n",
    "- [*Sprint 4: Sympy*](Sprint4.ipynb)\n",
    "- [*Sprint 5: Funktionen*](Sprint5.ipynb)\n",
    "- [*Sprint 6: Komplexe Zahlen*](Sprint6.ipynb)\n",
    "- [*Beispiel 1: Schwingungen und komplexe Zahlen*](Bsp1_SchwingungenUndKomplexeZahlen.ipynb)\n",
    "- [*Beispiel 2: Harmonischer Oszillator*](Bsp2_HarmonischerOszillator.ipynb)\n",
    "- [*Beispiel 3: Gedämpfter Oszillator*](Bsp3_GedaempfterOszillator.ipynb)\n",
    "- [*Beispiel 4: Erzwungene Schwingung*](Bsp4_ErzwungeneSchwingungen.ipynb)\n",
    "\n",
    "\n",
    "Alle Sprints und Beispiele finden Sie in der [\"Python_Jupyter_Notebooks_verNN.zip\"](https://moodle.hs-mannheim.de/mod/resource/view.php?id=100638)-Datei auf [unserer Moodle-Seite](https://moodle.hs-mannheim.de/course/view.php?id=3062)"
   ]
  },
  {
   "cell_type": "markdown",
   "metadata": {},
   "source": [
    "# Übungsaufgaben zu Anwendungen von Python in Mathematik und Physik"
   ]
  },
  {
   "cell_type": "markdown",
   "metadata": {},
   "source": [
    "In diesem Jupyter-Notebook können Sie elementare Konzepte aus Python aus den ersten drei Sprints wiederholen und vertiefen. Thematisch werden dabei mathematische und physikalische Themen aus verschiedenen Sprints von MA1 und PH1 aufgegriffen. \n",
    "\n",
    "Die Aufgaben dazu haben folgendes Lernziel: Sie sollen den vorgegebenen Code in der Aufgabenstellung lesen und verstehen können. Im Anschluss daran sollen Sie den Code geeignet auf neue Aufgaben anpassen. Dies bereitet Sie auf diverse Praktika oder Studienarbeiten vor, in denen programmiert werden muss.\n",
    "\n",
    "Beachten Sie: In einzelnen Aufgaben tauchen neue Konzepte der Programmierung auf, etwa if-Bedingungen, Schleifen oder Funktionen, die wir hier kurz vorstellen (möchten Sie mehr darüber erfahren, schauen Sie bitte in [Sprint 5](Sprint5.ipynb)).\n",
    "\n"
   ]
  },
  {
   "cell_type": "markdown",
   "metadata": {},
   "source": [
    "### for-Schleife\n",
    "\n",
    "Eine Schleife, die nur im vorgegebenen Bereich läuft, z.B.\n",
    "\n",
    "```python\n",
    "for i in Bereich:\n",
    "    mache etwas abhägiges von i    \n",
    "```\n",
    "\n",
    "man kommt immer heraus :)"
   ]
  },
  {
   "cell_type": "markdown",
   "metadata": {},
   "source": [
    "### Funktionen\n",
    "\n",
    "Eine Funktion ist ein Codeblock, der eine abgeschlossene Aufgabe erfüllt. Funktionen zerlegen ein komplexes Problem in mehrere, kleinere Teilprobleme. Funktionen haben immer einen **Namen**, können **Argumente** annehmen und **Rückgabewerte** zurückgeben. In den Bibliotheken, die wir importieren, z.B. numpy, gibt es schon viele Funktionen, die wir verwenden können, z.B. die Funktion `np.mean()` hat den Namen `mean`, nimmt als Argument ein `array` (in den runden Klammern), und der Rückgabewert ist der berechnete `Mittelwert`. \n",
    "\n",
    "Wenn Sie nun selbst eine Funktion schreiben wollen, funktioniert dies immer nach folgendem Muster:\n",
    "```python\n",
    "def funktion_name(argumente):\n",
    "    # Code hier\n",
    "    return Rückgabewert\n",
    "```\n",
    "\n",
    "<font color='blue'> **Bitte beachten Sie den Doppelpunkt und die Einrückungen danach!** </font>\n",
    "\n",
    "Ein Rückgabewert ist nicht zwingend notwendig, eine Funktion kann auch keinen Rückgabewert haben.\n",
    "\n",
    "Ist die Funktion **ein mal definiert**, kann sie folgendermaßen **mehrmals verwendet** (abgerufen) werden:\n",
    "\n",
    "```python\n",
    "funktion_name(argumente)\n",
    "```\n",
    "\n",
    "Die Namen der Argumente in der Definition kann man beliebig wählen, sie sollen allerdings nicht mit einer Zahl anfangen, wie immer in Python. Auf Sonderzeichen und Umlaute sollte man lieber verzichten. Die Argumentnamen muss man dann konsequent im Code der Definition verwenden.\n",
    "\n",
    "Bei Verwendung einer Funktion kann man als Argumente direkt Zahlen schreiben, oder auch Namen der Variablen, die man vorher im Programm definiert hat. "
   ]
  },
  {
   "cell_type": "markdown",
   "metadata": {},
   "source": [
    "### if-Bedingungen\n",
    "\n",
    "```python\n",
    "if Bedingung1==True:\n",
    "    Operation1\n",
    "elif Bedingung2==True:\n",
    "    Operation2\n",
    "elif Bedingung3==True:\n",
    "    Operation3    \n",
    "else: \n",
    "    Operation4\n",
    "```\n",
    "Wenn eine Bedingung erfüllt ist `if Bedingung1==True:`, mache etwas `Operation1`. \n",
    "\n",
    "Bei einer anderen Bedingung `elif Bedingung2==True:` mache etwas anderes `Operation2`, \n",
    "\n",
    "sonst `else:` (keine der Bedingungen erfüllt) mache noch etwas anderes `Operation4`. \n",
    "\n",
    "Je nach Bedarf, kann man auf die anderen Bedingungen verzichten.\n",
    "\n",
    "Auch hier <font color='blue'>  **beachten Sie bitte den Doppelpunkt und die Einrückungen danach!** </font>"
   ]
  },
  {
   "cell_type": "markdown",
   "metadata": {},
   "source": [
    "## Mathematik"
   ]
  },
  {
   "cell_type": "markdown",
   "metadata": {},
   "source": [
    "### Aufgabe 1\n",
    "Plotten Sie die Funktion $f(x)=x^3+3x^2-x-3$. Lesen Sie die Nullstellen ab und prüfen Sie dies durch Rechnung nach."
   ]
  },
  {
   "cell_type": "code",
   "execution_count": null,
   "metadata": {},
   "outputs": [],
   "source": [
    "# Ihre Lösung hier"
   ]
  },
  {
   "cell_type": "markdown",
   "metadata": {},
   "source": [
    "<font color='blue'> Doppelklicken Sie <b>hier</b> für die Lösung.</font>\n",
    "<!-- \n",
    "    # Lösung Aufgabe 1\n",
    "\n",
    "    import numpy as np\n",
    "    import matplotlib.pyplot as plt\n",
    "\n",
    "    # x-Werte\n",
    "    anzahl = 100\n",
    "    x=np.linspace(-4, 2, anzahl) # linspace(von, bis, Anzahl)\n",
    "\n",
    "    # y-Werte\n",
    "    y = x**3 + 3*x**2 - x - 3 # Funktion f(x) \n",
    "\n",
    "    ax = plt.gca()\n",
    "    ax.plot(x,y)\n",
    "    ax.grid(True)\n",
    "    ax.spines['left'].set_position('zero')\n",
    "    ax.spines['right'].set_color('none')\n",
    "    ax.spines['bottom'].set_position('zero')\n",
    "    ax.spines['top'].set_color('none')\n",
    "    plt.show()\n",
    "-->"
   ]
  },
  {
   "cell_type": "markdown",
   "metadata": {},
   "source": [
    "### Aufgabe 2 \n",
    "Eine Studentin möchte den Wert der Reihe \n",
    "\\begin{align*}\n",
    "S = \\sum_{k=0}^{\\infty} \\left(\\frac{2}{3}\\right)^k\n",
    "\\end{align*}\n",
    "mit Hilfe eines Programms in Python berechnen. Dazu hat sie folgendes Programm geschrieben:"
   ]
  },
  {
   "cell_type": "code",
   "execution_count": 1,
   "metadata": {},
   "outputs": [],
   "source": [
    "# Code der Studentin zu Aufgabe 2\n",
    "\n",
    "import numpy as np\n",
    "\n",
    "q = 2/3\n",
    "S = 0 # Am Anfang ist die Summe gleich 0\n",
    "N = 50 \n",
    "\n",
    "for k in np.arange(N):   \n",
    "    S = S + q**k"
   ]
  },
  {
   "cell_type": "markdown",
   "metadata": {},
   "source": [
    "Erklären Sie, wie dieser Code funktioniert! Welche Bedeutung hat die Variable $N$ in diesem Code? Geben Sie den Wert für $S$ aus. Passt dieser Wert zum erwarteten Ergebnis? Wie könnte man die Genauigkeit von $S$ erhöhen?"
   ]
  },
  {
   "cell_type": "code",
   "execution_count": null,
   "metadata": {},
   "outputs": [],
   "source": [
    "# Ihre Lösung hier"
   ]
  },
  {
   "cell_type": "markdown",
   "metadata": {},
   "source": [
    "<font color='blue'> Doppelklicken Sie <b>hier</b> für die Lösung.</font>\n",
    "<!-- \n",
    "    # Lösungshinweise zu Aufgabe 2: \n",
    "\n",
    "    # N gibt an, bis zu welchem Glied man die Folge berechnet. Entsprechend ist S dann nur die Summe von k=0 bis 49. \n",
    "\n",
    "    # Die Genauigkeit von S kann man erhöhen, indem man N vergrößert. \n",
    "\n",
    "    # Berechnung von S durch: \n",
    "    print(S)\n",
    "\n",
    "-->"
   ]
  },
  {
   "cell_type": "markdown",
   "metadata": {},
   "source": [
    "### Aufgabe 3\n",
    "Verwenden Sie den Code aus Aufgabe 2, um den Wert \n",
    "\\begin{align*}\n",
    "S = \\sum_{k=0}^{\\infty} \\left(-\\frac{1}{5}\\right)^k\n",
    "\\end{align*}\n",
    "möglichst präzise zu bestimmen."
   ]
  },
  {
   "cell_type": "code",
   "execution_count": null,
   "metadata": {},
   "outputs": [],
   "source": [
    "# Ihre Lösung hier"
   ]
  },
  {
   "cell_type": "markdown",
   "metadata": {},
   "source": [
    "<font color='blue'> Doppelklicken Sie <b>hier</b> für die Lösung.</font>\n",
    "<!-- \n",
    "    # Lösung zu Aufgabe 3\n",
    "\n",
    "    q = -1/5 \n",
    "    S = 0 # Am Anfang ist die Summe gleich 0\n",
    "    N = 50 \n",
    "\n",
    "    for k in np.arange(N):\n",
    "        S = S + q**k\n",
    "\n",
    "    print(S)\n",
    "\n",
    "-->"
   ]
  },
  {
   "cell_type": "markdown",
   "metadata": {},
   "source": [
    "### Aufgabe 4 \n",
    "Überprüfen Sie mit einem geeigneten Python-Programm, dass folgende Gleichung stimmt: \n",
    "\\begin{align*}\n",
    "\\sum_{k=1}^{\\infty} \\frac{1}{k^2} = \\frac{\\pi^2}{6} \n",
    "\\end{align*}\n",
    "Hinweis: Passen Sie dazu z.B. den Code aus Aufgabe 2 in geeigneter Weise an. "
   ]
  },
  {
   "cell_type": "code",
   "execution_count": null,
   "metadata": {},
   "outputs": [],
   "source": [
    "# Ihre Lösung hier"
   ]
  },
  {
   "cell_type": "markdown",
   "metadata": {},
   "source": [
    "<font color='blue'> Doppelklicken Sie <b>hier</b> für die Lösung.</font>\n",
    "<!-- \n",
    "    # Lösung zu Aufgabe 4\n",
    "    import numpy as np\n",
    "\n",
    "    S = 0 # Am Anfang ist die Summe gleich 0\n",
    "    N = 1000000 # Interessanterweise konvergiert diese Folge 'langsamer' gegen den echten Wert als obige geometrische Reihe \n",
    "    for k in range(1,N):\n",
    "        S = S + (1/k**2)\n",
    "\n",
    "    print('Näherungswert der Reihe:', S)\n",
    "    print('Exakter Reihenwert:', np.pi**2/6)\n",
    "    \n",
    "    # oder mit Hilfe von der while-Schleife:\n",
    "    k=1\n",
    "    S=0\n",
    "    while k < N:\n",
    "        S = S + (1/k**2)\n",
    "        k+=1    # wichtig in der while-Schleife! k - Wert-Änderung ! hier um 1 mehr, gleich wie: k = k + 1 \n",
    "\n",
    "    print('Näherungswert der Reihe, gerechnet mit while-Schleife:', S)\n",
    "\n",
    "-->"
   ]
  },
  {
   "cell_type": "markdown",
   "metadata": {},
   "source": [
    "## Physik"
   ]
  },
  {
   "cell_type": "markdown",
   "metadata": {},
   "source": [
    "### Aufgabe 1\n",
    "Ein Massenpunkt mit Masse $m=3~\\text{kg}$ hat den Ortsvektor $\\vec{r}=(2,-1,0)$ (in Metern) und einen Geschwindigkeitsvektor $\\vec{v}=(3,0,4)$ (in Metern). Lösen Sie folgende Aufgaben mit Hilfe von Python:\n",
    "\n",
    "(a) Bestimmen Sie den Betrag der Geschwindigkeit des Massenpunkts. \n",
    "\n",
    "(b) Berechnen Sie den Drehimpuls $\\vec{L}$ für den Massenpunkt.\n",
    "\n",
    "(c) Überprüfen Sie, ob der Drehimpulsvektor senkrecht zum Orts- und Geschwindigkeitsvektor ist. "
   ]
  },
  {
   "cell_type": "code",
   "execution_count": null,
   "metadata": {},
   "outputs": [],
   "source": [
    "# Ihre Lösung hier"
   ]
  },
  {
   "cell_type": "markdown",
   "metadata": {},
   "source": [
    "<font color='blue'> Doppelklicken Sie <b>hier</b> für die Lösung.</font>\n",
    "<!-- \n",
    "\n",
    "    # Lösung zu Aufgabe 1\n",
    "\n",
    "    import numpy as np\n",
    "\n",
    "    m = 3 # Masse in kg \n",
    "    r = np.array([2,-1,0])\n",
    "    v = np.array([3,0,4])\n",
    "\n",
    "    # Aufgabe (a)\n",
    "    print('Geschwindigkeitsbetrag (in Metern):', np.linalg.norm(v))\n",
    "\n",
    "    # Aufgabe (b)\n",
    "    L = m * np.cross(r,v)\n",
    "    print('Drehimpulsvektor:', L)\n",
    "\n",
    "    # Aufgabe (c) \n",
    "    # Wenn die jeweiligen Skalarprodukte Null sind, ist L senkrecht zu den jeweiligen Vektoren\n",
    "    skalarprodukt_1 = np.dot(L,r) # Skalarprodukt zwischen L und r\n",
    "    skalarprodukt_2 = np.dot(L,v) # Skalarprodukt zwischen L und v\n",
    "    print('Skalarprodukt zwischen L und r:', skalarprodukt_1)\n",
    "    print('Skalarprodukt zwischen L und v:', skalarprodukt_2)\n",
    "\n",
    "-->"
   ]
  },
  {
   "cell_type": "markdown",
   "metadata": {},
   "source": [
    "### Aufgabe 2\n",
    "Das folgende Programm (Python-Funktion) wandelt einen Winkel von Bogenmaß in Gradmaß um: "
   ]
  },
  {
   "cell_type": "code",
   "execution_count": null,
   "metadata": {},
   "outputs": [],
   "source": [
    "import numpy as np\n",
    "\n",
    "# Definition der Funktion bogen_zu_grad, um einen Winkel von Bogenmaß in Gradmaß umzurechnen\n",
    "# Die Funktion hat einen Input: Winkel in Bogenmaß\n",
    "# Die Funktion hat einen Output: Winkel Grad\n",
    "# pi in numpy heißt np.pi\n",
    "\n",
    "def bogen_zu_grad(winkel):\n",
    "    winkel_grad = 180*(winkel)/np.pi\n",
    "    \n",
    "    return winkel_grad"
   ]
  },
  {
   "cell_type": "markdown",
   "metadata": {},
   "source": [
    "(a) Nutzen Sie die Funktion bogen_zu_grad(), um den Winkel $\\pi/4$ in Grad umzurechnen. Geben Sie dazu im Argument von bogen_zu_grad den entsprechenden Winkel ein. \n",
    "\n",
    "(b) Schreiben Sie eine Funktion grad_zu_bogen(), die einen Winkel von Grad ins Bogenmaß umrechnet. Bestimmen Sie damit den Winkel $60^{\\circ}$ in Bogenmaß.  "
   ]
  },
  {
   "cell_type": "code",
   "execution_count": null,
   "metadata": {},
   "outputs": [],
   "source": [
    "# Ihre Lösung hier"
   ]
  },
  {
   "cell_type": "markdown",
   "metadata": {},
   "source": [
    "<font color='blue'> Doppelklicken Sie <b>hier</b> für die Lösung.</font>\n",
    "<!-- \n",
    "\n",
    "    # Lösung zu Aufgabe 2\n",
    "\n",
    "    # Aufgabe a\n",
    "\n",
    "    print(bogen_zu_grad(np.pi/4))\n",
    "\n",
    "    # Aufgabe b\n",
    "\n",
    "    def grad_zu_bogen(winkel):\n",
    "        winkel_bogen = np.pi*(winkel)/180\n",
    "\n",
    "        return winkel_bogen\n",
    "\n",
    "\n",
    "    print(grad_zu_bogen(60))\n",
    "\n",
    "-->"
   ]
  },
  {
   "cell_type": "markdown",
   "metadata": {},
   "source": [
    "### Aufgabe 3\n",
    "Das folgende Programm berechnet für Vollzylinder, Hohlzylinder und Vollkugeln mit Masse $m$ und Radius $R$ das Trägheitsmoment $J$: "
   ]
  },
  {
   "cell_type": "code",
   "execution_count": null,
   "metadata": {},
   "outputs": [],
   "source": [
    "def traegheitsmoment(Form, Masse, Radius):\n",
    "    m = Masse\n",
    "    R = Radius\n",
    "    if Form == 'Vollzylinder':\n",
    "        J = (1/2)*m*R**2 \n",
    "    elif Form == 'Hohlzylinder':\n",
    "        J = m*R**2\n",
    "    elif Form == 'Vollkugel':\n",
    "        J = (2/5)*m*R**2 \n",
    "    else:\n",
    "        return print('Fehler oder nicht definiert.')\n",
    "    \n",
    "    return J"
   ]
  },
  {
   "cell_type": "markdown",
   "metadata": {},
   "source": [
    "(a) Berechnen Sie die Trägheitsmomente für Vollzylinder, Hohlzylinder und Vollkugel mit $m=2~\\text{kg}$ und $r=0.05~\\text{m}$. (Die Zylinder rotieren um ihre jeweilige Längsachse.) \n",
    "\n",
    "(b) Ergänzen Sie das obige Programm, sodass die Funktion auch das Trägheitsmoment einer Hohlkugel berechnen kann. (Es gilt $J=(2/3)mR^2$.) "
   ]
  },
  {
   "cell_type": "code",
   "execution_count": null,
   "metadata": {},
   "outputs": [],
   "source": [
    "# Ihre Lösung hier"
   ]
  },
  {
   "cell_type": "markdown",
   "metadata": {},
   "source": [
    "<font color='blue'> Doppelklicken Sie <b>hier</b> für die Lösung.</font>\n",
    "<!-- \n",
    "    # Lösung zu Aufgabe 3\n",
    "\n",
    "    # Aufgabe a\n",
    "    m = 2 \n",
    "    r = 0.05\n",
    "    J1 = traegheitsmoment('Vollzylinder', m, r)\n",
    "    J2 = traegheitsmoment('Hohlzylinder', m, r)\n",
    "    J3 = traegheitsmoment('Vollkugel', m, r)\n",
    "    print('Trägheitsmoment Vollzylinder:', J1)\n",
    "    print('Trägheitsmoment Hohlzylinder:', J2)\n",
    "    print('Trägheitsmoment Vollkugel:', J3)\n",
    "\n",
    "    # Aufgabe b \n",
    "    def traegheitsmoment(Form, Masse, Radius):\n",
    "        m = Masse\n",
    "        R = Radius\n",
    "        if Form == 'Vollzylinder':\n",
    "            J = (1/2)*m*R**2 \n",
    "        elif Form == 'Hohlzylinder':\n",
    "            J = m*R**2\n",
    "        elif Form == 'Vollkugel':\n",
    "            J = (2/5)*m*R**2 \n",
    "        elif Form == 'Hohlkugel':\n",
    "            J = (2/3)*m*R**2\n",
    "        else:\n",
    "            return print('Fehler oder nicht definiert.')\n",
    "\n",
    "        return J\n",
    "\n",
    "-->"
   ]
  },
  {
   "cell_type": "markdown",
   "metadata": {},
   "source": [
    "### Aufgabe 4\n",
    "Ein Astronaut auf dem Mond lässt ein Fadenpendel mit mehreren Längen schwingen. Zu jeder Länge misst er die zugehörige Periodendauer. Diese hat der Astronaut bereits als numpy Vektoren dokumentiert: "
   ]
  },
  {
   "cell_type": "code",
   "execution_count": 38,
   "metadata": {},
   "outputs": [],
   "source": [
    "length = np.array([0.05, 0.1, 0.15, 0.2, 0.25, 0.3, 0.35, 0.4, 0.5]) # Längen in Metern\n",
    "period = np.array([1.05, 1.6, 2.1, 2.2, 2.7, 2.72, 2.97, 3.04, 3.51]) # in Sekunden"
   ]
  },
  {
   "cell_type": "markdown",
   "metadata": {},
   "source": [
    "(a) Stellen Sie diese Messungen in einem Plot dar. \n",
    "\n",
    "(b) Aus der Vorlesung ist die Formel für die Periodendauer $T$ in Abhängigkeit von der Fadenlänge $l$ bekannt. Plotten Sie die Funktion $T(l)$ für den Ortsfaktor $g=1,62~\\text{m}/\\text{s}^2$. Passen die Messwerte dazu?\n",
    "\n",
    "(c) Ausblick auf Physik 2: Schreiben Sie eine Funktion der Fadenlänge $l$ und des Ortsfaktors $g$, die man zu den Daten anpassen kann, um zu überprüfen, dass $T \\sim \\sqrt{l}$ gilt. Die Funktion soll als Ausgabewert die theoretisch berechnete Periodendauer ausgeben. Plotten Sie die Daten und die Funktionswerte."
   ]
  },
  {
   "cell_type": "code",
   "execution_count": 35,
   "metadata": {},
   "outputs": [],
   "source": [
    "# Ihre Lösung hier"
   ]
  },
  {
   "cell_type": "markdown",
   "metadata": {},
   "source": [
    "<font color='blue'> Doppelklicken Sie <b>hier</b> für die Lösung zu 4a und b.</font>\n",
    "<!-- \n",
    "\n",
    "    # Lösung zu Aufgabe 4 a und b\n",
    "\n",
    "    import numpy as np\n",
    "    import matplotlib.pyplot as plt\n",
    "\n",
    "    g = 1.62 \n",
    "    # theoretische Werte: \n",
    "    l = np.linspace(0.01, 0.6, 100) # Plot von l=0.01 bis l=0.6, 100 Punkte\n",
    "    T = 2*np.pi*np.sqrt(l/g)\n",
    "\n",
    "    plt.plot(l,T, 'orange', label = 'theoretisch')\n",
    "    plt.scatter(length, period, label = 'Messung') \n",
    "    plt.legend()\n",
    "    plt.xlabel('Länge des Fadenpendels in Meter')\n",
    "    plt.ylabel('Periodendauer in Sekunden')\n",
    "    plt.grid(True)\n",
    "\n",
    "-->"
   ]
  },
  {
   "cell_type": "markdown",
   "metadata": {},
   "source": [
    "<font color='blue'> Doppelklicken Sie <b>hier</b> für die Lösung zu 4c.</font>\n",
    "<!-- \n",
    "import numpy as np\n",
    "import matplotlib.pyplot as plt\n",
    "\n",
    "length = np.array([0.05, 0.1, 0.15, 0.2, 0.25, 0.3, 0.35, 0.4, 0.5]) # Längen in Metern\n",
    "g_mond = 1.62 \n",
    "\n",
    "# Definition der Funktion 'theoretische_T', die den theoretischen T-Wert ausgibt:\n",
    "def theoretische_T(l,g):\n",
    "    T_theo = 2*np.pi*np.sqrt(l/g)\n",
    "    return T_theo\n",
    "\n",
    "# Anwendung der Funktion 'theoretische_T' mit den vorher definierten Werten der Länge (length) und des Ortsfaktors (g_mond):\n",
    "print( theoretische_T(length,g_mond) )\n",
    "\n",
    "# plot der Länge (length) auf der X-Achse \n",
    "# und den passenden Funktionswerten (theoretische_T(length,g_mond)) auf der Y-Achse\n",
    "plt.plot(length,theoretische_T(length,g_mond), 'orange', label = 'theoretisch') \n",
    "\n",
    "plt.scatter(length, period, label = 'Messung') \n",
    "plt.legend()\n",
    "plt.xlabel('Länge des Fadenpendels in Meter')\n",
    "plt.ylabel('Periodendauer in Sekunden')\n",
    "plt.grid()\n",
    "-->"
   ]
  },
  {
   "cell_type": "markdown",
   "metadata": {},
   "source": [
    "[**-->Sprint 4: Sympy**](Sprint4.ipynb)"
   ]
  }
 ],
 "metadata": {
  "kernelspec": {
   "display_name": "Python 3",
   "language": "python",
   "name": "python3"
  },
  "language_info": {
   "codemirror_mode": {
    "name": "ipython",
    "version": 3
   },
   "file_extension": ".py",
   "mimetype": "text/x-python",
   "name": "python",
   "nbconvert_exporter": "python",
   "pygments_lexer": "ipython3",
   "version": "3.8.3"
  }
 },
 "nbformat": 4,
 "nbformat_minor": 4
}
