{
 "cells": [
  {
   "cell_type": "markdown",
   "metadata": {},
   "source": [
    "<div class=\"pull-right\"> \n",
    "<img src= https://upload.wikimedia.org/wikipedia/commons/f/f7/Hochschule_Mannheim_logo.svg \"width=350\" >\n",
    "&emsp;\n",
    "&emsp;\n",
    "&emsp;\n",
    "</div>"
   ]
  },
  {
   "cell_type": "markdown",
   "metadata": {},
   "source": [
    "## Inhalte dieses Kurses\n",
    "\n",
    "- [Erste Schritte](Erste_Schritte.ipynb)\n",
    "- [Python installieren und ausführen](Installation.ipynb)\n",
    "- [Sprint 1: Grundlagen und Numpy](Sprint1.ipynb)\n",
    "- [Sprint 2: Grafiken mit Matplotlib](Sprint2.ipynb)\n",
    "- [Sprint 3: Datenanalyse](Sprint3.ipynb)\n",
    "- [Übungsnotebook zu Booklets 4-6](Übungsnotebook.ipynb)\n",
    "\n",
    "*Optional:*\n",
    "- [*Sprint 4: Sympy*](Sprint4.ipynb)\n",
    "- [**Sprint 5: Funktionen**](Sprint5.ipynb)\n",
    "- [*Sprint 6: Komplexe Zahlen*](Sprint6.ipynb)\n",
    "- [*Beispiel 1: Schwingungen und komplexe Zahlen*](Bsp1_SchwingungenUndKomplexeZahlen.ipynb)\n",
    "- [*Beispiel 2: Harmonischer Oszillator*](Bsp2_HarmonischerOszillator.ipynb)\n",
    "- [*Beispiel 3: Gedämpfter Oszillator*](Bsp3_GedaempfterOszillator.ipynb)\n",
    "- [*Beispiel 4: Erzwungene Schwingung*](Bsp4_ErzwungeneSchwingungen.ipynb)\n",
    "\n",
    "Alle Sprints und Beispiele finden Sie in der [\"Python_Jupyter_Notebooks_verNN.zip\"](https://moodle.hs-mannheim.de/mod/resource/view.php?id=100638)-Datei auf [unserer Moodle-Seite](https://moodle.hs-mannheim.de/course/view.php?id=3062)"
   ]
  },
  {
   "cell_type": "markdown",
   "metadata": {},
   "source": [
    "# Sprint 5\n",
    "\n",
    "# Funktionen"
   ]
  },
  {
   "cell_type": "markdown",
   "metadata": {},
   "source": [
    "Sie können nun bereits Variablen setzen, plotten, Daten auswerten und kleine Programme schreiben. Wenn Sie jedoch komplexere Berechnungen ausführen möchten, kann ein Programm schnell sehr lang und unleserlich werden. Dabei sollte auf jeden Fall darauf geachtet werden **Wiederholung zu vermeiden**. Dazu lernen Sie in diesem Sprint **Funktionen** zu definieren. Funktionen sind wiederverwendbare Programmbausteine. Funktionen aus Bibliotheken, wie z.B `Numpy`, haben Sie ja bereits kennengelernt.\n",
    "\n",
    "\n",
    "Eine Funktion ist ein Codeblock, der eine abgeschlossene Aufgabe erfüllt. Sie zerlegt ein komplexes Problem in mehrere, kleinere Teilprobleme. Funktionen haben immer einen **Namen**, können **Argumente** annehmen und **Rückgabewerte** zurückgeben. Erinnern Sie sich einmal an den letzten Sprint zurück. Die Funktion `np.mean()` hat den Namen `mean`, nimmt als Argument ein `array` und der Rückgabewert ist der berechnete `Mittelwert`. \n",
    "\n",
    "Wenn Sie nun selbst eine Funktion schreiben wollen, funktioniert dies immer nach folgendem Muster:\n",
    "```python\n",
    "def funktion_name(argumente):\n",
    "    # Code hier\n",
    "    return Rückgabewert\n",
    "```\n",
    "\n",
    "<font color='blue'> **Bitte beachten Sie den Doppelpunkt und die Einrückungen danach!** </font>\n",
    "\n",
    "Ein Rückgabewert ist nicht zwingend notwendig, eine Funktion kann auch keinen Rückgabewert haben.\n",
    "\n",
    "Ist die Funktion definiert, kann sie folgendermaßen verwendet (abgerufen) werden:\n",
    "\n",
    "```python\n",
    "funktion_name(argumente)\n",
    "```\n",
    "   \n",
    "In zahlreichen Videos kann man mehr über [Funktionen](https://www.youtube.com/watch?v=cdsL1EXs7LE), eine besondere [lambda-Funktion](https://www.youtube.com/watch?v=CBw_Ci-WXlU) sowie sehr nützliche Python-Konstruktionen, die Sie in Ihre Programme und Funktionen einbauen können, wie die while-Schleife [hier](https://www.youtube.com/watch?v=5FNVcHUjYCM), oder [da](https://www.youtube.com/watch?v=GBZpO1NGDKM&list=RDCMUCjTfChr0yyz4iZq0x12Q6xA&index=1), [for-Schleife](https://www.youtube.com/watch?v=jZxa1IKAgOo), [if-else-Bedingungen](https://www.youtube.com/watch?v=MDxgzWCV3oM) oder [list comprehensions (und map, filter)](https://www.youtube.com/watch?v=pv46QAvw1zs&list=PLb0zKSynM2PCmp5J5LWM3PcZXBaCoQkXj&index=8) erfahren. Am Ende des notebooks finden Sie einfache Beispiele für diese Konstruktionen."
   ]
  },
  {
   "cell_type": "code",
   "execution_count": null,
   "metadata": {},
   "outputs": [],
   "source": [
    "# Wie immer...\n",
    "# Zeige Plots direkt im Jupyter Notebook an\n",
    "%matplotlib inline\n",
    "# pyplot importieren\n",
    "import matplotlib.pyplot as plt \n",
    "\n",
    "# numpy importieren\n",
    "import numpy as np\n",
    "\n",
    "# sympy importieren\n",
    "import sympy as sy"
   ]
  },
  {
   "cell_type": "markdown",
   "metadata": {},
   "source": [
    "Folgendes Beispiel berechnet die Fläche eines Rechtecks. Als Argumente werden die Kantenlängen übergeben und die Fläche wird ausgegeben."
   ]
  },
  {
   "cell_type": "code",
   "execution_count": null,
   "metadata": {},
   "outputs": [],
   "source": [
    "# Beispielfunktion Rechteck.\n",
    "def flaeche_rechteck(a,b): #Kantenlängen als Argumente\n",
    "    A = a*b\n",
    "    return A"
   ]
  },
  {
   "cell_type": "markdown",
   "metadata": {},
   "source": [
    "Um diese Funktion nun zu benutzen, müssen wir Sie aufrufen. Als Beispiel verwenden wir die Kantenlängen 5m und 6m . "
   ]
  },
  {
   "cell_type": "code",
   "execution_count": null,
   "metadata": {},
   "outputs": [],
   "source": [
    "flaeche = flaeche_rechteck(5,6)\n",
    "print(flaeche)"
   ]
  },
  {
   "cell_type": "markdown",
   "metadata": {},
   "source": [
    "Versuchen Sie einmal eine Funktion zu schreiben, die Ihnen das Maximum von 3 Zahlen a,b, und c als Rückgabewert zurückgibt. \n",
    "\n",
    "*Tipp: verwenden Sie entweder `np.amax` aus Sprint 3 oder `max`. `np.amax` benötigt Numpy-Arrays beliebiger Länge, `max` benötigt zwei Zahlen.*"
   ]
  },
  {
   "cell_type": "code",
   "execution_count": null,
   "metadata": {},
   "outputs": [],
   "source": [
    "#Ihre Lösung hier "
   ]
  },
  {
   "cell_type": "markdown",
   "metadata": {},
   "source": [
    "<font color='blue'> Doppelklicken Sie <b>hier</b> für die Lösung.</font>\n",
    "<!-- Lösung: \n",
    "def max3(a, b, c):\n",
    "    maximum = max(max(a,b),c) #berechnet erst Maximum von a & b und dann noch im Vergleich zu c\n",
    "    return maximum\n",
    "print(max3(40,41,42))\n",
    "-->"
   ]
  },
  {
   "cell_type": "markdown",
   "metadata": {},
   "source": [
    "Bis jetzt hatten unsere Funktionen immer nur einen Rückgabewert. Manchmal möchte man aber Funktionen, die mehr als nur einen Wert zurückgeben.  Mit Python ist es kein Problem, auch Funktionen zu definieren, die das können. Hier ein Beispiel dazu:"
   ]
  },
  {
   "cell_type": "code",
   "execution_count": null,
   "metadata": {},
   "outputs": [],
   "source": [
    "def add_and_multiply(zahl1, zahl2):\n",
    "    return zahl1+zahl2, zahl1*zahl2\n",
    "\n",
    "a = add_and_multiply(21,2) #beide Rückgabewerte in a\n",
    "print(a, a[0], a[1])\n",
    "\n",
    "a, b = add_and_multiply(21,2) #jeweils ein Rückgabewert in a und b\n",
    "print(a, b)\n"
   ]
  },
  {
   "cell_type": "markdown",
   "metadata": {},
   "source": [
    "Dieses Programm gibt die Summe und das Produkt zweier Zahlen (hier zahl1 und zahl2) zurück. Sie können bei der Zuweisung in Zeile 4 sehen, dass mehrere Rückgabewerte als Tupel einer Variable a übergeben werden. Man kann aber auch jeden Rückgabewert einer einzigen Variablen zuweisen, so wie es in Zeile 7 gemacht wurde. Welche Variante sinnvoller ist, ist von der jeweiligen Anwendung abhängig."
   ]
  },
  {
   "cell_type": "markdown",
   "metadata": {},
   "source": [
    "<div class=\"pull-left\"> \n",
    "<img src=\"Bilder/Achtung_schild.png\" width=\"50\">   \n",
    "</div>  \n",
    "\n",
    "Versuchen Sie innerhalb der Funktionen nur ihre Argumente und dort genannten Variablen zu benutzen, wie z.B. in der Funktion `flaeche_rechteck(a,b)` nur a,b, und A benutzt wurde (übringens: A 'lebt' nur innerhalb der Funktion). Würde man an dieser Stelle des notebooks z.B. `flaeche` innerhalb einer neuer Funktion benutzen (ohne sie als Argument zu deklarieren), wird das an der Stelle noch funktionieren, allerdings nicht unbedingt an einer anderen Stelle, wenn Sie solche Funktion mitnehmen. Hier ein SCHLECHTES Beispiel:"
   ]
  },
  {
   "cell_type": "code",
   "execution_count": null,
   "metadata": {},
   "outputs": [],
   "source": [
    "def quader_volumen(c): \n",
    "    return flaeche*c  # NICHT MACHEN! Es sei denn, Sie wissen wirklich, was Sie tun.\n",
    "\n",
    "quader_volumen(20) # flaeche-Variable wurde in diesem notebook bereits definiert, \n",
    "                   # daher meckert die quader_volumen-Funktion nicht, wenn sie abgerufen wird.\n",
    "                   # An anderer Stelle kann es zu Problemem kommen.   "
   ]
  },
  {
   "cell_type": "markdown",
   "metadata": {},
   "source": [
    "Man kann Funktionen in Funktionen benutzen, wie z.B. hier: "
   ]
  },
  {
   "cell_type": "code",
   "execution_count": null,
   "metadata": {},
   "outputs": [],
   "source": [
    "def quader_volumen(a,b,c): \n",
    "    return flaeche_rechteck(a,b)*c  \n",
    "\n",
    "quader_volumen(2,3,4)"
   ]
  },
  {
   "cell_type": "markdown",
   "metadata": {},
   "source": [
    "Will man die Funktion `quader_volumen(a,b,c)` in einem anderen Programm verwenden, muss man auch die Funktion `flaeche_rechteck(a,b)` mitnehmen."
   ]
  },
  {
   "cell_type": "markdown",
   "metadata": {},
   "source": [
    "## Aufgaben Mathematik"
   ]
  },
  {
   "cell_type": "markdown",
   "metadata": {},
   "source": [
    "### Aufgabe 1(**)\n",
    "\n",
    "a) Schreiben Sie ein Funktion, die den Abstand zweier Punkte $\\vec{x} = \\left( \\begin{array}{c} x_1 \\\\x_2\\\\ \\end{array}\\right)$ und $\\vec{y} = \\left( \\begin{array}{c} y_1 \\\\y_2\\\\ \\end{array}\\right)$ zurückgibt. \n",
    "\n",
    "b) Berechnen Sie mit dieser Funktion den Abstand der Punkte $\\vec{x} = \\left( \\begin{array}{c} 10 \\\\-3\\\\ \\end{array}\\right)$ und $\\vec{y} = \\left( \\begin{array}{c} 11 \\\\20\\\\ \\end{array}\\right)$"
   ]
  },
  {
   "cell_type": "code",
   "execution_count": null,
   "metadata": {},
   "outputs": [],
   "source": [
    "#Ihre Lösung hier    "
   ]
  },
  {
   "cell_type": "markdown",
   "metadata": {},
   "source": [
    "<font color='blue'> Doppelklicken Sie <b>hier</b> für die Lösung.</font>\n",
    "\n",
    "<!-- Lösung: \n",
    "def abstand(x1,x2,y1,y2):\n",
    "    a = np.sqrt((x1-y1)**2+(x2-y2)**2)\n",
    "    return a\n",
    "abs = abstand(10,-3,11,20)\n",
    "print('Der Abstand zwischen den beiden Punkten ist:', abs)\n",
    "-->"
   ]
  },
  {
   "cell_type": "markdown",
   "metadata": {},
   "source": [
    "### Aufgabe 2(**)\n",
    "\n",
    "Schreiben Sie eine Funktion, die aus drei unterschiedlichen Zahlen die zwei größeren zurückgibt."
   ]
  },
  {
   "cell_type": "code",
   "execution_count": null,
   "metadata": {},
   "outputs": [],
   "source": [
    "# Ihre Lösung hier"
   ]
  },
  {
   "cell_type": "markdown",
   "metadata": {},
   "source": [
    "<font color='blue'> Doppelklicken Sie <b>hier</b> für die Lösung.</font>\n",
    "\n",
    "<!-- Lösung: \n",
    "def zwei_max3(a, b, c):\n",
    "    numbers2check = np.array([a, b, c])\n",
    "    maximum1 = np.amax(numbers2check) #berechnet erst Maximum von a & b &c\n",
    "    numbers2check = numbers2check[numbers2check < maximum1]\n",
    "    maximum2 = np.amax(numbers2check) #berechnet das Maximum der restlichen Zahlen    \n",
    "    return maximum1, maximum2\n",
    "print(zwei_max3(5,1,42)) #Beispiel\n",
    "-->"
   ]
  },
  {
   "cell_type": "markdown",
   "metadata": {},
   "source": [
    "## Aufgaben Physik"
   ]
  },
  {
   "cell_type": "markdown",
   "metadata": {},
   "source": [
    "### Aufgabe 1 (* - ***)"
   ]
  },
  {
   "cell_type": "markdown",
   "metadata": {},
   "source": [
    "a) Schreiben Sie eine Funktion, die das Trägheitsmoment eines Hohlzylinders, der um seine Symmetrieachse rotiert, berechnet. Die Funktion soll das Trägheitsmoment in der Einheit $\\text{kg} \\cdot \\text{m}^2$ zurückgeben.(**)\n",
    "\n",
    "b) Berechnen Sie das Trägheitsmoment eines Hohlzylinders mit der Masse $m = 2~\\text{kg}$, dem Innenradius $r = 20~\\text{cm}$, dem Aussenradius $R = 25~\\text{cm}$ und der Höhe $h = 20~\\text{cm}$.(*)\n",
    "\n",
    "c) Schreiben Sie eine weitere Funktion, die das Trägheitsmoment eines Objekts berechnet, wenn die Rotationsachse parallel zu einer Achse durch Massenmittelpunkt verschoben wird. (**)\n",
    "\n",
    "d) Berechnen Sie das Trägheitsmoments des Hohlzylinders aus *b)*, wenn die Rotationsachse um $d=5~\\text{cm}$ parallel verschoben wird.\n",
    "\n",
    "e) Plotten Sie das Trägheitsmoment des Hohlzylinders für Verschiebungen zwischen $d = 0~\\text{cm}$ und $d = 1~\\text{m}$. Mit was für einer mathematische Funktion lässt sich die entstehende Kurve beschreiben? (***).\n",
    "![](https://upload.wikimedia.org/wikipedia/commons/thumb/a/a6/Zylinder-rohr-s.svg/150px-Zylinder-rohr-s.svg.png)"
   ]
  },
  {
   "cell_type": "code",
   "execution_count": null,
   "metadata": {},
   "outputs": [],
   "source": [
    "# Ihre Lösung hier"
   ]
  },
  {
   "cell_type": "markdown",
   "metadata": {},
   "source": [
    "<font color='blue'> Doppelklicken Sie <b>hier</b> für die Lösung.</font>\n",
    "\n",
    "<!-- Lösung: \n",
    "#Teil a)\n",
    "def Traegheitsmoment_Hohlzylinder(r,R,m):\n",
    "    J = 1/2*m*(r**2+R**2)\n",
    "    return J\n",
    "#Teil b)\n",
    "r = 20/100 # r = 20 cm in m\n",
    "R = 25/100 # R = 25 cm in m\n",
    "m = 2 # m = 2  kg\n",
    "J_Teil_b = Traegheitsmoment_Hohlzylinder(r,R,m) #Einheiten in SI-Einheiten!\n",
    "print('Lösung b): J= ', J_Teil_b,'kg m^2')\n",
    "#Teil c) - Ansatz Steinerscher Satz\n",
    "def rotAchse_par_verschiebung(J_alt,d,m):\n",
    "    J_neu = J_alt + m*d**2 #Steinerscher Satz\n",
    "    return J_neu\n",
    "#Teil d)\n",
    "d = 5/100 # Abstand 5cm in m\n",
    "J_Teil_d =rotAchse_par_verschiebung(J_Teil_b,d,m) #Einheiten in SI-Einheiten!\n",
    "print('Lösung d): J= ', J_Teil_d,'kg m^2')\n",
    "#Teil e)\n",
    "abstaende = np.linspace(0,1,100) # 100 Werte zwischen 0 und 1m \n",
    "Traegheitsmomente = rotAchse_par_verschiebung(J_Teil_b,abstaende,m) #Berechnet alle Trägheitsmomente für die Abstände\n",
    "plt.plot(abstaende,Traegheitsmomente)\n",
    "plt.title('Teil e): Trägheitsmoment Hohlzylinder bei Verschiebung der Rotationsachse')\n",
    "plt.xlabel('Verschiebung der Rot.Achse d [m]')\n",
    "plt.ylabel('Trägheitsmoment J [kg m^2]')\n",
    "print('es entsteht ein Parabel, die die y-Achse bei dem Ergebnis für J ohne eine Verschiebung schneidet. Die quaratische Funktion ergibt sich aus dem Steinerschen Satz.')\n",
    "-->"
   ]
  },
  {
   "cell_type": "markdown",
   "metadata": {},
   "source": [
    "## Ergänzung\n",
    "### $\\lambda$-Funktion\n",
    "\n",
    "ist eine sogennante \"anonyme\" Funktion \n",
    "- hat keinen Namen, \n",
    "- kann mehere Argumente aufnehmen, aber nur einen Ausdruck verwenden, \n",
    "- darf nur eine Zeile lang sein.\n",
    "\n",
    "Sehr praktisch, wenn es schnell und kurz sein muss:\n",
    "\n",
    "```python\n",
    "lambda Argumente : Ausdruck\n",
    "```\n",
    "\n",
    "Super praktisch, wenn man sie innerhalb einer anderen Funktion benutzen will"
   ]
  },
  {
   "cell_type": "code",
   "execution_count": null,
   "metadata": {
    "scrolled": false
   },
   "outputs": [],
   "source": [
    "quadrat=lambda x: x*x \n",
    "print(quadrat(8))"
   ]
  },
  {
   "cell_type": "code",
   "execution_count": null,
   "metadata": {},
   "outputs": [],
   "source": [
    "zylinder_volumen=lambda r,h: np.pi*r**2*h\n",
    "zylinder_volumen(1,1)"
   ]
  },
  {
   "cell_type": "markdown",
   "metadata": {},
   "source": [
    "### while-Schleife\n",
    "\n",
    "Eine Schleife, die unterbrochen wird, wenn eine Bedingung nicht mehr erfüllt wird:\n",
    "\n",
    "```python\n",
    "while True:\n",
    "    mache was\n",
    "    Bedingung ändern\n",
    "```\n",
    "\n",
    "<div class=\"pull-left\"> \n",
    "<img src=\"Bilder/Achtung_schild.png\" width=\"40\">   \n",
    "</div>  \n",
    "    Man darf nicht vergessen, die Bedingung innerhalb der while-Schleife zu ändern, falls sie am Anfang wahr war, sonst kommt man aus der Schleife nie heraus!"
   ]
  },
  {
   "cell_type": "code",
   "execution_count": null,
   "metadata": {},
   "outputs": [],
   "source": [
    "k=0\n",
    "while k<5:\n",
    "    k=k+1   # man darf nicht vergessen, die Bedingung zu ändern, sonst läuft die Schleife endlos!!!!!!\n",
    "    print(k)\n",
    "        \n",
    "print('gemacht!') # print-Befehl nach der Schleife, da nicht mehr eingerückt    "
   ]
  },
  {
   "cell_type": "markdown",
   "metadata": {},
   "source": [
    "### for-Schleife\n",
    "\n",
    "Eine Schleife, die nur im vorgegebenen Bereich läuft, z.B.\n",
    "\n",
    "```python\n",
    "for i in Bereich:\n",
    "    mache was abhägiges von i    \n",
    "```\n",
    "\n",
    "man kommt immer heraus :)"
   ]
  },
  {
   "cell_type": "code",
   "execution_count": null,
   "metadata": {
    "scrolled": true
   },
   "outputs": [],
   "source": [
    "for k in [1,3,5,7]:\n",
    "    print(k+1)\n",
    "print('gemacht!') # nach der Schleife, da nicht mehr eingerückt    "
   ]
  },
  {
   "cell_type": "markdown",
   "metadata": {},
   "source": [
    "### if-Bedingungen\n",
    "\n",
    "Wenn eine Bedingung erfüllt ist, mache etwas, bei einer anderen Bedingung mache etwas anderes, sonst (keine der Bedingung erfüllt) mache noch etwas anderes. Je nach Bedarf, kann man auf die anderen Bedingungen verzichten:\n",
    "\n",
    "```python\n",
    "if Bedingung1==True:\n",
    "    Operation1\n",
    "elif Bedingung2==True:\n",
    "    Operation2\n",
    "elif Bedingung3==True:\n",
    "    Operation3    \n",
    "else: \n",
    "    Operation4\n",
    "```"
   ]
  },
  {
   "cell_type": "code",
   "execution_count": null,
   "metadata": {
    "scrolled": true
   },
   "outputs": [],
   "source": [
    "for k in range(11):\n",
    "    if k%2==0:      # k ist teilbar durch 2\n",
    "        print(k, 'ist gerade') \n",
    "    elif k%5==0:\n",
    "        print(k, 'ist teilbar durch 5')\n",
    "    elif k%3==0:\n",
    "        print(k, 'ist teilbar durch 3')\n",
    "    else: \n",
    "        print(k, 'ist weder gerade, noch teilbar durch 3, noch teilbar durch 5')      "
   ]
  },
  {
   "cell_type": "markdown",
   "metadata": {},
   "source": [
    "<div class=\"pull-left\"> \n",
    "<img src=\"Bilder/Achtung_schild.png\" width=\"40\">   \n",
    "</div> \n",
    "Wie man hier sieht, wurde 6 nicht als teilbar durch 3 erkannt (und 10 wurde nicht als teilbar durch 5 erkannt). Es liegt daran, dass sobald eine Bedingung erfüllt wird (hier die erste Bedingung: 6 und 10 sind gerade), kommt man aus dem Vergleich heraus. "
   ]
  },
  {
   "cell_type": "markdown",
   "metadata": {},
   "source": [
    "### list comprehension\n",
    "\n",
    "ist wie for-Schleife + if-Bedingung, nur einfacher zu benutzen:\n",
    "\n",
    "```python\n",
    "mache was abhängiges von Variable for Variable in Bereich if Bedingung == True   \n",
    "```\n",
    "oder eleganter ausgedrückt:\n",
    "```python\n",
    "[ Ausdruck for item1 in Sequenz1\n",
    "           for item2 in Sequenz2\n",
    "           ...\n",
    "           for itemN in SequenzN\n",
    "           if Bedingung ]\n",
    "```"
   ]
  },
  {
   "cell_type": "code",
   "execution_count": null,
   "metadata": {},
   "outputs": [],
   "source": [
    "[ x*x for x in range(10) if x%2==1]"
   ]
  },
  {
   "cell_type": "markdown",
   "metadata": {},
   "source": [
    "[**-> Sprint 6: Komplexe Zahlen**](Sprint6.ipynb)"
   ]
  }
 ],
 "metadata": {
  "kernelspec": {
   "display_name": "Python 3",
   "language": "python",
   "name": "python3"
  },
  "language_info": {
   "codemirror_mode": {
    "name": "ipython",
    "version": 3
   },
   "file_extension": ".py",
   "mimetype": "text/x-python",
   "name": "python",
   "nbconvert_exporter": "python",
   "pygments_lexer": "ipython3",
   "version": "3.8.3"
  }
 },
 "nbformat": 4,
 "nbformat_minor": 2
}
