{
 "cells": [
  {
   "cell_type": "markdown",
   "metadata": {},
   "source": [
    "<div class=\"pull-right\"> \n",
    "<img src= https://upload.wikimedia.org/wikipedia/commons/f/f7/Hochschule_Mannheim_logo.svg \"width=350\" >\n",
    "&emsp;\n",
    "&emsp;\n",
    "&emsp;\n",
    "</div>"
   ]
  },
  {
   "cell_type": "markdown",
   "metadata": {},
   "source": [
    "## Inhalte dieses Kurses\n",
    "\n",
    "- [Erste Schritte](Erste_Schritte.ipynb)\n",
    "- [Python installieren und ausführen](Installation.ipynb)\n",
    "- [Sprint 1: Grundlagen und Numpy](Sprint1.ipynb)\n",
    "- [Sprint 2: Grafiken mit Matplotlib](Sprint2.ipynb)\n",
    "- [Sprint 3: Datenanalyse](Sprint3.ipynb)\n",
    "- [Übungsnotebook zu Booklets 4-6](Übungsnotebook.ipynb)\n",
    "\n",
    "*Optional:*\n",
    "- [*Sprint 4: Sympy*](Sprint4.ipynb)\n",
    "- [*Sprint 5: Funktionen*](Sprint5.ipynb)\n",
    "- [*Sprint 6: Komplexe Zahlen*](Sprint6.ipynb)\n",
    "- [*Beispiel 1: Schwingungen und komplexe Zahlen*](Bsp1_SchwingungenUndKomplexeZahlen.ipynb)\n",
    "- [**Beispiel 2: Harmonischer Oszillator**](Bsp2_HarmonischerOszillator.ipynb)\n",
    "- [*Beispiel 3: Gedämpfter Oszillator*](Bsp3_GedaempfterOszillator.ipynb)\n",
    "- [*Beispiel 4: Erzwungene Schwingung*](Bsp4_ErzwungeneSchwingungen.ipynb)\n",
    "\n",
    "\n",
    "Alle Sprints und Beispiele finden Sie in der [\"Python_Jupyter_Notebooks_verNN.zip\"](https://moodle.hs-mannheim.de/mod/resource/view.php?id=100638)-Datei auf [unserer Moodle-Seite](https://moodle.hs-mannheim.de/course/view.php?id=3062)"
   ]
  },
  {
   "cell_type": "markdown",
   "metadata": {},
   "source": [
    "## Harmonischer Oszillator (HO)\n",
    "### Die Bewegungsgeichung\n",
    "\n",
    "   \n",
    "Allgemein haben wir eine Bewegungsgleichung zu lösen:    \n",
    "\n",
    "\\begin{aligned}\n",
    "m\\frac{d^2x}{dt^2}+kx=0 \n",
    "\\end{aligned}    \n",
    "\n",
    "Wir berücksichtigen, dass $\\omega_0=\\sqrt{\\frac{k}{m}}$ gilt: \n",
    "\n",
    "\\begin{aligned}\n",
    "\\frac{d^2x}{dt^2}+\\omega_0^2 x=0 \n",
    "\\end{aligned}    \n",
    "\n",
    "Wir lösen diese Gleichung mit Hilfe von `sympy`, das wir Ihnen näher in [Sprint4](Sprint4.ipynb) vorgestellt haben. In [diesem Video](https://www.youtube.com/watch?v=3-9Ys1_EwwU) können Sie erfahren, wie man in `sympy` allgemein eine Bewegungsgleichung lösen kann.   "
   ]
  },
  {
   "cell_type": "code",
   "execution_count": null,
   "metadata": {
    "scrolled": true
   },
   "outputs": [],
   "source": [
    "# wie immer:\n",
    "%matplotlib notebook \n",
    "import matplotlib.pyplot as plt \n",
    "\n",
    "# numpy importieren\n",
    "import numpy as np\n",
    "\n",
    "# sympy importieren\n",
    "import sympy as sy"
   ]
  },
  {
   "cell_type": "markdown",
   "metadata": {},
   "source": [
    "### Lösung der Bewegungsgeichung"
   ]
  },
  {
   "cell_type": "code",
   "execution_count": null,
   "metadata": {
    "scrolled": true
   },
   "outputs": [],
   "source": [
    "# Symbole definieren\n",
    "t = sy.symbols('t', real=True)\n",
    "w0 = sy.symbols('\\omega_0 ', real=True, positive=True)\n",
    "\n",
    "# Funktion X_HO definieren\n",
    "X_HO = sy.Function('X_HO')\n",
    "\n",
    "# Bewegungsgleichung definieren\n",
    "Gleichung_HO = sy.diff(X_HO(t),t,2) + w0**2*X_HO(t)"
   ]
  },
  {
   "cell_type": "markdown",
   "metadata": {},
   "source": [
    "Eine Bewegungsgleichung löst man in `sympy` mit der Methode `dsolve`:"
   ]
  },
  {
   "cell_type": "code",
   "execution_count": null,
   "metadata": {},
   "outputs": [],
   "source": [
    "x_los_HO=sy.dsolve(Gleichung_HO) #x_los_HO: Lösung der Bewegungsgleichung des harmonischen Oszillators\n",
    "x_los_HO"
   ]
  },
  {
   "cell_type": "markdown",
   "metadata": {},
   "source": [
    "Jetzt müssen noch Konstanten $C_1$ und $C_2$ anhand der von uns gegebenen Anfangsbedingungen bestimmt werden: Ort $x_0$ zum Zeitpunkt $t=0$: $X_{HO}(0)=x_0$ und Geschwindigkeit $v_0$: $X_{HO}'(0)=v_0$.  \n",
    "\n",
    "Dazu müssen wir   \n",
    "- die rechte Seite (`rhs`-Funktion) der obigen Gleichung für t=0 gleich $x_0$ setzen\n",
    "- die Ableitung der rechten Seite für t=0 gleich $v_0$ setzen\n",
    "\n",
    "und beide Geichungen lösen"
   ]
  },
  {
   "cell_type": "code",
   "execution_count": null,
   "metadata": {},
   "outputs": [],
   "source": [
    "# Symbole z0, v0 definieren\n",
    "x0, v0 = sy.symbols('x0 v0', real=True)\n",
    "\n",
    "# Gleichungssystem definieren\n",
    "equations = [\n",
    "    sy.Eq(x_los_HO.rhs.subs(t,0).evalf(), x0),# t->0 ersetzen in der rhs (right-hand-side), rechten Seite der Lösung  \n",
    "    sy.Eq(sy.diff(x_los_HO.rhs,t).subs(t,0).evalf(), v0 )\n",
    "]\n",
    "\n",
    "# Gleichungssystem lösen lassen\n",
    "Konstanten_HO=sy.solve(equations)\n",
    "\n",
    "# Konstanten in der Lösung einsetzen\n",
    "x_los_HO_full=x_los_HO.subs(Konstanten_HO[0]).evalf() #z_los_HO_full: vollständige Lösung\n",
    "x_los_HO_full"
   ]
  },
  {
   "cell_type": "markdown",
   "metadata": {},
   "source": [
    "### Berechnung der Geschwindigkeit und Beschleunigung\n",
    "\n",
    "Als Lösung der Bewegungsgleichung haben wir den Ort (die Position) des harmonischen Oszillators als Funktion der Zeit erhalten.    \n",
    "Jetzt möchten wir noch die Geschwindigkeit und Beschleunigung bestimmen. Diese Funktionen erhalten wir durch Ableiten der Lösungen nach Zeit:  \n",
    "\n",
    "$v_{HO}(t)=X_{HO}'(t)$ und $a_{HO}(t)=v_{HO}'(t)$, \n",
    "\n",
    "wozu wir wieder die Methode `sy.diff` benutzen werden:"
   ]
  },
  {
   "cell_type": "code",
   "execution_count": null,
   "metadata": {},
   "outputs": [],
   "source": [
    "# Geschwindigkeit, als Ableitung der rechten Seite der letzten Gleichung nach Zeit\n",
    "v_HO=sy.diff(x_los_HO_full.rhs,t)\n",
    "v_HO"
   ]
  },
  {
   "cell_type": "code",
   "execution_count": null,
   "metadata": {},
   "outputs": [],
   "source": [
    "# Beschleunigung, als Ableitung der Geschwindigkeit\n",
    "a_HO=sy.diff(v_HO,t)  # alternativ: zweite Ableitung nach x: a_HO=sy.diff(x_HO,t,2)\n",
    "a_HO"
   ]
  },
  {
   "cell_type": "markdown",
   "metadata": {},
   "source": [
    "### Startbedingungen\n",
    "\n",
    "\n"
   ]
  },
  {
   "cell_type": "code",
   "execution_count": null,
   "metadata": {},
   "outputs": [],
   "source": [
    "v0_HO=0     # v0: Geschwindigkeit am Anfang\n",
    "x0_HO=10    # x0: Ort an Anfang"
   ]
  },
  {
   "cell_type": "markdown",
   "metadata": {},
   "source": [
    "### Systemparameter\n"
   ]
  },
  {
   "cell_type": "code",
   "execution_count": null,
   "metadata": {},
   "outputs": [],
   "source": [
    "omega_HO=20     # Kreisfrequenz "
   ]
  },
  {
   "cell_type": "markdown",
   "metadata": {},
   "source": [
    "Symbole $\\omega_0$, $v_0$, $x_0$ durch Zahlen ersetzen: "
   ]
  },
  {
   "cell_type": "code",
   "execution_count": null,
   "metadata": {},
   "outputs": [],
   "source": [
    "x_HO_t=x_los_HO_full.rhs.subs({w0: omega_HO, v0: v0_HO, x0: x0_HO}).evalf()"
   ]
  },
  {
   "cell_type": "markdown",
   "metadata": {},
   "source": [
    "### Zeitskala"
   ]
  },
  {
   "cell_type": "code",
   "execution_count": null,
   "metadata": {},
   "outputs": [],
   "source": [
    "tt_HO=np.linspace(0,2,400)"
   ]
  },
  {
   "cell_type": "markdown",
   "metadata": {},
   "source": [
    "Zeit Symbol durch die Zeitskala ersetzen"
   ]
  },
  {
   "cell_type": "code",
   "execution_count": null,
   "metadata": {},
   "outputs": [],
   "source": [
    "# Ort\n",
    "x_HO_tt=[x_HO_t.subs({t: tn}).evalf() for tn in tt_HO] # Symbol t durch Werte aus dem Zeitbereich tt ersetzen\n",
    "# Geschwindigkeit \n",
    "v_HO_tt=[sy.diff(x_HO_t,t).subs({t: tn}).evalf() for tn in tt_HO]\n",
    "# Beschlenigung \n",
    "a_HO_tt=[sy.diff(x_HO_t,t,2).subs({t: tn}).evalf() for tn in tt_HO]"
   ]
  },
  {
   "cell_type": "markdown",
   "metadata": {},
   "source": [
    "### Graphische Darstellung der Lösung"
   ]
  },
  {
   "cell_type": "code",
   "execution_count": null,
   "metadata": {
    "scrolled": false
   },
   "outputs": [],
   "source": [
    "#plt.figure() # neues Fenster, IMMER ein mal für eine neue interaktive Grafik \n",
    "\n",
    "f,ax=plt.subplots(3,1,figsize=(8,5), sharex='col')\n",
    "\n",
    "# Ort\n",
    "ax[0].plot(tt_HO, x_HO_tt, 'r',label='x(t)') \n",
    "ax[0].set_title('Harmonischer Oszillator')     # fügt Titel ein   \n",
    "ax[0].legend();               # fügt die Legende ein\n",
    "ax[0].set_ylabel('Ort') # fügt y-Achsenbeschriftung ein  \n",
    "ax[0].grid()             \n",
    "\n",
    "# Geschwindigkeit\n",
    "ax[1].plot(tt_HO, v_HO_tt, 'b',label='v(t)') \n",
    "ax[1].legend();               # fügt die Legende ein\n",
    "ax[1].set_ylabel('Geschwindigkeit') # fügt y-Achsenbeschriftung ein  \n",
    "ax[1].grid() \n",
    "\n",
    "# Beschleunigung\n",
    "ax[2].plot(tt_HO, a_HO_tt, 'g',label='a(t)') \n",
    "ax[2].legend()               # fügt die Legende ein\n",
    "ax[2].set_ylabel('Beschleunigung') #fügt y-Achsenbeschriftung ein\n",
    "ax[2].grid() \n",
    "\n",
    "ax[2].set_xlabel('Zeit'); #fügt x-Achsenbeschriftung ein"
   ]
  }
 ],
 "metadata": {
  "kernelspec": {
   "display_name": "Python 3",
   "language": "python",
   "name": "python3"
  },
  "language_info": {
   "codemirror_mode": {
    "name": "ipython",
    "version": 3
   },
   "file_extension": ".py",
   "mimetype": "text/x-python",
   "name": "python",
   "nbconvert_exporter": "python",
   "pygments_lexer": "ipython3",
   "version": "3.8.3"
  }
 },
 "nbformat": 4,
 "nbformat_minor": 2
}
