{
 "cells": [
  {
   "cell_type": "markdown",
   "metadata": {},
   "source": [
    "<div class=\"pull-right\"> \n",
    "<img src= https://upload.wikimedia.org/wikipedia/commons/f/f7/Hochschule_Mannheim_logo.svg \"width=350\" >\n",
    "&emsp;\n",
    "&emsp;\n",
    "&emsp;\n",
    "</div>"
   ]
  },
  {
   "cell_type": "markdown",
   "metadata": {},
   "source": [
    "## Inhalte dieses Kurses\n",
    "\n",
    "- [Erste Schritte](Erste_Schritte.ipynb)\n",
    "- [Python installieren und ausführen](Installation.ipynb)\n",
    "- [Sprint 1: Grundlagen und Numpy](Sprint1.ipynb)\n",
    "- [Sprint 2: Grafiken mit Matplotlib](Sprint2.ipynb)\n",
    "- [Sprint 3: Datenanalyse](Sprint3.ipynb)\n",
    "- [Übungsnotebook zu Booklets 4-6](Übungsnotebook.ipynb)\n",
    "\n",
    "*Optional:*\n",
    "- [*Sprint 4: Sympy*](Sprint4.ipynb)\n",
    "- [*Sprint 5: Funktionen*](Sprint5.ipynb)\n",
    "- [*Sprint 6: Komplexe Zahlen*](Sprint6.ipynb)\n",
    "- [**Beispiel 1: Schwingungen und komplexe Zahlen**](Bsp1_SchwingungenUndKomplexeZahlen.ipynb)\n",
    "- [*Beispiel 2: Harmonischer Oszillator*](Bsp2_HarmonischerOszillator.ipynb)\n",
    "- [*Beispiel 3: Gedämpfter Oszillator*](Bsp3_GedaempfterOszillator.ipynb)\n",
    "- [*Beispiel 4: Erzwungene Schwingung*](Bsp4_ErzwungeneSchwingungen.ipynb)\n",
    "\n",
    "\n",
    "Alle Sprints und Beispiele finden Sie in der [\"Python_Jupyter_Notebooks_verNN.zip\"](https://moodle.hs-mannheim.de/mod/resource/view.php?id=100638)-Datei auf [unserer Moodle-Seite](https://moodle.hs-mannheim.de/course/view.php?id=3062)"
   ]
  },
  {
   "cell_type": "markdown",
   "metadata": {},
   "source": [
    "# Schwingungen und komplexe Zahlen\n",
    "\n",
    "## Schwingungen gleicher Frequenz überlagern \n",
    "\n",
    "\n",
    "Reale Schwingungen haben mit komplexen Zahlen auf dem erstem Blick nichts gemeinsames. Nichtsdestotrotz vereinfachen komplexe Zahlen manche Berechnungen und ermöglichen einfache Interpretation und graphische Darstellung der Schwingungen.\n",
    "\n",
    "In diesem Notebook zeigen wir Ihnen, wie man Schwingungen mit komplexen Zahlen darstellen kann.  \n",
    "Hier haben wir keine besonderen Aufgaben für Sie vorgesehen. Wir ermutigen Sie, mit den Daten zu spielen und Änderungen zu beobachten, wenn diverse Parameter variiert werden. "
   ]
  },
  {
   "cell_type": "markdown",
   "metadata": {},
   "source": [
    "<div class=\"pull-right\"> \n",
    "<img src=\"Bilder/Summe_z_Vektoren.jpg\" width=\"700\">\n",
    "</div>  \n",
    "\n",
    "<br>\n",
    "<br>\n",
    "<br>\n",
    "\n",
    "\n",
    "<div class=\"alert alert-block alert-info\"> \n",
    "Komplexe Zahlen, die Schwingungen repräsentieren ($z_1, z_2, ...$ und ihre Summe $z_{sum}$), kann man in der Gaußschen Ebene als rotierende Vektoren darstellen.\n",
    "</div>   \n",
    "\n",
    "<div class=\"alert alert-block alert-info\"><b></b>     \n",
    "Die eigentliche Schwingung (der Realteil) wird als zeitabhägige Projektion auf die reelle Achse dargestellt. <i>Damit das Bild komplett wird, projizieren wir auch den Imaginärteil auf die imaginäre Achse.</i>\n",
    "</div>\n",
    "\n",
    "<div class=\"alert alert-block alert-info\"> \n",
    "Aus einer Kombination von $\\sin(\\omega t)$ und $\\cos (\\omega t)$ kann man eine beliebige Schwingung mit der Kreisfrequenz $\\omega$  erzeugen. \n",
    "    \n",
    "$\\sin(\\omega t)$ und $\\cos (\\omega t)$ sind sozusagen wie $x$ und $y$ Vektoren im Kartesischen Koordinatensystem, aus denen Kombination man einen beliebigen Vektor in der $xy$-Ebene erstellen kann. \n",
    "    \n",
    "Am einfachsten sieht man die Parallele in der Gaußschen Ebene. \n",
    "</div>    "
   ]
  },
  {
   "cell_type": "code",
   "execution_count": null,
   "metadata": {
    "scrolled": true
   },
   "outputs": [],
   "source": [
    "# wie immer:\n",
    "\n",
    "%matplotlib notebook \n",
    "import matplotlib.pyplot as plt \n",
    "from matplotlib import animation  # für Animationen  \n",
    "\n",
    "# numpy importieren\n",
    "import numpy as np\n",
    "\n",
    "# sympy importieren\n",
    "import sympy as sy"
   ]
  },
  {
   "cell_type": "markdown",
   "metadata": {},
   "source": [
    "### Überlagerung zweier Schwingungen gleicher Frequenz und Richtung   (wie in [wikibooks](https://de.wikibooks.org/wiki/Komplexe_Zahlen/_Anwendung_in_der_klassischen_Physik))\n",
    "\n",
    "Die beiden Schwingungen lauten: \n",
    "\n",
    "\\begin{aligned}\n",
    "x_1\\;&=\\;a_1\\,\\cos(\\omega t+\\varphi_1)\\\\\n",
    "x_2\\;&=\\;a_2\\,\\cos(\\omega t+\\varphi_2)\n",
    "\\end{aligned}\n",
    "\n",
    "Die Summe $x = x_1 + x_2$ wird wir nicht mithilfe von Additionstheoremen berechnet, sondern mit komplexen Zahlen. \n",
    "\n",
    "Die Schwingungen $x_1$ und $x_2$ sind Realteile der komplexen Formen \n",
    "\n",
    "\\begin{array}{cclcl}\n",
    "    x_1&\\to & z_1\\;=\\;a_1\\mathrm {e} ^{\\mathrm {i} \\,(\\omega t +\\varphi_1)}\\\\\n",
    "    x_2&\\to & z_2\\;=\\;a_2\\mathrm {e} ^{\\mathrm {i} \\,(\\omega t +\\varphi_2)}  \n",
    "\\end{array}\n",
    "\n",
    "Die resultierende Schwingung lautet:\n",
    "\n",
    "\\begin{aligned}\n",
    "z\\;=\\;z_1+z_2\\;=\\;(a_1\\,\\mathrm {e} ^{\\mathrm {i} \\,\\varphi_1}+a_2\\,\\mathrm {e} ^{\\mathrm {i} \\,\\varphi_2})\\cdot \\mathrm {e} ^{\\mathrm {i} \\,\\omega t}\\;:=\\;z_0\\,\\cdot \\mathrm {e} ^{\\mathrm {i} \\,\\omega t}\\;=\\;|z_0|\\,\\cdot \\mathrm {e} ^{\\mathrm {i} \\,(\\omega t + \\varphi_0)}\\;\n",
    "\\end{aligned}\n",
    "\n",
    "wo $z_0$ eine komplexe Amplitude ist, ${\\displaystyle z_0\\;=\\;|z_{0}| \\cdot \\mathrm {e} ^{\\mathrm {i} \\,\\varphi_0} }$. \n",
    "\n",
    "\n",
    "$z_0$ ausgeschrieben aus der Polarform <font size=\"1\"> ($e^{i\\,\\varphi}=\\cos\\varphi + i \\sin\\varphi $) </font> : \n",
    "\n",
    "\\begin{aligned}\n",
    "z_0\\;=\\;(a_1\\cos\\varphi_1 + a_2\\cos\\varphi_2) + \\mathrm {i} \\,(a_1\\sin\\varphi_1 + a_2\\sin\\varphi_2)\\;:=\\;C+\\mathrm {i} \\,S \n",
    "\\end{aligned}\n",
    "\n",
    "Hierin bedeuten (C für cos-Terme, S für sin-Terme):\n",
    "\n",
    "\\begin{aligned}\n",
    "C\\;=\\; a_1\\cos\\varphi_1 + a_2\\cos\\varphi_2 \\\\\n",
    "S\\;=\\; a_1\\sin\\varphi_1 + a_2\\sin\\varphi_2\n",
    "\\end{aligned}\n",
    "\n",
    "Die Amplitude der resultierenden Schwingung lautet:\n",
    "\n",
    "${\\displaystyle |z_{0}|\\;=\\;\\sqrt{C^2+S^2} }$\n",
    "\n",
    "Die Phase ergibt sich aus ${\\displaystyle \\;\\tan {\\varphi_0}={\\tfrac{S}{C}}\\!}$.\n",
    "\n",
    "Uns interessiert der Realteil der resultierenden Schwingung, da $x=x_1+x_2=Re(z_1)+Re(z_2)=Re(z)$, i.e. ${\\displaystyle \\;x=|z_{0}|\\cos(\\omega t+\\varphi_0)}$. \n",
    "\n",
    "$x$  hat dieselbe Richtung und dieselbe Frequenz, wie die Ausgangsschwingungen. "
   ]
  },
  {
   "cell_type": "markdown",
   "metadata": {},
   "source": [
    "Hier ein Beispiel, wie man mit `sympy` solche Überlagerung der Schwingungen darstellen kann."
   ]
  },
  {
   "cell_type": "code",
   "execution_count": null,
   "metadata": {},
   "outputs": [],
   "source": [
    "# Amplituden und Phasen der beiden Schwingungen\n",
    "a1=10                       # Amplitude der ersten Schwingung\n",
    "phi1=0                      # Phase der ersten Schwingung\n",
    "a2=10                       # Amplitude der zweiten Schwingung\n",
    "phi2= sy.pi/2               # Phase der zweiten Schwingung\n",
    "\n",
    "# Symbole für komplexe Schwingungen definieren: Amplitude a, Phase phi, Kreisfrequenz w, Zeit t\n",
    "a, phi, w, t=sy.symbols('a phi \\omega t', real=True) # es sollen reelle Zahlen sein, daher die Option real=True \n",
    "\n",
    "# Allgemein: Schwingung in komplexer Exponentialform \n",
    "z_sy=a*sy.exp(sy.I*(w*t+phi))     \n",
    "\n",
    "z1=z_sy.subs(({a: a1, phi: phi1})).evalf()# erste Schwingung: a wird durch a1 ersetzt, und phi durch phi1\n",
    "z2=z_sy.subs(({a: a2, phi: phi2})).evalf()# zweite Schwingung: a->a2, phi->phi2  \n",
    "\n",
    "sy.simplify(z1+z2)    # Komplexe Summe der Schwingungen \n"
   ]
  },
  {
   "cell_type": "code",
   "execution_count": null,
   "metadata": {},
   "outputs": [],
   "source": [
    "sy.simplify(sy.re(z1+z2))    # Realteil der Summe der Schwingungen "
   ]
  },
  {
   "cell_type": "markdown",
   "metadata": {},
   "source": [
    "### Graphische Darstellung der Schwingungen\n",
    "\n",
    "Graphisch kann man komplexe Zahlen, die Schwingungen repräsentieren (z1, z2, ... und ihre Summe), in der Gaußschen Ebene als rotierende Vektoren darstellen, da ihr Argument eine lineare Funktion der Zeit ist. Die Überlagerung zweier Schwingungen wird als vektorielle Summe der Summanden dargestellt.\n",
    "   \n",
    "Der Realteil der Schwingungen (die eigentliche Schwingung) wird als zeitabhägige Projektion auf der reellen Achse dargestellt. Damit das Bild komplett wird, projizieren wir auch den imaginären Teil auf die imaginäre Achse.\n",
    "     \n",
    "\n",
    "Um nicht jedes mal die Grafik neu schreiben zu müssen, haben wir einmal unsere Grafik-Funktion `male_Schwingungen_z_und_y_von_t` definiert. Dieser Funktion übergeben wir als Argumente unsere komplexen Zahlen, Zeit-Skala und den Titel des Graphen. Diese erzeugen wir mit der Funktion `erzeuge_z_Vektoren_und_Summe` aus gegebenen Kreisfrequenzen, Amplituden und Phasen, gegebener Zeitskala. \n",
    "Unsere Grafik-Funktion gibt wiederum Werte zurück, die man als input-Argumente in der `matplotlib animation`-Bibliothek eingebauten `FuncAnimation`-Funktion verwenden kann.  \n",
    "\n",
    "**All diese Funktionen müssen Sie nicht kennen. Betrachten Sie diese als Geschenk für das Corona-Semester. :)   \n",
    "Falls Sie doch sehen wollen, wie die Funktionen aussehen, klicken Sie [hier](Functions4animatedKomplexOscillations.ipynb).**  \n",
    "\n",
    "Um unsere Funktionen, die in einem anderen Notebook definiert sind, zu benutzen, müssen wir dieses Notebook mit dem `%run` Befehl ausführen:    "
   ]
  },
  {
   "cell_type": "code",
   "execution_count": null,
   "metadata": {},
   "outputs": [],
   "source": [
    "%run Functions4animatedKomplexOscillations.ipynb"
   ]
  },
  {
   "cell_type": "markdown",
   "metadata": {},
   "source": [
    "Sie dürfen die hier stehenden Werte variieren, um Änderungen in der Grafiken zu beobachten:"
   ]
  },
  {
   "cell_type": "code",
   "execution_count": null,
   "metadata": {},
   "outputs": [],
   "source": [
    "# konkrete Zahlen, um Schwingungen zu plotten. Damit wir beliebig viele Schwingungen addieren können, \n",
    "# schreiben wir ihre Parameter (Amplitude usw.) als python-Listen in Klammern [] \n",
    "omega=[2*2*sy.pi,2*2*sy.pi]      # Kreisfrequenz, gleich für alle Schwingungen\n",
    "amp  = [10, 5]                   # Amplitude der ersten, zweiten, etc. Schwingung\n",
    "phase= [0, sy.pi/2]              # Phase der ersten, zweiten, etc. Schwingung\n",
    "T=np.linspace(0,2,100)           # Zeitbereich T zum Zeichnen definieren\n",
    "Titel='2 z-Vektoren und ihre Summe in Gauß-Ebene'   "
   ]
  },
  {
   "cell_type": "code",
   "execution_count": null,
   "metadata": {
    "scrolled": false
   },
   "outputs": [],
   "source": [
    "# unsere Funktionen aus dem Functions4animatedKomplexOscillations.ipynb-Notebook anwenden:\n",
    "z_all=erzeuge_z_Vektoren_und_Summe(omega, amp, phase, T)\n",
    "Q, X, Y, fig01, line1, line2, x, y, zeit = male_Schwingungen_z_und_y_von_t(z_all,T,Titel)\n",
    "Intervall=80 # in [ms]: wie schnell soll die Grafik aktualisiert werden\n",
    "anim = animation.FuncAnimation(fig01, update_quiver_and_line, fargs=(Q, X, Y, z_all, zeit, \n",
    "                                                                     x, y, line1, line2, T),\n",
    "                               interval=Intervall, blit=True)\n"
   ]
  }
 ],
 "metadata": {
  "kernelspec": {
   "display_name": "Python 3",
   "language": "python",
   "name": "python3"
  },
  "language_info": {
   "codemirror_mode": {
    "name": "ipython",
    "version": 3
   },
   "file_extension": ".py",
   "mimetype": "text/x-python",
   "name": "python",
   "nbconvert_exporter": "python",
   "pygments_lexer": "ipython3",
   "version": "3.8.3"
  }
 },
 "nbformat": 4,
 "nbformat_minor": 2
}
