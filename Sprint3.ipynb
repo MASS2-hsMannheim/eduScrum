{
 "cells": [
  {
   "cell_type": "markdown",
   "metadata": {},
   "source": [
    "<div class=\"pull-right\"> \n",
    "<img src= https://upload.wikimedia.org/wikipedia/commons/f/f7/Hochschule_Mannheim_logo.svg \"width=350\" >\n",
    "&emsp;\n",
    "&emsp;\n",
    "&emsp;\n",
    "</div>"
   ]
  },
  {
   "cell_type": "markdown",
   "metadata": {},
   "source": [
    "## Inhalte dieses Kurses\n",
    "\n",
    "- [Erste Schritte](Erste_Schritte.ipynb)\n",
    "- [Python installieren und ausführen](Installation.ipynb)\n",
    "- [Sprint 1: Grundlagen und Numpy](Sprint1.ipynb)\n",
    "- [Sprint 2: Grafiken mit Matplotlib](Sprint2.ipynb)\n",
    "- [**Sprint 3: Datenanalyse**](Sprint3.ipynb)\n",
    "- [Übungsnotebook zu Booklets 4-6](Übungsnotebook.ipynb)\n",
    "\n",
    "*Optional:*\n",
    "- [*Sprint 4: Sympy*](Sprint4.ipynb)\n",
    "- [*Sprint 5: Funktionen*](Sprint5.ipynb)\n",
    "- [*Sprint 6: Komplexe Zahlen*](Sprint6.ipynb)\n",
    "- [*Beispiel 1: Schwingungen und komplexe Zahlen*](Bsp1_SchwingungenUndKomplexeZahlen.ipynb)\n",
    "- [*Beispiel 2: Harmonischer Oszillator*](Bsp2_HarmonischerOszillator.ipynb)\n",
    "- [*Beispiel 3: Gedämpfter Oszillator*](Bsp3_GedaempfterOszillator.ipynb)\n",
    "- [*Beispiel 4: Erzwungene Schwingung*](Bsp4_ErzwungeneSchwingungen.ipynb)\n",
    "\n",
    "\n",
    "Alle Sprints und Beispiele finden Sie in der [\"Python_Jupyter_Notebooks_verNN.zip\"](https://moodle.hs-mannheim.de/mod/resource/view.php?id=100638)-Datei auf [unserer Moodle-Seite](https://moodle.hs-mannheim.de/course/view.php?id=3062)"
   ]
  },
  {
   "cell_type": "markdown",
   "metadata": {},
   "source": [
    "# Sprint 3\n",
    "# Datenanalyse"
   ]
  },
  {
   "cell_type": "markdown",
   "metadata": {},
   "source": [
    "In diesem Sprint lernen Sie Daten mit Python einzulesen und erste Datenanalysen durchzuführen. Am Ende dieses Sprints werden Sie ein kleines Experiment auswerten und ihre Ergebnisse grafisch veranschaulichen. "
   ]
  },
  {
   "cell_type": "markdown",
   "metadata": {},
   "source": [
    "## Daten importieren mit Python"
   ]
  },
  {
   "cell_type": "markdown",
   "metadata": {},
   "source": [
    "Im Datenordner `data` finden Sie mehrere Datensätze, die mit dem Smartphone aufgenommen wurden. Dafür wurde die App _[Phyphox](https://phyphox.org/de/home-de/)_ verwendet. Die App visualisiert Daten bereits und man kann Sie vom Smartphone exportieren.\n",
    "\n",
    "Der Datensatz `x_y_Bewegung` wurde aufgenommen als ein Smartphone auf dem Tisch lag und dann in x- bzw. y-Richtung bewegt wurde. Diese beiden Datensätze werden in diesem Notebook als Beispiel verwendet und müssen daher zunächst importiert werden. \n",
    "\n",
    "Wie immer benötigen wir `numpy`. Später in diesem Sprint werden Sie wieder Grafiken erstellen, deshalb importieren Sie auch `Matplotlib`. Mit dem neuen Befehl `np.loadtxt` können wir die Daten einlesen. Sie überspringen durch `skiprows = 1` die erste Zeile, denn in dieser stehen keine Daten. In der ersten Zeile stehen wichtige Informationen, was in welcher Spalte aufgezeichnet wurde. Mit einem Editor Ihrer Wahl (Excel ist **KEIN** Editor) können Sie sich die Daten anschauen und nachvollziehen, wie diese aufgebaut sind."
   ]
  },
  {
   "cell_type": "code",
   "execution_count": null,
   "metadata": {},
   "outputs": [],
   "source": [
    "#wie immer numpy und pyplot importieren\n",
    "%matplotlib inline\n",
    "import numpy as np\n",
    "import matplotlib.pyplot as plt"
   ]
  },
  {
   "cell_type": "code",
   "execution_count": null,
   "metadata": {},
   "outputs": [],
   "source": [
    "data = np.loadtxt('data/x_y_Bewegung.csv', skiprows=1) #liest die Datei \"x_y_Bewegung.csv\" und übersprint die erste Zeile"
   ]
  },
  {
   "cell_type": "markdown",
   "metadata": {},
   "source": [
    "Die einzelnen Spalten und Zeilen solltem im Datensatz mit Tabulatoren getrennt sein. Darauf sollte man achten, wenn man einen Datensatz aufnimmt. Wenn man die Daten nochmal mit beispielsweise `Excel` anschaut muss darauf aber auch geachtet werden. `Excel` ändert unter Umständen den Kommatrenner von `.` auf `,` und setzt zwischen die Spalten `;`. Das führt beim Importieren zu Problemen."
   ]
  },
  {
   "cell_type": "markdown",
   "metadata": {},
   "source": [
    "Um nun die Daten der x,y und z-Richtung zu plotten benötigen Sie die Zeit t, x,y und z als Vektoren. Die Daten sind so aufgebaut, dass in der ersten Spalte die Zeit t gespeichert wird und in Spalte 2,3 und 4 die Beschleunigung in die jeweilige Richtung."
   ]
  },
  {
   "cell_type": "code",
   "execution_count": null,
   "metadata": {},
   "outputs": [],
   "source": [
    "Zeit = data[:,0] #1. Spalte des Arrays \"data\"\n",
    "a_x = data[:,1] #2. Spalte des Arrays \"data\"\n",
    "a_y = data[:,2] #3. Spalte des Arrays \"data\"\n",
    "a_z = data[:,3] #4. Spalte des Arrays \"data\"\n",
    "\n",
    "plt.plot(Zeit, a_x, label = 'a_x')\n",
    "plt.plot(Zeit, a_y, label = 'a_y')\n",
    "plt.plot(Zeit, a_z, label = 'a_z')\n",
    "plt.legend(loc = 'best')\n",
    "plt.xlabel('Zeit [s]')\n",
    "plt.ylabel('Beschleunigung [m/s^2]');"
   ]
  },
  {
   "cell_type": "markdown",
   "metadata": {},
   "source": [
    "Wie Sie im Plot sehen können lag das Smartphone anfangs ca. 14 Sekunden ruhig, bevor es bewegt wurde. Um diesen uninteressanten Zeitraum aus den Vektoren $a_x$, $a_y$ und $a_z$ zu entfernen benötigen wir den Index des Elements bei ca. 14 Sekunden. Deshalb weißen wir den Beschleunigungen nur noch die Elemente $a_x$, $a_y$ und $a_z$ zu, die eine Zeit größer 14 Sekunden haben. Der Vektor $t$ muss dann auch entsprechend angepasst werden, da die Plotfunktion zwei gleichlange Vektoren benötigt."
   ]
  },
  {
   "cell_type": "code",
   "execution_count": null,
   "metadata": {},
   "outputs": [],
   "source": [
    "#Daten erst am Index der Startzeit (14s)\n",
    "a_x = a_x[Zeit > 14]\n",
    "a_y = a_y[Zeit>14]\n",
    "a_z = a_z[Zeit>14]\n",
    "Zeit = Zeit[Zeit>14]\n",
    "plt.plot(Zeit, a_x, label = 'a_x')\n",
    "plt.plot(Zeit, a_y, label = 'a_y')\n",
    "plt.plot(Zeit, a_z, label = 'a_z')\n",
    "plt.legend(loc = 'best')\n",
    "plt.xlabel('Zeit [s]')\n",
    "plt.ylabel('Beschleunigung [m/s^2]');"
   ]
  },
  {
   "cell_type": "markdown",
   "metadata": {},
   "source": [
    "Sie sehen nun, dass nach 20 Sekunden auch nichts mehr passiert. Um den hinteren Teil des Datensetzes abzuschneiden, können Sie ganz ähnlich vorgehen. Diesmal soll aber der größte Index für $ t < 20~\\text{s}$ gefunden werden. Probieren Sie einmal auch den hinteren Teil ab 20 Sekunden abzuschneiden und den Datensatz zu plotten!"
   ]
  },
  {
   "cell_type": "code",
   "execution_count": null,
   "metadata": {},
   "outputs": [],
   "source": [
    "#Ihr Lösung hier"
   ]
  },
  {
   "cell_type": "markdown",
   "metadata": {},
   "source": [
    "<font color='blue'> Doppelklicken Sie <b>hier</b> für die Lösung.</font>\n",
    "<!-- Lösung: \n",
    "#Finde index für Zeit = 20 Sekunden\n",
    "a_x = a_x[Zeit < 20]\n",
    "a_y = a_y[Zeit < 20]\n",
    "a_z = a_z[Zeit < 20]\n",
    "Zeit = Zeit[Zeit < 20]\n",
    "plt.plot(Zeit, a_x, label = 'a_x')\n",
    "plt.plot(Zeit, a_y, label = 'a_y')\n",
    "plt.plot(Zeit, a_z, label = 'a_z')\n",
    "plt.legend(loc = 'best')\n",
    "plt.xlabel('Zeit [s]')\n",
    "plt.ylabel('Beschleunigung [m/s^2]')\n",
    "-->"
   ]
  },
  {
   "cell_type": "markdown",
   "metadata": {},
   "source": [
    "## Datenanalyse mit Python\n",
    "Sie werden nun einige einfache Funktionen zur Datenanalyse kennenlernen. "
   ]
  },
  {
   "cell_type": "markdown",
   "metadata": {
    "scrolled": true
   },
   "source": [
    "- Schauen Sie sich zunächst die Beschleunigung in x- und in y-Richtung an. \n",
    "\n",
    "a) In welche Richtung wurde das Smartphone zuerst bewegt?\n",
    "\n",
    "\n",
    "- $a_z$ ist über die gesamte Messdauer ~ 0. \n",
    "\n",
    "b) Warum ist das so und wurden die Daten eventuell vorverarbeitet?\n",
    "\n",
    "c) Das Smartphone war am Anfang der Messung und am Ende in Ruhe. Welche mittlere Beschleunigung erwarten Sie?"
   ]
  },
  {
   "cell_type": "markdown",
   "metadata": {},
   "source": [
    "<font color='blue'> Doppelklicken Sie <b>hier</b> für die Lösung.</font>\n",
    "<!-- Lösung: \n",
    "a) in x Richtung\n",
    "b) Smartphone liegt auf Tisch und wird dadurch nur in x/y beschleunigt. Die Erdbeschleunigung g zeigt in z-Richtung, daher müsste die Beschleunigung in z-Richtung eigentlich permanent ca 9,81 m/s^2 sein\n",
    "c) mittlere Beschleunigung 0, da am Anfang und am Ende in Ruhe\n",
    "-->"
   ]
  },
  {
   "cell_type": "markdown",
   "metadata": {},
   "source": [
    "Um zu überprüfen, wie hoch die mittlere Beschleunigung in alle Richtungen war, müssen Sie den Mittelwert über die Datenreihe berechnen. Der Datensatz hat über 1000 Zeilen. Daher verwenden wir dazu nun auch Python. `Numpy` hat eine Mittelwertfunktion: `np.mean()`. Im Folgenden ist der Mittelwert in x-Richtung berechnet, ergänzen Sie noch die y- und z-Richtung."
   ]
  },
  {
   "cell_type": "code",
   "execution_count": null,
   "metadata": {},
   "outputs": [],
   "source": [
    "#Mittelwert x-Richtung\n",
    "mean_x = np.mean(a_x)\n",
    "print('Mittelwert x-Richtung: ', mean_x, 'm/s^2')\n",
    "\n",
    "#Mittelwert y-Richtung\n",
    "\n",
    "#Mittelwert z-Richtung"
   ]
  },
  {
   "cell_type": "markdown",
   "metadata": {},
   "source": [
    "<font color='blue'> Doppelklicken Sie <b>hier</b> für die Lösung.</font>\n",
    "<!-- Lösung: \n",
    "#Mittelwert x-Richtung\n",
    "mean_x = np.mean(a_x)\n",
    "print('Mittelwert x-Richtung: ', mean_x, 'm/s^2')\n",
    "#Mittelwert y-Richtung\n",
    "mean_y = np.mean(a_y)\n",
    "print('Mittelwert y-Richtung: ', mean_y, 'm/s^2')\n",
    "#Mittelwert z-Richtung\n",
    "mean_z = np.mean(a_z)\n",
    "print('Mittelwert z-Richtung: ', mean_z, 'm/s^2')\n",
    "-->"
   ]
  },
  {
   "cell_type": "markdown",
   "metadata": {},
   "source": [
    "- Was fällt Ihnen bei den Mittelwerten auf? \n",
    "- Warum ist der Mittelwert nicht genau 0 ?"
   ]
  },
  {
   "cell_type": "markdown",
   "metadata": {},
   "source": [
    "<font color='blue'> Doppelklicken Sie <b>hier</b> für die Lösung.</font>\n",
    "<!-- Lösung: \n",
    "Mittelwert in z-Richtung ist näher bei 0 als in x- und y-Richtung. Messwerte haben immer auch einen Fehler. Keine Messung ist perfekt. Der Sensor mit dem die Daten aufgenommen werden hat einen Messfehler, der beachtet werden muss. Da in z-Richtung keine Bewegung stattgefunden hat fällt dieser Fehler nicht so groß aus wie in x- und y-Richtung. \n",
    "-->"
   ]
  },
  {
   "cell_type": "markdown",
   "metadata": {},
   "source": [
    "Um das **Maximum** oder **Minimum** eines Arrays zu bestimmen gibt es die Funktionen `np.amax()` und `np.amin()`. Um die maximale Beschleunigung in x-Richtung zu bestimmen würden sie folgenden Code verwenden:"
   ]
  },
  {
   "cell_type": "code",
   "execution_count": null,
   "metadata": {},
   "outputs": [],
   "source": [
    "max_a_x = np.amax(a_x) #Maximum in a_x\n",
    "print('maximale Beschleunigung in x-Richtung: ', max_a_x, 'm/s^2')"
   ]
  },
  {
   "cell_type": "markdown",
   "metadata": {},
   "source": [
    "## Aufgaben\n",
    "Sie werden nun Daten auswerten, die während einer Busfahrt aufgenommen wurden. Der Datensatz heißt `Busfahrt.csv` und befindet sich auch im Ordner `data`. "
   ]
  },
  {
   "cell_type": "markdown",
   "metadata": {},
   "source": [
    "### Aufgabe 1 : Daten einlesen(*)\n",
    "\n",
    "- Schauen Sie sich den Datensatz in einem Editor an und finden Sie heraus in welchen Spalten die Zeit, die Geschwindigkeit und die zurückgelegte Strecke zu finden sind."
   ]
  },
  {
   "cell_type": "markdown",
   "metadata": {},
   "source": [
    "<font color='blue'> Doppelklicken Sie <b>hier</b> für die Lösung.</font>\n",
    "<!-- Lösung: \n",
    "In der ersten Zeile stehen die Informationen über die Daten in den Spalten darunter. Die Zeit befindet sich in der 1. Spalte (index 0), die Geschwindkeit in der 6. (index 5) und die Strecke in der 8. (index 7)\n",
    "-->"
   ]
  },
  {
   "cell_type": "markdown",
   "metadata": {},
   "source": [
    "- Lesen Sie nun Zeit, Geschwindigkeit und zurückgelegte Strecke ein."
   ]
  },
  {
   "cell_type": "code",
   "execution_count": null,
   "metadata": {},
   "outputs": [],
   "source": [
    "#Ihre Lösung hier"
   ]
  },
  {
   "cell_type": "markdown",
   "metadata": {},
   "source": [
    "<font color='blue'> Doppelklicken Sie <b>hier</b> für die Lösung.</font>\n",
    "<!-- Lösung: \n",
    "data = np.loadtxt('data/Busfahrt.csv', skiprows=1) #liest die Datei \"Busfahrt.csv\" und übersprint dabei die erste Zeile\n",
    "Zeit = data[:,0] #Zeit in s\n",
    "v = data[:,5] # Geschwindigkeit in m/s\n",
    "s = data[:,7] # Strecke in km\n",
    "-->"
   ]
  },
  {
   "cell_type": "markdown",
   "metadata": {},
   "source": [
    "### Aufgabe 2: Daten grafisch darstellen (**)"
   ]
  },
  {
   "cell_type": "markdown",
   "metadata": {},
   "source": [
    "- Plotten Sie nun Geschwindigkeit und Strecke gegen die Zeit. Überlegen Sie sich sinnvolle Achsenbeschriftungen. "
   ]
  },
  {
   "cell_type": "code",
   "execution_count": null,
   "metadata": {},
   "outputs": [],
   "source": [
    "#Ihre Lösung hier"
   ]
  },
  {
   "cell_type": "markdown",
   "metadata": {},
   "source": [
    "<font color='blue'> Doppelklicken Sie <b>hier</b> für die Lösung.</font>\n",
    "<!-- Lösung: \n",
    "plt.plot(Zeit,v,label= 'Geschwindigkeit')\n",
    "plt.plot(Zeit,s,label= 'Strecke')\n",
    "plt.legend(loc = 'best')\n",
    "plt.xlabel('Zeit [s]')\n",
    "plt.ylabel('v [m/s] / s[km]')\n",
    "-->"
   ]
  },
  {
   "cell_type": "markdown",
   "metadata": {},
   "source": [
    "- Wieviele Haltestellen haben sich auf der Strecke befunden? Wie sicher können Sie sein, dass dieser Wert stimmt?"
   ]
  },
  {
   "cell_type": "markdown",
   "metadata": {},
   "source": [
    "<font color='blue'> Doppelklicken Sie <b>hier</b> für die Lösung.</font>\n",
    "<!-- Lösung: \n",
    "An einer Haltestelle ist die Geschwindigkeit 0. Die Start- und Endhaltestelle mitgezählt gab es also 7 Haltestellen bzw. 5 Zwischenhalte. Da ein Halt an einer Ampel allerdings die gleichen Charakteristika aufweist, kann nicht mit Sicherheit gesagt werden, ob alle 7 Haltevorgänge einer Haltestelle zuzuordnen sind. \n",
    "(Hinweis: der 2. und 5. Halt waren Ampeln)\n",
    "-->"
   ]
  },
  {
   "cell_type": "markdown",
   "metadata": {},
   "source": [
    "- Plotten Sie nun nur den letzten Teil der Fahrt ab $t = {330} \\text{s}$.  Die Zeitachse soll in diesem Plot in Minuten gegeben sein. Wurde in dieser Phase der Fahrt gebremst?  "
   ]
  },
  {
   "cell_type": "code",
   "execution_count": null,
   "metadata": {},
   "outputs": [],
   "source": [
    "#Ihre Lösung hier"
   ]
  },
  {
   "cell_type": "markdown",
   "metadata": {},
   "source": [
    "<font color='blue'> Doppelklicken Sie <b>hier</b> für die Lösung.</font>\n",
    "<!-- Lösung: \n",
    "plt.plot(Zeit[Zeit>330]/60,v[Zeit>330],label= 'Geschwindigkeit')\n",
    "plt.plot(Zeit[Zeit>330]/60,s[Zeit>330],label= 'Strecke')\n",
    "plt.legend(loc = 'best')\n",
    "plt.xlabel('Zeit [min]')\n",
    "plt.ylabel('v [m/s] / s[km]')\n",
    "#bei ca. 6,5 Minuten sinkt die Geschwindigkeit und steigt danach wieder an -> es wurde gebremst\n",
    "-->"
   ]
  },
  {
   "cell_type": "markdown",
   "metadata": {},
   "source": [
    "### Aufgabe 3: Daten analysieren (**)\n",
    "\n",
    "- Wieviele km hat der Bus zurückgelegt?\n",
    "\n",
    "\n",
    "- Die Fahrt fand in der Stadt statt. Hat die Busfahrerin die Geschwindigkeitsbegrenzung von 50 km/h innerorts eingehalten?\n",
    "\n",
    "\n",
    "- Wie hoch war die Durchschnittsgeschwindigkeits des Busses? Berechnen Sie dies auf 2 Arten: mit den Geschwindigkeitsdaten und mit den Streckendaten!"
   ]
  },
  {
   "cell_type": "code",
   "execution_count": null,
   "metadata": {},
   "outputs": [],
   "source": [
    "#Ihre Lösung hier"
   ]
  },
  {
   "cell_type": "markdown",
   "metadata": {},
   "source": [
    "<font color='blue'> Doppelklicken Sie <b>hier</b> für die Lösung.</font>\n",
    "<!-- Lösung: \n",
    "s_max = np.amax(s)\n",
    "print('Der Bus hat ', s_max, 'km zurückgelegt')\n",
    "v_max = np.amax(v) #in m/s\n",
    "v_max_kmh = v_max*3.6 #in km/h\n",
    "print('Der Bus war maximal ', v_max_kmh, 'km/h schnell und hat damit die Geschwindigkeitsbegrenzung eingehalten.')\n",
    "v_mean1 = np.mean(v) #in m/s\n",
    "v_mean2 = s_max*1000/Zeit[-1] #in m/s\n",
    "print('Die mittlere Geschwindigkeit berechnet als Mittelwert der v-Messung ist:',v_mean1,'m/s . Aus der Streckenmessung und v = s/t ergibt sich: ', v_mean2,'m/s .')\n",
    "#Die mittleren Gescwindigkeiten sind in der gleichen Größenordnugn unterscheiden sich aber um ca. 0,6m/s. Dies könnte an Messungenauigkeiten insbesondere in der GPS-Messung der Strecke begründet sein\n",
    "-->"
   ]
  },
  {
   "cell_type": "markdown",
   "metadata": {},
   "source": [
    "[**->Übungsnotebook zu Booklets 4-6**](Übungsnotebook.ipynb)"
   ]
  }
 ],
 "metadata": {
  "kernelspec": {
   "display_name": "Python 3",
   "language": "python",
   "name": "python3"
  },
  "language_info": {
   "codemirror_mode": {
    "name": "ipython",
    "version": 3
   },
   "file_extension": ".py",
   "mimetype": "text/x-python",
   "name": "python",
   "nbconvert_exporter": "python",
   "pygments_lexer": "ipython3",
   "version": "3.8.3"
  }
 },
 "nbformat": 4,
 "nbformat_minor": 2
}
